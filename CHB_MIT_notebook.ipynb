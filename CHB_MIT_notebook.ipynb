{
 "cells": [
  {
   "cell_type": "code",
   "execution_count": 1,
   "id": "01e11d55-564d-41ec-8bff-e9b1f27fc16c",
   "metadata": {},
   "outputs": [],
   "source": [
    "import mne\n",
    "import scipy\n",
    "import matplotlib.pyplot as plt\n",
    "import numpy as np\n",
    "import torch.utils.data as utils\n",
    "import torch\n",
    "import torch.nn as nn\n",
    "import torch.nn.functional as F\n",
    "from tqdm.contrib import tenumerate\n",
    "import os\n",
    "import random\n",
    "import time\n",
    "\n",
    "# Seed\n",
    "seed = 123\n",
    "torch.manual_seed(seed)\n",
    "#torch.cuda.manual_seed(seed)\n",
    "#torch.cuda.manual_seed_all(seed)\n",
    "np.random.seed(seed)\n",
    "random.seed(seed)\n",
    "torch.backends.cudnn.benchmark = False\n",
    "torch.backends.cudnn.deterministic = True"
   ]
  },
  {
   "cell_type": "code",
   "execution_count": 2,
   "id": "d04114d7-f5f4-4ac1-a0ef-3c6ac0c9c6a2",
   "metadata": {},
   "outputs": [
    {
     "name": "stdout",
     "output_type": "stream",
     "text": [
      "Extracting EDF parameters from /home/alexandre.nicolas/dataset2/chb-mit-scalp-eeg-database/chb01/chb01_01.edf...\n",
      "EDF file detected\n",
      "Setting channel info structure...\n",
      "Creating raw.info structure...\n"
     ]
    },
    {
     "name": "stderr",
     "output_type": "stream",
     "text": [
      "/tmp/ipykernel_45915/2331353554.py:11: RuntimeWarning: Channel names are not unique, found duplicates for: {'T8-P8'}. Applying running numbers for duplicates.\n",
      "  raw[0].append(mne.io.read_raw_edf(f\"dataset2/chb-mit-scalp-eeg-database/chb01/chb01_{(s+1):02d}.edf\", preload=True))\n"
     ]
    },
    {
     "name": "stdout",
     "output_type": "stream",
     "text": [
      "Reading 0 ... 921599  =      0.000 ...  3599.996 secs...\n",
      "Extracting EDF parameters from /home/alexandre.nicolas/dataset2/chb-mit-scalp-eeg-database/chb01/chb01_02.edf...\n",
      "EDF file detected\n",
      "Setting channel info structure...\n",
      "Creating raw.info structure...\n",
      "Reading 0 ... 921599  =      0.000 ...  3599.996 secs...\n"
     ]
    },
    {
     "name": "stderr",
     "output_type": "stream",
     "text": [
      "/tmp/ipykernel_45915/2331353554.py:11: RuntimeWarning: Channel names are not unique, found duplicates for: {'T8-P8'}. Applying running numbers for duplicates.\n",
      "  raw[0].append(mne.io.read_raw_edf(f\"dataset2/chb-mit-scalp-eeg-database/chb01/chb01_{(s+1):02d}.edf\", preload=True))\n"
     ]
    },
    {
     "name": "stdout",
     "output_type": "stream",
     "text": [
      "Extracting EDF parameters from /home/alexandre.nicolas/dataset2/chb-mit-scalp-eeg-database/chb01/chb01_03.edf...\n",
      "EDF file detected\n",
      "Setting channel info structure...\n",
      "Creating raw.info structure...\n",
      "Reading 0 ... 921599  =      0.000 ...  3599.996 secs...\n"
     ]
    },
    {
     "name": "stderr",
     "output_type": "stream",
     "text": [
      "/tmp/ipykernel_45915/2331353554.py:11: RuntimeWarning: Channel names are not unique, found duplicates for: {'T8-P8'}. Applying running numbers for duplicates.\n",
      "  raw[0].append(mne.io.read_raw_edf(f\"dataset2/chb-mit-scalp-eeg-database/chb01/chb01_{(s+1):02d}.edf\", preload=True))\n"
     ]
    },
    {
     "name": "stdout",
     "output_type": "stream",
     "text": [
      "Extracting EDF parameters from /home/alexandre.nicolas/dataset2/chb-mit-scalp-eeg-database/chb01/chb01_04.edf...\n",
      "EDF file detected\n",
      "Setting channel info structure...\n",
      "Creating raw.info structure...\n",
      "Reading 0 ... 921599  =      0.000 ...  3599.996 secs...\n"
     ]
    },
    {
     "name": "stderr",
     "output_type": "stream",
     "text": [
      "/tmp/ipykernel_45915/2331353554.py:11: RuntimeWarning: Channel names are not unique, found duplicates for: {'T8-P8'}. Applying running numbers for duplicates.\n",
      "  raw[0].append(mne.io.read_raw_edf(f\"dataset2/chb-mit-scalp-eeg-database/chb01/chb01_{(s+1):02d}.edf\", preload=True))\n"
     ]
    },
    {
     "name": "stdout",
     "output_type": "stream",
     "text": [
      "Extracting EDF parameters from /home/alexandre.nicolas/dataset2/chb-mit-scalp-eeg-database/chb01/chb01_05.edf...\n",
      "EDF file detected\n",
      "Setting channel info structure...\n",
      "Creating raw.info structure...\n",
      "Reading 0 ... 921599  =      0.000 ...  3599.996 secs...\n"
     ]
    },
    {
     "name": "stderr",
     "output_type": "stream",
     "text": [
      "/tmp/ipykernel_45915/2331353554.py:11: RuntimeWarning: Channel names are not unique, found duplicates for: {'T8-P8'}. Applying running numbers for duplicates.\n",
      "  raw[0].append(mne.io.read_raw_edf(f\"dataset2/chb-mit-scalp-eeg-database/chb01/chb01_{(s+1):02d}.edf\", preload=True))\n"
     ]
    },
    {
     "name": "stdout",
     "output_type": "stream",
     "text": [
      "Extracting EDF parameters from /home/alexandre.nicolas/dataset2/chb-mit-scalp-eeg-database/chb01/chb01_06.edf...\n",
      "EDF file detected\n",
      "Setting channel info structure...\n",
      "Creating raw.info structure...\n",
      "Reading 0 ... 921599  =      0.000 ...  3599.996 secs...\n"
     ]
    },
    {
     "name": "stderr",
     "output_type": "stream",
     "text": [
      "/tmp/ipykernel_45915/2331353554.py:11: RuntimeWarning: Channel names are not unique, found duplicates for: {'T8-P8'}. Applying running numbers for duplicates.\n",
      "  raw[0].append(mne.io.read_raw_edf(f\"dataset2/chb-mit-scalp-eeg-database/chb01/chb01_{(s+1):02d}.edf\", preload=True))\n"
     ]
    },
    {
     "name": "stdout",
     "output_type": "stream",
     "text": [
      "Extracting EDF parameters from /home/alexandre.nicolas/dataset2/chb-mit-scalp-eeg-database/chb01/chb01_07.edf...\n",
      "EDF file detected\n",
      "Setting channel info structure...\n",
      "Creating raw.info structure...\n",
      "Reading 0 ... 921599  =      0.000 ...  3599.996 secs...\n"
     ]
    },
    {
     "name": "stderr",
     "output_type": "stream",
     "text": [
      "/tmp/ipykernel_45915/2331353554.py:11: RuntimeWarning: Channel names are not unique, found duplicates for: {'T8-P8'}. Applying running numbers for duplicates.\n",
      "  raw[0].append(mne.io.read_raw_edf(f\"dataset2/chb-mit-scalp-eeg-database/chb01/chb01_{(s+1):02d}.edf\", preload=True))\n"
     ]
    },
    {
     "name": "stdout",
     "output_type": "stream",
     "text": [
      "Extracting EDF parameters from /home/alexandre.nicolas/dataset2/chb-mit-scalp-eeg-database/chb01/chb01_08.edf...\n",
      "EDF file detected\n",
      "Setting channel info structure...\n",
      "Creating raw.info structure...\n",
      "Reading 0 ... 921599  =      0.000 ...  3599.996 secs...\n"
     ]
    },
    {
     "name": "stderr",
     "output_type": "stream",
     "text": [
      "/tmp/ipykernel_45915/2331353554.py:11: RuntimeWarning: Channel names are not unique, found duplicates for: {'T8-P8'}. Applying running numbers for duplicates.\n",
      "  raw[0].append(mne.io.read_raw_edf(f\"dataset2/chb-mit-scalp-eeg-database/chb01/chb01_{(s+1):02d}.edf\", preload=True))\n"
     ]
    },
    {
     "name": "stdout",
     "output_type": "stream",
     "text": [
      "Extracting EDF parameters from /home/alexandre.nicolas/dataset2/chb-mit-scalp-eeg-database/chb01/chb01_09.edf...\n",
      "EDF file detected\n",
      "Setting channel info structure...\n",
      "Creating raw.info structure...\n",
      "Reading 0 ... 921599  =      0.000 ...  3599.996 secs...\n"
     ]
    },
    {
     "name": "stderr",
     "output_type": "stream",
     "text": [
      "/tmp/ipykernel_45915/2331353554.py:11: RuntimeWarning: Channel names are not unique, found duplicates for: {'T8-P8'}. Applying running numbers for duplicates.\n",
      "  raw[0].append(mne.io.read_raw_edf(f\"dataset2/chb-mit-scalp-eeg-database/chb01/chb01_{(s+1):02d}.edf\", preload=True))\n"
     ]
    },
    {
     "name": "stdout",
     "output_type": "stream",
     "text": [
      "Extracting EDF parameters from /home/alexandre.nicolas/dataset2/chb-mit-scalp-eeg-database/chb01/chb01_10.edf...\n",
      "EDF file detected\n",
      "Setting channel info structure...\n",
      "Creating raw.info structure...\n",
      "Reading 0 ... 921599  =      0.000 ...  3599.996 secs...\n"
     ]
    },
    {
     "name": "stderr",
     "output_type": "stream",
     "text": [
      "/tmp/ipykernel_45915/2331353554.py:11: RuntimeWarning: Channel names are not unique, found duplicates for: {'T8-P8'}. Applying running numbers for duplicates.\n",
      "  raw[0].append(mne.io.read_raw_edf(f\"dataset2/chb-mit-scalp-eeg-database/chb01/chb01_{(s+1):02d}.edf\", preload=True))\n"
     ]
    },
    {
     "name": "stdout",
     "output_type": "stream",
     "text": [
      "Extracting EDF parameters from /home/alexandre.nicolas/dataset2/chb-mit-scalp-eeg-database/chb01/chb01_11.edf...\n",
      "EDF file detected\n",
      "Setting channel info structure...\n",
      "Creating raw.info structure...\n",
      "Reading 0 ... 921599  =      0.000 ...  3599.996 secs...\n"
     ]
    },
    {
     "name": "stderr",
     "output_type": "stream",
     "text": [
      "/tmp/ipykernel_45915/2331353554.py:11: RuntimeWarning: Channel names are not unique, found duplicates for: {'T8-P8'}. Applying running numbers for duplicates.\n",
      "  raw[0].append(mne.io.read_raw_edf(f\"dataset2/chb-mit-scalp-eeg-database/chb01/chb01_{(s+1):02d}.edf\", preload=True))\n"
     ]
    },
    {
     "name": "stdout",
     "output_type": "stream",
     "text": [
      "Extracting EDF parameters from /home/alexandre.nicolas/dataset2/chb-mit-scalp-eeg-database/chb01/chb01_12.edf...\n",
      "EDF file detected\n",
      "Setting channel info structure...\n",
      "Creating raw.info structure...\n",
      "Reading 0 ... 921599  =      0.000 ...  3599.996 secs...\n"
     ]
    },
    {
     "name": "stderr",
     "output_type": "stream",
     "text": [
      "/tmp/ipykernel_45915/2331353554.py:11: RuntimeWarning: Channel names are not unique, found duplicates for: {'T8-P8'}. Applying running numbers for duplicates.\n",
      "  raw[0].append(mne.io.read_raw_edf(f\"dataset2/chb-mit-scalp-eeg-database/chb01/chb01_{(s+1):02d}.edf\", preload=True))\n"
     ]
    },
    {
     "name": "stdout",
     "output_type": "stream",
     "text": [
      "Extracting EDF parameters from /home/alexandre.nicolas/dataset2/chb-mit-scalp-eeg-database/chb01/chb01_13.edf...\n",
      "EDF file detected\n",
      "Setting channel info structure...\n",
      "Creating raw.info structure...\n",
      "Reading 0 ... 921599  =      0.000 ...  3599.996 secs...\n"
     ]
    },
    {
     "name": "stderr",
     "output_type": "stream",
     "text": [
      "/tmp/ipykernel_45915/2331353554.py:11: RuntimeWarning: Channel names are not unique, found duplicates for: {'T8-P8'}. Applying running numbers for duplicates.\n",
      "  raw[0].append(mne.io.read_raw_edf(f\"dataset2/chb-mit-scalp-eeg-database/chb01/chb01_{(s+1):02d}.edf\", preload=True))\n"
     ]
    },
    {
     "name": "stdout",
     "output_type": "stream",
     "text": [
      "Extracting EDF parameters from /home/alexandre.nicolas/dataset2/chb-mit-scalp-eeg-database/chb01/chb01_14.edf...\n",
      "EDF file detected\n",
      "Setting channel info structure...\n",
      "Creating raw.info structure...\n",
      "Reading 0 ... 921599  =      0.000 ...  3599.996 secs...\n"
     ]
    },
    {
     "name": "stderr",
     "output_type": "stream",
     "text": [
      "/tmp/ipykernel_45915/2331353554.py:11: RuntimeWarning: Channel names are not unique, found duplicates for: {'T8-P8'}. Applying running numbers for duplicates.\n",
      "  raw[0].append(mne.io.read_raw_edf(f\"dataset2/chb-mit-scalp-eeg-database/chb01/chb01_{(s+1):02d}.edf\", preload=True))\n"
     ]
    },
    {
     "name": "stdout",
     "output_type": "stream",
     "text": [
      "Extracting EDF parameters from /home/alexandre.nicolas/dataset2/chb-mit-scalp-eeg-database/chb01/chb01_15.edf...\n",
      "EDF file detected\n",
      "Setting channel info structure...\n",
      "Creating raw.info structure...\n",
      "Reading 0 ... 921599  =      0.000 ...  3599.996 secs...\n"
     ]
    },
    {
     "name": "stderr",
     "output_type": "stream",
     "text": [
      "/tmp/ipykernel_45915/2331353554.py:11: RuntimeWarning: Channel names are not unique, found duplicates for: {'T8-P8'}. Applying running numbers for duplicates.\n",
      "  raw[0].append(mne.io.read_raw_edf(f\"dataset2/chb-mit-scalp-eeg-database/chb01/chb01_{(s+1):02d}.edf\", preload=True))\n"
     ]
    },
    {
     "name": "stdout",
     "output_type": "stream",
     "text": [
      "Extracting EDF parameters from /home/alexandre.nicolas/dataset2/chb-mit-scalp-eeg-database/chb01/chb01_16.edf...\n",
      "EDF file detected\n",
      "Setting channel info structure...\n",
      "Creating raw.info structure...\n",
      "Reading 0 ... 921599  =      0.000 ...  3599.996 secs...\n"
     ]
    },
    {
     "name": "stderr",
     "output_type": "stream",
     "text": [
      "/tmp/ipykernel_45915/2331353554.py:11: RuntimeWarning: Channel names are not unique, found duplicates for: {'T8-P8'}. Applying running numbers for duplicates.\n",
      "  raw[0].append(mne.io.read_raw_edf(f\"dataset2/chb-mit-scalp-eeg-database/chb01/chb01_{(s+1):02d}.edf\", preload=True))\n"
     ]
    },
    {
     "name": "stdout",
     "output_type": "stream",
     "text": [
      "Extracting EDF parameters from /home/alexandre.nicolas/dataset2/chb-mit-scalp-eeg-database/chb01/chb01_17.edf...\n",
      "EDF file detected\n",
      "Setting channel info structure...\n",
      "Creating raw.info structure...\n",
      "Reading 0 ... 921599  =      0.000 ...  3599.996 secs...\n"
     ]
    },
    {
     "name": "stderr",
     "output_type": "stream",
     "text": [
      "/tmp/ipykernel_45915/2331353554.py:11: RuntimeWarning: Channel names are not unique, found duplicates for: {'T8-P8'}. Applying running numbers for duplicates.\n",
      "  raw[0].append(mne.io.read_raw_edf(f\"dataset2/chb-mit-scalp-eeg-database/chb01/chb01_{(s+1):02d}.edf\", preload=True))\n"
     ]
    },
    {
     "name": "stdout",
     "output_type": "stream",
     "text": [
      "Extracting EDF parameters from /home/alexandre.nicolas/dataset2/chb-mit-scalp-eeg-database/chb01/chb01_18.edf...\n",
      "EDF file detected\n",
      "Setting channel info structure...\n",
      "Creating raw.info structure...\n",
      "Reading 0 ... 921599  =      0.000 ...  3599.996 secs...\n"
     ]
    },
    {
     "name": "stderr",
     "output_type": "stream",
     "text": [
      "/tmp/ipykernel_45915/2331353554.py:11: RuntimeWarning: Channel names are not unique, found duplicates for: {'T8-P8'}. Applying running numbers for duplicates.\n",
      "  raw[0].append(mne.io.read_raw_edf(f\"dataset2/chb-mit-scalp-eeg-database/chb01/chb01_{(s+1):02d}.edf\", preload=True))\n"
     ]
    },
    {
     "name": "stdout",
     "output_type": "stream",
     "text": [
      "Extracting EDF parameters from /home/alexandre.nicolas/dataset2/chb-mit-scalp-eeg-database/chb01/chb01_19.edf...\n",
      "EDF file detected\n",
      "Setting channel info structure...\n",
      "Creating raw.info structure...\n",
      "Reading 0 ... 921599  =      0.000 ...  3599.996 secs...\n"
     ]
    },
    {
     "name": "stderr",
     "output_type": "stream",
     "text": [
      "/tmp/ipykernel_45915/2331353554.py:11: RuntimeWarning: Channel names are not unique, found duplicates for: {'T8-P8'}. Applying running numbers for duplicates.\n",
      "  raw[0].append(mne.io.read_raw_edf(f\"dataset2/chb-mit-scalp-eeg-database/chb01/chb01_{(s+1):02d}.edf\", preload=True))\n"
     ]
    },
    {
     "name": "stdout",
     "output_type": "stream",
     "text": [
      "Extracting EDF parameters from /home/alexandre.nicolas/dataset2/chb-mit-scalp-eeg-database/chb01/chb01_20.edf...\n",
      "EDF file detected\n",
      "Setting channel info structure...\n",
      "Creating raw.info structure...\n",
      "Reading 0 ... 681727  =      0.000 ...  2662.996 secs...\n",
      "Extracting EDF parameters from /home/alexandre.nicolas/dataset2/chb-mit-scalp-eeg-database/chb01/chb01_21.edf...\n",
      "EDF file detected\n",
      "Setting channel info structure...\n",
      "Creating raw.info structure...\n",
      "Reading 0 ... 921599  =      0.000 ...  3599.996 secs...\n"
     ]
    },
    {
     "name": "stderr",
     "output_type": "stream",
     "text": [
      "/tmp/ipykernel_45915/2331353554.py:11: RuntimeWarning: Channel names are not unique, found duplicates for: {'T8-P8'}. Applying running numbers for duplicates.\n",
      "  raw[0].append(mne.io.read_raw_edf(f\"dataset2/chb-mit-scalp-eeg-database/chb01/chb01_{(s+1):02d}.edf\", preload=True))\n",
      "/tmp/ipykernel_45915/2331353554.py:11: RuntimeWarning: Channel names are not unique, found duplicates for: {'T8-P8'}. Applying running numbers for duplicates.\n",
      "  raw[0].append(mne.io.read_raw_edf(f\"dataset2/chb-mit-scalp-eeg-database/chb01/chb01_{(s+1):02d}.edf\", preload=True))\n"
     ]
    },
    {
     "name": "stdout",
     "output_type": "stream",
     "text": [
      "Extracting EDF parameters from /home/alexandre.nicolas/dataset2/chb-mit-scalp-eeg-database/chb01/chb01_22.edf...\n",
      "EDF file detected\n",
      "Setting channel info structure...\n",
      "Creating raw.info structure...\n",
      "Reading 0 ... 921599  =      0.000 ...  3599.996 secs...\n"
     ]
    },
    {
     "name": "stderr",
     "output_type": "stream",
     "text": [
      "/tmp/ipykernel_45915/2331353554.py:11: RuntimeWarning: Channel names are not unique, found duplicates for: {'T8-P8'}. Applying running numbers for duplicates.\n",
      "  raw[0].append(mne.io.read_raw_edf(f\"dataset2/chb-mit-scalp-eeg-database/chb01/chb01_{(s+1):02d}.edf\", preload=True))\n"
     ]
    },
    {
     "name": "stdout",
     "output_type": "stream",
     "text": [
      "Extracting EDF parameters from /home/alexandre.nicolas/dataset2/chb-mit-scalp-eeg-database/chb01/chb01_23.edf...\n",
      "EDF file detected\n",
      "Setting channel info structure...\n",
      "Creating raw.info structure...\n",
      "Reading 0 ... 921599  =      0.000 ...  3599.996 secs...\n"
     ]
    },
    {
     "name": "stderr",
     "output_type": "stream",
     "text": [
      "/tmp/ipykernel_45915/2331353554.py:11: RuntimeWarning: Channel names are not unique, found duplicates for: {'T8-P8'}. Applying running numbers for duplicates.\n",
      "  raw[0].append(mne.io.read_raw_edf(f\"dataset2/chb-mit-scalp-eeg-database/chb01/chb01_{(s+1):02d}.edf\", preload=True))\n"
     ]
    },
    {
     "name": "stdout",
     "output_type": "stream",
     "text": [
      "Extracting EDF parameters from /home/alexandre.nicolas/dataset2/chb-mit-scalp-eeg-database/chb01/chb01_24.edf...\n",
      "EDF file detected\n",
      "Setting channel info structure...\n",
      "Creating raw.info structure...\n",
      "Reading 0 ... 921599  =      0.000 ...  3599.996 secs...\n"
     ]
    },
    {
     "name": "stderr",
     "output_type": "stream",
     "text": [
      "/tmp/ipykernel_45915/2331353554.py:11: RuntimeWarning: Channel names are not unique, found duplicates for: {'T8-P8'}. Applying running numbers for duplicates.\n",
      "  raw[0].append(mne.io.read_raw_edf(f\"dataset2/chb-mit-scalp-eeg-database/chb01/chb01_{(s+1):02d}.edf\", preload=True))\n"
     ]
    },
    {
     "name": "stdout",
     "output_type": "stream",
     "text": [
      "Extracting EDF parameters from /home/alexandre.nicolas/dataset2/chb-mit-scalp-eeg-database/chb01/chb01_25.edf...\n",
      "EDF file detected\n",
      "Setting channel info structure...\n",
      "Creating raw.info structure...\n",
      "Reading 0 ... 921599  =      0.000 ...  3599.996 secs...\n"
     ]
    },
    {
     "name": "stderr",
     "output_type": "stream",
     "text": [
      "/tmp/ipykernel_45915/2331353554.py:11: RuntimeWarning: Channel names are not unique, found duplicates for: {'T8-P8'}. Applying running numbers for duplicates.\n",
      "  raw[0].append(mne.io.read_raw_edf(f\"dataset2/chb-mit-scalp-eeg-database/chb01/chb01_{(s+1):02d}.edf\", preload=True))\n"
     ]
    },
    {
     "name": "stdout",
     "output_type": "stream",
     "text": [
      "Extracting EDF parameters from /home/alexandre.nicolas/dataset2/chb-mit-scalp-eeg-database/chb01/chb01_26.edf...\n",
      "EDF file detected\n",
      "Setting channel info structure...\n",
      "Creating raw.info structure...\n",
      "Reading 0 ... 595199  =      0.000 ...  2324.996 secs...\n",
      "Extracting EDF parameters from /home/alexandre.nicolas/dataset2/chb-mit-scalp-eeg-database/chb01/chb01_27.edf...\n",
      "EDF file detected\n",
      "Setting channel info structure...\n",
      "Creating raw.info structure...\n",
      "Reading 0 ... 153599  =      0.000 ...   599.996 secs...\n",
      "Extracting EDF parameters from /home/alexandre.nicolas/dataset2/chb-mit-scalp-eeg-database/chb01/chb01_29.edf...\n",
      "EDF file detected\n",
      "Setting channel info structure...\n",
      "Creating raw.info structure...\n",
      "Reading 0 ... 921599  =      0.000 ...  3599.996 secs...\n"
     ]
    },
    {
     "name": "stderr",
     "output_type": "stream",
     "text": [
      "/tmp/ipykernel_45915/2331353554.py:11: RuntimeWarning: Channel names are not unique, found duplicates for: {'T8-P8'}. Applying running numbers for duplicates.\n",
      "  raw[0].append(mne.io.read_raw_edf(f\"dataset2/chb-mit-scalp-eeg-database/chb01/chb01_{(s+1):02d}.edf\", preload=True))\n",
      "/tmp/ipykernel_45915/2331353554.py:11: RuntimeWarning: Channel names are not unique, found duplicates for: {'T8-P8'}. Applying running numbers for duplicates.\n",
      "  raw[0].append(mne.io.read_raw_edf(f\"dataset2/chb-mit-scalp-eeg-database/chb01/chb01_{(s+1):02d}.edf\", preload=True))\n",
      "/tmp/ipykernel_45915/2331353554.py:11: RuntimeWarning: Channel names are not unique, found duplicates for: {'T8-P8'}. Applying running numbers for duplicates.\n",
      "  raw[0].append(mne.io.read_raw_edf(f\"dataset2/chb-mit-scalp-eeg-database/chb01/chb01_{(s+1):02d}.edf\", preload=True))\n"
     ]
    },
    {
     "name": "stdout",
     "output_type": "stream",
     "text": [
      "Extracting EDF parameters from /home/alexandre.nicolas/dataset2/chb-mit-scalp-eeg-database/chb01/chb01_30.edf...\n",
      "EDF file detected\n",
      "Setting channel info structure...\n",
      "Creating raw.info structure...\n",
      "Reading 0 ... 921599  =      0.000 ...  3599.996 secs...\n"
     ]
    },
    {
     "name": "stderr",
     "output_type": "stream",
     "text": [
      "/tmp/ipykernel_45915/2331353554.py:11: RuntimeWarning: Channel names are not unique, found duplicates for: {'T8-P8'}. Applying running numbers for duplicates.\n",
      "  raw[0].append(mne.io.read_raw_edf(f\"dataset2/chb-mit-scalp-eeg-database/chb01/chb01_{(s+1):02d}.edf\", preload=True))\n"
     ]
    },
    {
     "name": "stdout",
     "output_type": "stream",
     "text": [
      "Extracting EDF parameters from /home/alexandre.nicolas/dataset2/chb-mit-scalp-eeg-database/chb01/chb01_31.edf...\n",
      "EDF file detected\n",
      "Setting channel info structure...\n",
      "Creating raw.info structure...\n",
      "Reading 0 ... 921599  =      0.000 ...  3599.996 secs...\n"
     ]
    },
    {
     "name": "stderr",
     "output_type": "stream",
     "text": [
      "/tmp/ipykernel_45915/2331353554.py:11: RuntimeWarning: Channel names are not unique, found duplicates for: {'T8-P8'}. Applying running numbers for duplicates.\n",
      "  raw[0].append(mne.io.read_raw_edf(f\"dataset2/chb-mit-scalp-eeg-database/chb01/chb01_{(s+1):02d}.edf\", preload=True))\n"
     ]
    },
    {
     "name": "stdout",
     "output_type": "stream",
     "text": [
      "Extracting EDF parameters from /home/alexandre.nicolas/dataset2/chb-mit-scalp-eeg-database/chb01/chb01_32.edf...\n",
      "EDF file detected\n",
      "Setting channel info structure...\n",
      "Creating raw.info structure...\n",
      "Reading 0 ... 921599  =      0.000 ...  3599.996 secs...\n"
     ]
    },
    {
     "name": "stderr",
     "output_type": "stream",
     "text": [
      "/tmp/ipykernel_45915/2331353554.py:11: RuntimeWarning: Channel names are not unique, found duplicates for: {'T8-P8'}. Applying running numbers for duplicates.\n",
      "  raw[0].append(mne.io.read_raw_edf(f\"dataset2/chb-mit-scalp-eeg-database/chb01/chb01_{(s+1):02d}.edf\", preload=True))\n"
     ]
    },
    {
     "name": "stdout",
     "output_type": "stream",
     "text": [
      "Extracting EDF parameters from /home/alexandre.nicolas/dataset2/chb-mit-scalp-eeg-database/chb01/chb01_33.edf...\n",
      "EDF file detected\n",
      "Setting channel info structure...\n",
      "Creating raw.info structure...\n",
      "Reading 0 ... 921599  =      0.000 ...  3599.996 secs...\n"
     ]
    },
    {
     "name": "stderr",
     "output_type": "stream",
     "text": [
      "/tmp/ipykernel_45915/2331353554.py:11: RuntimeWarning: Channel names are not unique, found duplicates for: {'T8-P8'}. Applying running numbers for duplicates.\n",
      "  raw[0].append(mne.io.read_raw_edf(f\"dataset2/chb-mit-scalp-eeg-database/chb01/chb01_{(s+1):02d}.edf\", preload=True))\n"
     ]
    },
    {
     "name": "stdout",
     "output_type": "stream",
     "text": [
      "Extracting EDF parameters from /home/alexandre.nicolas/dataset2/chb-mit-scalp-eeg-database/chb03/chb03_01.edf...\n",
      "EDF file detected\n",
      "Setting channel info structure...\n",
      "Creating raw.info structure...\n",
      "Reading 0 ... 921599  =      0.000 ...  3599.996 secs...\n"
     ]
    },
    {
     "name": "stderr",
     "output_type": "stream",
     "text": [
      "/tmp/ipykernel_45915/2331353554.py:19: RuntimeWarning: Channel names are not unique, found duplicates for: {'T8-P8'}. Applying running numbers for duplicates.\n",
      "  raw[1].append(mne.io.read_raw_edf(f\"dataset2/chb-mit-scalp-eeg-database/chb03/chb03_{(s+1):02d}.edf\", preload=True))\n"
     ]
    },
    {
     "name": "stdout",
     "output_type": "stream",
     "text": [
      "Extracting EDF parameters from /home/alexandre.nicolas/dataset2/chb-mit-scalp-eeg-database/chb03/chb03_02.edf...\n",
      "EDF file detected\n",
      "Setting channel info structure...\n",
      "Creating raw.info structure...\n",
      "Reading 0 ... 921599  =      0.000 ...  3599.996 secs...\n"
     ]
    },
    {
     "name": "stderr",
     "output_type": "stream",
     "text": [
      "/tmp/ipykernel_45915/2331353554.py:19: RuntimeWarning: Channel names are not unique, found duplicates for: {'T8-P8'}. Applying running numbers for duplicates.\n",
      "  raw[1].append(mne.io.read_raw_edf(f\"dataset2/chb-mit-scalp-eeg-database/chb03/chb03_{(s+1):02d}.edf\", preload=True))\n"
     ]
    },
    {
     "name": "stdout",
     "output_type": "stream",
     "text": [
      "Extracting EDF parameters from /home/alexandre.nicolas/dataset2/chb-mit-scalp-eeg-database/chb03/chb03_03.edf...\n",
      "EDF file detected\n",
      "Setting channel info structure...\n",
      "Creating raw.info structure...\n",
      "Reading 0 ... 921599  =      0.000 ...  3599.996 secs...\n"
     ]
    },
    {
     "name": "stderr",
     "output_type": "stream",
     "text": [
      "/tmp/ipykernel_45915/2331353554.py:19: RuntimeWarning: Channel names are not unique, found duplicates for: {'T8-P8'}. Applying running numbers for duplicates.\n",
      "  raw[1].append(mne.io.read_raw_edf(f\"dataset2/chb-mit-scalp-eeg-database/chb03/chb03_{(s+1):02d}.edf\", preload=True))\n"
     ]
    },
    {
     "name": "stdout",
     "output_type": "stream",
     "text": [
      "Extracting EDF parameters from /home/alexandre.nicolas/dataset2/chb-mit-scalp-eeg-database/chb03/chb03_04.edf...\n",
      "EDF file detected\n",
      "Setting channel info structure...\n",
      "Creating raw.info structure...\n",
      "Reading 0 ... 921599  =      0.000 ...  3599.996 secs...\n"
     ]
    },
    {
     "name": "stderr",
     "output_type": "stream",
     "text": [
      "/tmp/ipykernel_45915/2331353554.py:19: RuntimeWarning: Channel names are not unique, found duplicates for: {'T8-P8'}. Applying running numbers for duplicates.\n",
      "  raw[1].append(mne.io.read_raw_edf(f\"dataset2/chb-mit-scalp-eeg-database/chb03/chb03_{(s+1):02d}.edf\", preload=True))\n"
     ]
    },
    {
     "name": "stdout",
     "output_type": "stream",
     "text": [
      "Extracting EDF parameters from /home/alexandre.nicolas/dataset2/chb-mit-scalp-eeg-database/chb03/chb03_05.edf...\n",
      "EDF file detected\n",
      "Setting channel info structure...\n",
      "Creating raw.info structure...\n",
      "Reading 0 ... 921599  =      0.000 ...  3599.996 secs...\n"
     ]
    },
    {
     "name": "stderr",
     "output_type": "stream",
     "text": [
      "/tmp/ipykernel_45915/2331353554.py:19: RuntimeWarning: Channel names are not unique, found duplicates for: {'T8-P8'}. Applying running numbers for duplicates.\n",
      "  raw[1].append(mne.io.read_raw_edf(f\"dataset2/chb-mit-scalp-eeg-database/chb03/chb03_{(s+1):02d}.edf\", preload=True))\n"
     ]
    },
    {
     "name": "stdout",
     "output_type": "stream",
     "text": [
      "Extracting EDF parameters from /home/alexandre.nicolas/dataset2/chb-mit-scalp-eeg-database/chb03/chb03_06.edf...\n",
      "EDF file detected\n",
      "Setting channel info structure...\n",
      "Creating raw.info structure...\n",
      "Reading 0 ... 921599  =      0.000 ...  3599.996 secs...\n"
     ]
    },
    {
     "name": "stderr",
     "output_type": "stream",
     "text": [
      "/tmp/ipykernel_45915/2331353554.py:19: RuntimeWarning: Channel names are not unique, found duplicates for: {'T8-P8'}. Applying running numbers for duplicates.\n",
      "  raw[1].append(mne.io.read_raw_edf(f\"dataset2/chb-mit-scalp-eeg-database/chb03/chb03_{(s+1):02d}.edf\", preload=True))\n"
     ]
    },
    {
     "name": "stdout",
     "output_type": "stream",
     "text": [
      "Extracting EDF parameters from /home/alexandre.nicolas/dataset2/chb-mit-scalp-eeg-database/chb03/chb03_07.edf...\n",
      "EDF file detected\n",
      "Setting channel info structure...\n",
      "Creating raw.info structure...\n",
      "Reading 0 ... 921599  =      0.000 ...  3599.996 secs...\n"
     ]
    },
    {
     "name": "stderr",
     "output_type": "stream",
     "text": [
      "/tmp/ipykernel_45915/2331353554.py:19: RuntimeWarning: Channel names are not unique, found duplicates for: {'T8-P8'}. Applying running numbers for duplicates.\n",
      "  raw[1].append(mne.io.read_raw_edf(f\"dataset2/chb-mit-scalp-eeg-database/chb03/chb03_{(s+1):02d}.edf\", preload=True))\n"
     ]
    },
    {
     "name": "stdout",
     "output_type": "stream",
     "text": [
      "Extracting EDF parameters from /home/alexandre.nicolas/dataset2/chb-mit-scalp-eeg-database/chb03/chb03_08.edf...\n",
      "EDF file detected\n",
      "Setting channel info structure...\n",
      "Creating raw.info structure...\n",
      "Reading 0 ... 921599  =      0.000 ...  3599.996 secs...\n"
     ]
    },
    {
     "name": "stderr",
     "output_type": "stream",
     "text": [
      "/tmp/ipykernel_45915/2331353554.py:19: RuntimeWarning: Channel names are not unique, found duplicates for: {'T8-P8'}. Applying running numbers for duplicates.\n",
      "  raw[1].append(mne.io.read_raw_edf(f\"dataset2/chb-mit-scalp-eeg-database/chb03/chb03_{(s+1):02d}.edf\", preload=True))\n"
     ]
    },
    {
     "name": "stdout",
     "output_type": "stream",
     "text": [
      "Extracting EDF parameters from /home/alexandre.nicolas/dataset2/chb-mit-scalp-eeg-database/chb03/chb03_09.edf...\n",
      "EDF file detected\n",
      "Setting channel info structure...\n",
      "Creating raw.info structure...\n",
      "Reading 0 ... 921599  =      0.000 ...  3599.996 secs...\n"
     ]
    },
    {
     "name": "stderr",
     "output_type": "stream",
     "text": [
      "/tmp/ipykernel_45915/2331353554.py:19: RuntimeWarning: Channel names are not unique, found duplicates for: {'T8-P8'}. Applying running numbers for duplicates.\n",
      "  raw[1].append(mne.io.read_raw_edf(f\"dataset2/chb-mit-scalp-eeg-database/chb03/chb03_{(s+1):02d}.edf\", preload=True))\n"
     ]
    },
    {
     "name": "stdout",
     "output_type": "stream",
     "text": [
      "Extracting EDF parameters from /home/alexandre.nicolas/dataset2/chb-mit-scalp-eeg-database/chb03/chb03_10.edf...\n",
      "EDF file detected\n",
      "Setting channel info structure...\n",
      "Creating raw.info structure...\n",
      "Reading 0 ... 921599  =      0.000 ...  3599.996 secs...\n"
     ]
    },
    {
     "name": "stderr",
     "output_type": "stream",
     "text": [
      "/tmp/ipykernel_45915/2331353554.py:19: RuntimeWarning: Channel names are not unique, found duplicates for: {'T8-P8'}. Applying running numbers for duplicates.\n",
      "  raw[1].append(mne.io.read_raw_edf(f\"dataset2/chb-mit-scalp-eeg-database/chb03/chb03_{(s+1):02d}.edf\", preload=True))\n"
     ]
    },
    {
     "name": "stdout",
     "output_type": "stream",
     "text": [
      "Extracting EDF parameters from /home/alexandre.nicolas/dataset2/chb-mit-scalp-eeg-database/chb03/chb03_11.edf...\n",
      "EDF file detected\n",
      "Setting channel info structure...\n",
      "Creating raw.info structure...\n",
      "Reading 0 ... 921599  =      0.000 ...  3599.996 secs...\n"
     ]
    },
    {
     "name": "stderr",
     "output_type": "stream",
     "text": [
      "/tmp/ipykernel_45915/2331353554.py:19: RuntimeWarning: Channel names are not unique, found duplicates for: {'T8-P8'}. Applying running numbers for duplicates.\n",
      "  raw[1].append(mne.io.read_raw_edf(f\"dataset2/chb-mit-scalp-eeg-database/chb03/chb03_{(s+1):02d}.edf\", preload=True))\n"
     ]
    },
    {
     "name": "stdout",
     "output_type": "stream",
     "text": [
      "Extracting EDF parameters from /home/alexandre.nicolas/dataset2/chb-mit-scalp-eeg-database/chb03/chb03_12.edf...\n",
      "EDF file detected\n",
      "Setting channel info structure...\n",
      "Creating raw.info structure...\n",
      "Reading 0 ... 921599  =      0.000 ...  3599.996 secs...\n"
     ]
    },
    {
     "name": "stderr",
     "output_type": "stream",
     "text": [
      "/tmp/ipykernel_45915/2331353554.py:19: RuntimeWarning: Channel names are not unique, found duplicates for: {'T8-P8'}. Applying running numbers for duplicates.\n",
      "  raw[1].append(mne.io.read_raw_edf(f\"dataset2/chb-mit-scalp-eeg-database/chb03/chb03_{(s+1):02d}.edf\", preload=True))\n"
     ]
    },
    {
     "name": "stdout",
     "output_type": "stream",
     "text": [
      "Extracting EDF parameters from /home/alexandre.nicolas/dataset2/chb-mit-scalp-eeg-database/chb03/chb03_13.edf...\n",
      "EDF file detected\n",
      "Setting channel info structure...\n",
      "Creating raw.info structure...\n",
      "Reading 0 ... 921599  =      0.000 ...  3599.996 secs...\n"
     ]
    },
    {
     "name": "stderr",
     "output_type": "stream",
     "text": [
      "/tmp/ipykernel_45915/2331353554.py:19: RuntimeWarning: Channel names are not unique, found duplicates for: {'T8-P8'}. Applying running numbers for duplicates.\n",
      "  raw[1].append(mne.io.read_raw_edf(f\"dataset2/chb-mit-scalp-eeg-database/chb03/chb03_{(s+1):02d}.edf\", preload=True))\n"
     ]
    },
    {
     "name": "stdout",
     "output_type": "stream",
     "text": [
      "Extracting EDF parameters from /home/alexandre.nicolas/dataset2/chb-mit-scalp-eeg-database/chb03/chb03_14.edf...\n",
      "EDF file detected\n",
      "Setting channel info structure...\n",
      "Creating raw.info structure...\n",
      "Reading 0 ... 921599  =      0.000 ...  3599.996 secs...\n"
     ]
    },
    {
     "name": "stderr",
     "output_type": "stream",
     "text": [
      "/tmp/ipykernel_45915/2331353554.py:19: RuntimeWarning: Channel names are not unique, found duplicates for: {'T8-P8'}. Applying running numbers for duplicates.\n",
      "  raw[1].append(mne.io.read_raw_edf(f\"dataset2/chb-mit-scalp-eeg-database/chb03/chb03_{(s+1):02d}.edf\", preload=True))\n"
     ]
    },
    {
     "name": "stdout",
     "output_type": "stream",
     "text": [
      "Extracting EDF parameters from /home/alexandre.nicolas/dataset2/chb-mit-scalp-eeg-database/chb03/chb03_15.edf...\n",
      "EDF file detected\n",
      "Setting channel info structure...\n",
      "Creating raw.info structure...\n",
      "Reading 0 ... 921599  =      0.000 ...  3599.996 secs...\n"
     ]
    },
    {
     "name": "stderr",
     "output_type": "stream",
     "text": [
      "/tmp/ipykernel_45915/2331353554.py:19: RuntimeWarning: Channel names are not unique, found duplicates for: {'T8-P8'}. Applying running numbers for duplicates.\n",
      "  raw[1].append(mne.io.read_raw_edf(f\"dataset2/chb-mit-scalp-eeg-database/chb03/chb03_{(s+1):02d}.edf\", preload=True))\n"
     ]
    },
    {
     "name": "stdout",
     "output_type": "stream",
     "text": [
      "Extracting EDF parameters from /home/alexandre.nicolas/dataset2/chb-mit-scalp-eeg-database/chb03/chb03_16.edf...\n",
      "EDF file detected\n",
      "Setting channel info structure...\n",
      "Creating raw.info structure...\n",
      "Reading 0 ... 921599  =      0.000 ...  3599.996 secs...\n"
     ]
    },
    {
     "name": "stderr",
     "output_type": "stream",
     "text": [
      "/tmp/ipykernel_45915/2331353554.py:19: RuntimeWarning: Channel names are not unique, found duplicates for: {'T8-P8'}. Applying running numbers for duplicates.\n",
      "  raw[1].append(mne.io.read_raw_edf(f\"dataset2/chb-mit-scalp-eeg-database/chb03/chb03_{(s+1):02d}.edf\", preload=True))\n"
     ]
    },
    {
     "name": "stdout",
     "output_type": "stream",
     "text": [
      "Extracting EDF parameters from /home/alexandre.nicolas/dataset2/chb-mit-scalp-eeg-database/chb03/chb03_17.edf...\n",
      "EDF file detected\n",
      "Setting channel info structure...\n",
      "Creating raw.info structure...\n",
      "Reading 0 ... 921599  =      0.000 ...  3599.996 secs...\n"
     ]
    },
    {
     "name": "stderr",
     "output_type": "stream",
     "text": [
      "/tmp/ipykernel_45915/2331353554.py:19: RuntimeWarning: Channel names are not unique, found duplicates for: {'T8-P8'}. Applying running numbers for duplicates.\n",
      "  raw[1].append(mne.io.read_raw_edf(f\"dataset2/chb-mit-scalp-eeg-database/chb03/chb03_{(s+1):02d}.edf\", preload=True))\n"
     ]
    },
    {
     "name": "stdout",
     "output_type": "stream",
     "text": [
      "Extracting EDF parameters from /home/alexandre.nicolas/dataset2/chb-mit-scalp-eeg-database/chb03/chb03_18.edf...\n",
      "EDF file detected\n",
      "Setting channel info structure...\n",
      "Creating raw.info structure...\n",
      "Reading 0 ... 921599  =      0.000 ...  3599.996 secs...\n"
     ]
    },
    {
     "name": "stderr",
     "output_type": "stream",
     "text": [
      "/tmp/ipykernel_45915/2331353554.py:19: RuntimeWarning: Channel names are not unique, found duplicates for: {'T8-P8'}. Applying running numbers for duplicates.\n",
      "  raw[1].append(mne.io.read_raw_edf(f\"dataset2/chb-mit-scalp-eeg-database/chb03/chb03_{(s+1):02d}.edf\", preload=True))\n"
     ]
    },
    {
     "name": "stdout",
     "output_type": "stream",
     "text": [
      "Extracting EDF parameters from /home/alexandre.nicolas/dataset2/chb-mit-scalp-eeg-database/chb03/chb03_19.edf...\n",
      "EDF file detected\n",
      "Setting channel info structure...\n",
      "Creating raw.info structure...\n",
      "Reading 0 ... 921599  =      0.000 ...  3599.996 secs...\n"
     ]
    },
    {
     "name": "stderr",
     "output_type": "stream",
     "text": [
      "/tmp/ipykernel_45915/2331353554.py:19: RuntimeWarning: Channel names are not unique, found duplicates for: {'T8-P8'}. Applying running numbers for duplicates.\n",
      "  raw[1].append(mne.io.read_raw_edf(f\"dataset2/chb-mit-scalp-eeg-database/chb03/chb03_{(s+1):02d}.edf\", preload=True))\n"
     ]
    },
    {
     "name": "stdout",
     "output_type": "stream",
     "text": [
      "Extracting EDF parameters from /home/alexandre.nicolas/dataset2/chb-mit-scalp-eeg-database/chb03/chb03_20.edf...\n",
      "EDF file detected\n",
      "Setting channel info structure...\n",
      "Creating raw.info structure...\n",
      "Reading 0 ... 923135  =      0.000 ...  3605.996 secs...\n"
     ]
    },
    {
     "name": "stderr",
     "output_type": "stream",
     "text": [
      "/tmp/ipykernel_45915/2331353554.py:19: RuntimeWarning: Channel names are not unique, found duplicates for: {'T8-P8'}. Applying running numbers for duplicates.\n",
      "  raw[1].append(mne.io.read_raw_edf(f\"dataset2/chb-mit-scalp-eeg-database/chb03/chb03_{(s+1):02d}.edf\", preload=True))\n"
     ]
    },
    {
     "name": "stdout",
     "output_type": "stream",
     "text": [
      "Extracting EDF parameters from /home/alexandre.nicolas/dataset2/chb-mit-scalp-eeg-database/chb03/chb03_21.edf...\n",
      "EDF file detected\n",
      "Setting channel info structure...\n",
      "Creating raw.info structure...\n",
      "Reading 0 ... 921599  =      0.000 ...  3599.996 secs...\n"
     ]
    },
    {
     "name": "stderr",
     "output_type": "stream",
     "text": [
      "/tmp/ipykernel_45915/2331353554.py:19: RuntimeWarning: Channel names are not unique, found duplicates for: {'T8-P8'}. Applying running numbers for duplicates.\n",
      "  raw[1].append(mne.io.read_raw_edf(f\"dataset2/chb-mit-scalp-eeg-database/chb03/chb03_{(s+1):02d}.edf\", preload=True))\n"
     ]
    },
    {
     "name": "stdout",
     "output_type": "stream",
     "text": [
      "Extracting EDF parameters from /home/alexandre.nicolas/dataset2/chb-mit-scalp-eeg-database/chb03/chb03_22.edf...\n",
      "EDF file detected\n",
      "Setting channel info structure...\n",
      "Creating raw.info structure...\n",
      "Reading 0 ... 921599  =      0.000 ...  3599.996 secs...\n"
     ]
    },
    {
     "name": "stderr",
     "output_type": "stream",
     "text": [
      "/tmp/ipykernel_45915/2331353554.py:19: RuntimeWarning: Channel names are not unique, found duplicates for: {'T8-P8'}. Applying running numbers for duplicates.\n",
      "  raw[1].append(mne.io.read_raw_edf(f\"dataset2/chb-mit-scalp-eeg-database/chb03/chb03_{(s+1):02d}.edf\", preload=True))\n"
     ]
    },
    {
     "name": "stdout",
     "output_type": "stream",
     "text": [
      "Extracting EDF parameters from /home/alexandre.nicolas/dataset2/chb-mit-scalp-eeg-database/chb03/chb03_23.edf...\n",
      "EDF file detected\n",
      "Setting channel info structure...\n",
      "Creating raw.info structure...\n",
      "Reading 0 ... 921599  =      0.000 ...  3599.996 secs...\n"
     ]
    },
    {
     "name": "stderr",
     "output_type": "stream",
     "text": [
      "/tmp/ipykernel_45915/2331353554.py:19: RuntimeWarning: Channel names are not unique, found duplicates for: {'T8-P8'}. Applying running numbers for duplicates.\n",
      "  raw[1].append(mne.io.read_raw_edf(f\"dataset2/chb-mit-scalp-eeg-database/chb03/chb03_{(s+1):02d}.edf\", preload=True))\n"
     ]
    },
    {
     "name": "stdout",
     "output_type": "stream",
     "text": [
      "Extracting EDF parameters from /home/alexandre.nicolas/dataset2/chb-mit-scalp-eeg-database/chb03/chb03_24.edf...\n",
      "EDF file detected\n",
      "Setting channel info structure...\n",
      "Creating raw.info structure...\n",
      "Reading 0 ... 921599  =      0.000 ...  3599.996 secs...\n"
     ]
    },
    {
     "name": "stderr",
     "output_type": "stream",
     "text": [
      "/tmp/ipykernel_45915/2331353554.py:19: RuntimeWarning: Channel names are not unique, found duplicates for: {'T8-P8'}. Applying running numbers for duplicates.\n",
      "  raw[1].append(mne.io.read_raw_edf(f\"dataset2/chb-mit-scalp-eeg-database/chb03/chb03_{(s+1):02d}.edf\", preload=True))\n"
     ]
    },
    {
     "name": "stdout",
     "output_type": "stream",
     "text": [
      "Extracting EDF parameters from /home/alexandre.nicolas/dataset2/chb-mit-scalp-eeg-database/chb03/chb03_25.edf...\n",
      "EDF file detected\n",
      "Setting channel info structure...\n",
      "Creating raw.info structure...\n",
      "Reading 0 ... 921599  =      0.000 ...  3599.996 secs...\n"
     ]
    },
    {
     "name": "stderr",
     "output_type": "stream",
     "text": [
      "/tmp/ipykernel_45915/2331353554.py:19: RuntimeWarning: Channel names are not unique, found duplicates for: {'T8-P8'}. Applying running numbers for duplicates.\n",
      "  raw[1].append(mne.io.read_raw_edf(f\"dataset2/chb-mit-scalp-eeg-database/chb03/chb03_{(s+1):02d}.edf\", preload=True))\n"
     ]
    },
    {
     "name": "stdout",
     "output_type": "stream",
     "text": [
      "Extracting EDF parameters from /home/alexandre.nicolas/dataset2/chb-mit-scalp-eeg-database/chb03/chb03_26.edf...\n",
      "EDF file detected\n",
      "Setting channel info structure...\n",
      "Creating raw.info structure...\n",
      "Reading 0 ... 921599  =      0.000 ...  3599.996 secs...\n"
     ]
    },
    {
     "name": "stderr",
     "output_type": "stream",
     "text": [
      "/tmp/ipykernel_45915/2331353554.py:19: RuntimeWarning: Channel names are not unique, found duplicates for: {'T8-P8'}. Applying running numbers for duplicates.\n",
      "  raw[1].append(mne.io.read_raw_edf(f\"dataset2/chb-mit-scalp-eeg-database/chb03/chb03_{(s+1):02d}.edf\", preload=True))\n"
     ]
    },
    {
     "name": "stdout",
     "output_type": "stream",
     "text": [
      "Extracting EDF parameters from /home/alexandre.nicolas/dataset2/chb-mit-scalp-eeg-database/chb03/chb03_27.edf...\n",
      "EDF file detected\n",
      "Setting channel info structure...\n",
      "Creating raw.info structure...\n",
      "Reading 0 ... 921599  =      0.000 ...  3599.996 secs...\n"
     ]
    },
    {
     "name": "stderr",
     "output_type": "stream",
     "text": [
      "/tmp/ipykernel_45915/2331353554.py:19: RuntimeWarning: Channel names are not unique, found duplicates for: {'T8-P8'}. Applying running numbers for duplicates.\n",
      "  raw[1].append(mne.io.read_raw_edf(f\"dataset2/chb-mit-scalp-eeg-database/chb03/chb03_{(s+1):02d}.edf\", preload=True))\n"
     ]
    },
    {
     "name": "stdout",
     "output_type": "stream",
     "text": [
      "Extracting EDF parameters from /home/alexandre.nicolas/dataset2/chb-mit-scalp-eeg-database/chb03/chb03_28.edf...\n",
      "EDF file detected\n",
      "Setting channel info structure...\n",
      "Creating raw.info structure...\n",
      "Reading 0 ... 921599  =      0.000 ...  3599.996 secs...\n"
     ]
    },
    {
     "name": "stderr",
     "output_type": "stream",
     "text": [
      "/tmp/ipykernel_45915/2331353554.py:19: RuntimeWarning: Channel names are not unique, found duplicates for: {'T8-P8'}. Applying running numbers for duplicates.\n",
      "  raw[1].append(mne.io.read_raw_edf(f\"dataset2/chb-mit-scalp-eeg-database/chb03/chb03_{(s+1):02d}.edf\", preload=True))\n"
     ]
    },
    {
     "name": "stdout",
     "output_type": "stream",
     "text": [
      "Extracting EDF parameters from /home/alexandre.nicolas/dataset2/chb-mit-scalp-eeg-database/chb03/chb03_29.edf...\n",
      "EDF file detected\n",
      "Setting channel info structure...\n",
      "Creating raw.info structure...\n",
      "Reading 0 ... 921599  =      0.000 ...  3599.996 secs...\n"
     ]
    },
    {
     "name": "stderr",
     "output_type": "stream",
     "text": [
      "/tmp/ipykernel_45915/2331353554.py:19: RuntimeWarning: Channel names are not unique, found duplicates for: {'T8-P8'}. Applying running numbers for duplicates.\n",
      "  raw[1].append(mne.io.read_raw_edf(f\"dataset2/chb-mit-scalp-eeg-database/chb03/chb03_{(s+1):02d}.edf\", preload=True))\n"
     ]
    },
    {
     "name": "stdout",
     "output_type": "stream",
     "text": [
      "Extracting EDF parameters from /home/alexandre.nicolas/dataset2/chb-mit-scalp-eeg-database/chb03/chb03_30.edf...\n",
      "EDF file detected\n",
      "Setting channel info structure...\n",
      "Creating raw.info structure...\n",
      "Reading 0 ... 921599  =      0.000 ...  3599.996 secs...\n"
     ]
    },
    {
     "name": "stderr",
     "output_type": "stream",
     "text": [
      "/tmp/ipykernel_45915/2331353554.py:19: RuntimeWarning: Channel names are not unique, found duplicates for: {'T8-P8'}. Applying running numbers for duplicates.\n",
      "  raw[1].append(mne.io.read_raw_edf(f\"dataset2/chb-mit-scalp-eeg-database/chb03/chb03_{(s+1):02d}.edf\", preload=True))\n"
     ]
    },
    {
     "name": "stdout",
     "output_type": "stream",
     "text": [
      "Extracting EDF parameters from /home/alexandre.nicolas/dataset2/chb-mit-scalp-eeg-database/chb03/chb03_31.edf...\n",
      "EDF file detected\n",
      "Setting channel info structure...\n",
      "Creating raw.info structure...\n",
      "Reading 0 ... 921599  =      0.000 ...  3599.996 secs...\n"
     ]
    },
    {
     "name": "stderr",
     "output_type": "stream",
     "text": [
      "/tmp/ipykernel_45915/2331353554.py:19: RuntimeWarning: Channel names are not unique, found duplicates for: {'T8-P8'}. Applying running numbers for duplicates.\n",
      "  raw[1].append(mne.io.read_raw_edf(f\"dataset2/chb-mit-scalp-eeg-database/chb03/chb03_{(s+1):02d}.edf\", preload=True))\n"
     ]
    },
    {
     "name": "stdout",
     "output_type": "stream",
     "text": [
      "Extracting EDF parameters from /home/alexandre.nicolas/dataset2/chb-mit-scalp-eeg-database/chb03/chb03_32.edf...\n",
      "EDF file detected\n",
      "Setting channel info structure...\n",
      "Creating raw.info structure...\n",
      "Reading 0 ... 921599  =      0.000 ...  3599.996 secs...\n"
     ]
    },
    {
     "name": "stderr",
     "output_type": "stream",
     "text": [
      "/tmp/ipykernel_45915/2331353554.py:19: RuntimeWarning: Channel names are not unique, found duplicates for: {'T8-P8'}. Applying running numbers for duplicates.\n",
      "  raw[1].append(mne.io.read_raw_edf(f\"dataset2/chb-mit-scalp-eeg-database/chb03/chb03_{(s+1):02d}.edf\", preload=True))\n"
     ]
    },
    {
     "name": "stdout",
     "output_type": "stream",
     "text": [
      "Extracting EDF parameters from /home/alexandre.nicolas/dataset2/chb-mit-scalp-eeg-database/chb03/chb03_33.edf...\n",
      "EDF file detected\n",
      "Setting channel info structure...\n",
      "Creating raw.info structure...\n",
      "Reading 0 ... 921599  =      0.000 ...  3599.996 secs...\n"
     ]
    },
    {
     "name": "stderr",
     "output_type": "stream",
     "text": [
      "/tmp/ipykernel_45915/2331353554.py:19: RuntimeWarning: Channel names are not unique, found duplicates for: {'T8-P8'}. Applying running numbers for duplicates.\n",
      "  raw[1].append(mne.io.read_raw_edf(f\"dataset2/chb-mit-scalp-eeg-database/chb03/chb03_{(s+1):02d}.edf\", preload=True))\n"
     ]
    },
    {
     "name": "stdout",
     "output_type": "stream",
     "text": [
      "Extracting EDF parameters from /home/alexandre.nicolas/dataset2/chb-mit-scalp-eeg-database/chb03/chb03_34.edf...\n",
      "EDF file detected\n",
      "Setting channel info structure...\n",
      "Creating raw.info structure...\n",
      "Reading 0 ... 921599  =      0.000 ...  3599.996 secs...\n"
     ]
    },
    {
     "name": "stderr",
     "output_type": "stream",
     "text": [
      "/tmp/ipykernel_45915/2331353554.py:19: RuntimeWarning: Channel names are not unique, found duplicates for: {'T8-P8'}. Applying running numbers for duplicates.\n",
      "  raw[1].append(mne.io.read_raw_edf(f\"dataset2/chb-mit-scalp-eeg-database/chb03/chb03_{(s+1):02d}.edf\", preload=True))\n"
     ]
    },
    {
     "name": "stdout",
     "output_type": "stream",
     "text": [
      "Extracting EDF parameters from /home/alexandre.nicolas/dataset2/chb-mit-scalp-eeg-database/chb03/chb03_35.edf...\n",
      "EDF file detected\n",
      "Setting channel info structure...\n",
      "Creating raw.info structure...\n",
      "Reading 0 ... 921599  =      0.000 ...  3599.996 secs...\n"
     ]
    },
    {
     "name": "stderr",
     "output_type": "stream",
     "text": [
      "/tmp/ipykernel_45915/2331353554.py:19: RuntimeWarning: Channel names are not unique, found duplicates for: {'T8-P8'}. Applying running numbers for duplicates.\n",
      "  raw[1].append(mne.io.read_raw_edf(f\"dataset2/chb-mit-scalp-eeg-database/chb03/chb03_{(s+1):02d}.edf\", preload=True))\n"
     ]
    },
    {
     "name": "stdout",
     "output_type": "stream",
     "text": [
      "Extracting EDF parameters from /home/alexandre.nicolas/dataset2/chb-mit-scalp-eeg-database/chb03/chb03_36.edf...\n",
      "EDF file detected\n",
      "Setting channel info structure...\n",
      "Creating raw.info structure...\n",
      "Reading 0 ... 921599  =      0.000 ...  3599.996 secs...\n"
     ]
    },
    {
     "name": "stderr",
     "output_type": "stream",
     "text": [
      "/tmp/ipykernel_45915/2331353554.py:19: RuntimeWarning: Channel names are not unique, found duplicates for: {'T8-P8'}. Applying running numbers for duplicates.\n",
      "  raw[1].append(mne.io.read_raw_edf(f\"dataset2/chb-mit-scalp-eeg-database/chb03/chb03_{(s+1):02d}.edf\", preload=True))\n"
     ]
    },
    {
     "name": "stdout",
     "output_type": "stream",
     "text": [
      "Extracting EDF parameters from /home/alexandre.nicolas/dataset2/chb-mit-scalp-eeg-database/chb03/chb03_37.edf...\n",
      "EDF file detected\n",
      "Setting channel info structure...\n",
      "Creating raw.info structure...\n",
      "Reading 0 ... 921599  =      0.000 ...  3599.996 secs...\n"
     ]
    },
    {
     "name": "stderr",
     "output_type": "stream",
     "text": [
      "/tmp/ipykernel_45915/2331353554.py:19: RuntimeWarning: Channel names are not unique, found duplicates for: {'T8-P8'}. Applying running numbers for duplicates.\n",
      "  raw[1].append(mne.io.read_raw_edf(f\"dataset2/chb-mit-scalp-eeg-database/chb03/chb03_{(s+1):02d}.edf\", preload=True))\n"
     ]
    },
    {
     "name": "stdout",
     "output_type": "stream",
     "text": [
      "Extracting EDF parameters from /home/alexandre.nicolas/dataset2/chb-mit-scalp-eeg-database/chb03/chb03_38.edf...\n",
      "EDF file detected\n",
      "Setting channel info structure...\n",
      "Creating raw.info structure...\n",
      "Reading 0 ... 921599  =      0.000 ...  3599.996 secs...\n"
     ]
    },
    {
     "name": "stderr",
     "output_type": "stream",
     "text": [
      "/tmp/ipykernel_45915/2331353554.py:19: RuntimeWarning: Channel names are not unique, found duplicates for: {'T8-P8'}. Applying running numbers for duplicates.\n",
      "  raw[1].append(mne.io.read_raw_edf(f\"dataset2/chb-mit-scalp-eeg-database/chb03/chb03_{(s+1):02d}.edf\", preload=True))\n"
     ]
    },
    {
     "name": "stdout",
     "output_type": "stream",
     "text": [
      "Extracting EDF parameters from /home/alexandre.nicolas/dataset2/chb-mit-scalp-eeg-database/chb07/chb07_01.edf...\n",
      "EDF file detected\n",
      "Setting channel info structure...\n",
      "Creating raw.info structure...\n",
      "Reading 0 ... 3689215  =      0.000 ... 14410.996 secs...\n"
     ]
    },
    {
     "name": "stderr",
     "output_type": "stream",
     "text": [
      "/tmp/ipykernel_45915/2331353554.py:27: RuntimeWarning: Channel names are not unique, found duplicates for: {'T8-P8'}. Applying running numbers for duplicates.\n",
      "  raw[2].append(mne.io.read_raw_edf(f\"dataset2/chb-mit-scalp-eeg-database/chb07/chb07_{(s+1):02d}.edf\", preload=True))\n"
     ]
    },
    {
     "name": "stdout",
     "output_type": "stream",
     "text": [
      "Extracting EDF parameters from /home/alexandre.nicolas/dataset2/chb-mit-scalp-eeg-database/chb07/chb07_02.edf...\n",
      "EDF file detected\n",
      "Setting channel info structure...\n",
      "Creating raw.info structure...\n",
      "Reading 0 ... 3686399  =      0.000 ... 14399.996 secs...\n"
     ]
    },
    {
     "name": "stderr",
     "output_type": "stream",
     "text": [
      "/tmp/ipykernel_45915/2331353554.py:27: RuntimeWarning: Channel names are not unique, found duplicates for: {'T8-P8'}. Applying running numbers for duplicates.\n",
      "  raw[2].append(mne.io.read_raw_edf(f\"dataset2/chb-mit-scalp-eeg-database/chb07/chb07_{(s+1):02d}.edf\", preload=True))\n"
     ]
    },
    {
     "name": "stdout",
     "output_type": "stream",
     "text": [
      "Extracting EDF parameters from /home/alexandre.nicolas/dataset2/chb-mit-scalp-eeg-database/chb07/chb07_03.edf...\n",
      "EDF file detected\n",
      "Setting channel info structure...\n",
      "Creating raw.info structure...\n",
      "Reading 0 ... 3686399  =      0.000 ... 14399.996 secs...\n"
     ]
    },
    {
     "name": "stderr",
     "output_type": "stream",
     "text": [
      "/tmp/ipykernel_45915/2331353554.py:27: RuntimeWarning: Channel names are not unique, found duplicates for: {'T8-P8'}. Applying running numbers for duplicates.\n",
      "  raw[2].append(mne.io.read_raw_edf(f\"dataset2/chb-mit-scalp-eeg-database/chb07/chb07_{(s+1):02d}.edf\", preload=True))\n"
     ]
    },
    {
     "name": "stdout",
     "output_type": "stream",
     "text": [
      "Extracting EDF parameters from /home/alexandre.nicolas/dataset2/chb-mit-scalp-eeg-database/chb07/chb07_04.edf...\n",
      "EDF file detected\n",
      "Setting channel info structure...\n",
      "Creating raw.info structure...\n",
      "Reading 0 ... 3686399  =      0.000 ... 14399.996 secs...\n"
     ]
    },
    {
     "name": "stderr",
     "output_type": "stream",
     "text": [
      "/tmp/ipykernel_45915/2331353554.py:27: RuntimeWarning: Channel names are not unique, found duplicates for: {'T8-P8'}. Applying running numbers for duplicates.\n",
      "  raw[2].append(mne.io.read_raw_edf(f\"dataset2/chb-mit-scalp-eeg-database/chb07/chb07_{(s+1):02d}.edf\", preload=True))\n"
     ]
    },
    {
     "name": "stdout",
     "output_type": "stream",
     "text": [
      "Extracting EDF parameters from /home/alexandre.nicolas/dataset2/chb-mit-scalp-eeg-database/chb07/chb07_05.edf...\n",
      "EDF file detected\n",
      "Setting channel info structure...\n",
      "Creating raw.info structure...\n",
      "Reading 0 ... 3686399  =      0.000 ... 14399.996 secs...\n"
     ]
    },
    {
     "name": "stderr",
     "output_type": "stream",
     "text": [
      "/tmp/ipykernel_45915/2331353554.py:27: RuntimeWarning: Channel names are not unique, found duplicates for: {'T8-P8'}. Applying running numbers for duplicates.\n",
      "  raw[2].append(mne.io.read_raw_edf(f\"dataset2/chb-mit-scalp-eeg-database/chb07/chb07_{(s+1):02d}.edf\", preload=True))\n"
     ]
    },
    {
     "name": "stdout",
     "output_type": "stream",
     "text": [
      "Extracting EDF parameters from /home/alexandre.nicolas/dataset2/chb-mit-scalp-eeg-database/chb07/chb07_06.edf...\n",
      "EDF file detected\n",
      "Setting channel info structure...\n",
      "Creating raw.info structure...\n",
      "Reading 0 ... 1259519  =      0.000 ...  4919.996 secs...\n"
     ]
    },
    {
     "name": "stderr",
     "output_type": "stream",
     "text": [
      "/tmp/ipykernel_45915/2331353554.py:27: RuntimeWarning: Channel names are not unique, found duplicates for: {'T8-P8'}. Applying running numbers for duplicates.\n",
      "  raw[2].append(mne.io.read_raw_edf(f\"dataset2/chb-mit-scalp-eeg-database/chb07/chb07_{(s+1):02d}.edf\", preload=True))\n"
     ]
    },
    {
     "name": "stdout",
     "output_type": "stream",
     "text": [
      "Extracting EDF parameters from /home/alexandre.nicolas/dataset2/chb-mit-scalp-eeg-database/chb07/chb07_07.edf...\n",
      "EDF file detected\n",
      "Setting channel info structure...\n",
      "Creating raw.info structure...\n",
      "Reading 0 ... 1192959  =      0.000 ...  4659.996 secs...\n"
     ]
    },
    {
     "name": "stderr",
     "output_type": "stream",
     "text": [
      "/tmp/ipykernel_45915/2331353554.py:27: RuntimeWarning: Channel names are not unique, found duplicates for: {'T8-P8'}. Applying running numbers for duplicates.\n",
      "  raw[2].append(mne.io.read_raw_edf(f\"dataset2/chb-mit-scalp-eeg-database/chb07/chb07_{(s+1):02d}.edf\", preload=True))\n"
     ]
    },
    {
     "name": "stdout",
     "output_type": "stream",
     "text": [
      "Extracting EDF parameters from /home/alexandre.nicolas/dataset2/chb-mit-scalp-eeg-database/chb07/chb07_08.edf...\n",
      "EDF file detected\n",
      "Setting channel info structure...\n",
      "Creating raw.info structure...\n",
      "Reading 0 ... 3686399  =      0.000 ... 14399.996 secs...\n"
     ]
    },
    {
     "name": "stderr",
     "output_type": "stream",
     "text": [
      "/tmp/ipykernel_45915/2331353554.py:27: RuntimeWarning: Channel names are not unique, found duplicates for: {'T8-P8'}. Applying running numbers for duplicates.\n",
      "  raw[2].append(mne.io.read_raw_edf(f\"dataset2/chb-mit-scalp-eeg-database/chb07/chb07_{(s+1):02d}.edf\", preload=True))\n"
     ]
    },
    {
     "name": "stdout",
     "output_type": "stream",
     "text": [
      "Extracting EDF parameters from /home/alexandre.nicolas/dataset2/chb-mit-scalp-eeg-database/chb07/chb07_09.edf...\n",
      "EDF file detected\n",
      "Setting channel info structure...\n",
      "Creating raw.info structure...\n",
      "Reading 0 ... 3686399  =      0.000 ... 14399.996 secs...\n"
     ]
    },
    {
     "name": "stderr",
     "output_type": "stream",
     "text": [
      "/tmp/ipykernel_45915/2331353554.py:27: RuntimeWarning: Channel names are not unique, found duplicates for: {'T8-P8'}. Applying running numbers for duplicates.\n",
      "  raw[2].append(mne.io.read_raw_edf(f\"dataset2/chb-mit-scalp-eeg-database/chb07/chb07_{(s+1):02d}.edf\", preload=True))\n"
     ]
    },
    {
     "name": "stdout",
     "output_type": "stream",
     "text": [
      "Extracting EDF parameters from /home/alexandre.nicolas/dataset2/chb-mit-scalp-eeg-database/chb07/chb07_10.edf...\n",
      "EDF file detected\n",
      "Setting channel info structure...\n",
      "Creating raw.info structure...\n",
      "Reading 0 ... 3686399  =      0.000 ... 14399.996 secs...\n"
     ]
    },
    {
     "name": "stderr",
     "output_type": "stream",
     "text": [
      "/tmp/ipykernel_45915/2331353554.py:27: RuntimeWarning: Channel names are not unique, found duplicates for: {'T8-P8'}. Applying running numbers for duplicates.\n",
      "  raw[2].append(mne.io.read_raw_edf(f\"dataset2/chb-mit-scalp-eeg-database/chb07/chb07_{(s+1):02d}.edf\", preload=True))\n"
     ]
    },
    {
     "name": "stdout",
     "output_type": "stream",
     "text": [
      "Extracting EDF parameters from /home/alexandre.nicolas/dataset2/chb-mit-scalp-eeg-database/chb07/chb07_11.edf...\n",
      "EDF file detected\n",
      "Setting channel info structure...\n",
      "Creating raw.info structure...\n",
      "Reading 0 ... 3686399  =      0.000 ... 14399.996 secs...\n"
     ]
    },
    {
     "name": "stderr",
     "output_type": "stream",
     "text": [
      "/tmp/ipykernel_45915/2331353554.py:27: RuntimeWarning: Channel names are not unique, found duplicates for: {'T8-P8'}. Applying running numbers for duplicates.\n",
      "  raw[2].append(mne.io.read_raw_edf(f\"dataset2/chb-mit-scalp-eeg-database/chb07/chb07_{(s+1):02d}.edf\", preload=True))\n"
     ]
    },
    {
     "name": "stdout",
     "output_type": "stream",
     "text": [
      "Extracting EDF parameters from /home/alexandre.nicolas/dataset2/chb-mit-scalp-eeg-database/chb07/chb07_12.edf...\n",
      "EDF file detected\n",
      "Setting channel info structure...\n",
      "Creating raw.info structure...\n",
      "Reading 0 ... 3686399  =      0.000 ... 14399.996 secs...\n"
     ]
    },
    {
     "name": "stderr",
     "output_type": "stream",
     "text": [
      "/tmp/ipykernel_45915/2331353554.py:27: RuntimeWarning: Channel names are not unique, found duplicates for: {'T8-P8'}. Applying running numbers for duplicates.\n",
      "  raw[2].append(mne.io.read_raw_edf(f\"dataset2/chb-mit-scalp-eeg-database/chb07/chb07_{(s+1):02d}.edf\", preload=True))\n"
     ]
    },
    {
     "name": "stdout",
     "output_type": "stream",
     "text": [
      "Extracting EDF parameters from /home/alexandre.nicolas/dataset2/chb-mit-scalp-eeg-database/chb07/chb07_13.edf...\n",
      "EDF file detected\n",
      "Setting channel info structure...\n",
      "Creating raw.info structure...\n",
      "Reading 0 ... 953855  =      0.000 ...  3725.996 secs...\n"
     ]
    },
    {
     "name": "stderr",
     "output_type": "stream",
     "text": [
      "/tmp/ipykernel_45915/2331353554.py:27: RuntimeWarning: Channel names are not unique, found duplicates for: {'T8-P8'}. Applying running numbers for duplicates.\n",
      "  raw[2].append(mne.io.read_raw_edf(f\"dataset2/chb-mit-scalp-eeg-database/chb07/chb07_{(s+1):02d}.edf\", preload=True))\n"
     ]
    },
    {
     "name": "stdout",
     "output_type": "stream",
     "text": [
      "Extracting EDF parameters from /home/alexandre.nicolas/dataset2/chb-mit-scalp-eeg-database/chb07/chb07_14.edf...\n",
      "EDF file detected\n",
      "Setting channel info structure...\n",
      "Creating raw.info structure...\n",
      "Reading 0 ... 3686399  =      0.000 ... 14399.996 secs...\n"
     ]
    },
    {
     "name": "stderr",
     "output_type": "stream",
     "text": [
      "/tmp/ipykernel_45915/2331353554.py:27: RuntimeWarning: Channel names are not unique, found duplicates for: {'T8-P8'}. Applying running numbers for duplicates.\n",
      "  raw[2].append(mne.io.read_raw_edf(f\"dataset2/chb-mit-scalp-eeg-database/chb07/chb07_{(s+1):02d}.edf\", preload=True))\n"
     ]
    },
    {
     "name": "stdout",
     "output_type": "stream",
     "text": [
      "Extracting EDF parameters from /home/alexandre.nicolas/dataset2/chb-mit-scalp-eeg-database/chb07/chb07_15.edf...\n",
      "EDF file detected\n",
      "Setting channel info structure...\n",
      "Creating raw.info structure...\n",
      "Reading 0 ... 3686399  =      0.000 ... 14399.996 secs...\n"
     ]
    },
    {
     "name": "stderr",
     "output_type": "stream",
     "text": [
      "/tmp/ipykernel_45915/2331353554.py:27: RuntimeWarning: Channel names are not unique, found duplicates for: {'T8-P8'}. Applying running numbers for duplicates.\n",
      "  raw[2].append(mne.io.read_raw_edf(f\"dataset2/chb-mit-scalp-eeg-database/chb07/chb07_{(s+1):02d}.edf\", preload=True))\n"
     ]
    },
    {
     "name": "stdout",
     "output_type": "stream",
     "text": [
      "Extracting EDF parameters from /home/alexandre.nicolas/dataset2/chb-mit-scalp-eeg-database/chb07/chb07_16.edf...\n",
      "EDF file detected\n",
      "Setting channel info structure...\n",
      "Creating raw.info structure...\n",
      "Reading 0 ... 3686399  =      0.000 ... 14399.996 secs...\n"
     ]
    },
    {
     "name": "stderr",
     "output_type": "stream",
     "text": [
      "/tmp/ipykernel_45915/2331353554.py:27: RuntimeWarning: Channel names are not unique, found duplicates for: {'T8-P8'}. Applying running numbers for duplicates.\n",
      "  raw[2].append(mne.io.read_raw_edf(f\"dataset2/chb-mit-scalp-eeg-database/chb07/chb07_{(s+1):02d}.edf\", preload=True))\n"
     ]
    },
    {
     "name": "stdout",
     "output_type": "stream",
     "text": [
      "Extracting EDF parameters from /home/alexandre.nicolas/dataset2/chb-mit-scalp-eeg-database/chb07/chb07_17.edf...\n",
      "EDF file detected\n",
      "Setting channel info structure...\n",
      "Creating raw.info structure...\n",
      "Reading 0 ... 3686399  =      0.000 ... 14399.996 secs...\n"
     ]
    },
    {
     "name": "stderr",
     "output_type": "stream",
     "text": [
      "/tmp/ipykernel_45915/2331353554.py:27: RuntimeWarning: Channel names are not unique, found duplicates for: {'T8-P8'}. Applying running numbers for duplicates.\n",
      "  raw[2].append(mne.io.read_raw_edf(f\"dataset2/chb-mit-scalp-eeg-database/chb07/chb07_{(s+1):02d}.edf\", preload=True))\n"
     ]
    },
    {
     "name": "stdout",
     "output_type": "stream",
     "text": [
      "Extracting EDF parameters from /home/alexandre.nicolas/dataset2/chb-mit-scalp-eeg-database/chb07/chb07_18.edf...\n",
      "EDF file detected\n",
      "Setting channel info structure...\n",
      "Creating raw.info structure...\n",
      "Reading 0 ... 3087359  =      0.000 ... 12059.996 secs...\n"
     ]
    },
    {
     "name": "stderr",
     "output_type": "stream",
     "text": [
      "/tmp/ipykernel_45915/2331353554.py:27: RuntimeWarning: Channel names are not unique, found duplicates for: {'T8-P8'}. Applying running numbers for duplicates.\n",
      "  raw[2].append(mne.io.read_raw_edf(f\"dataset2/chb-mit-scalp-eeg-database/chb07/chb07_{(s+1):02d}.edf\", preload=True))\n"
     ]
    },
    {
     "name": "stdout",
     "output_type": "stream",
     "text": [
      "Extracting EDF parameters from /home/alexandre.nicolas/dataset2/chb-mit-scalp-eeg-database/chb07/chb07_19.edf...\n",
      "EDF file detected\n",
      "Setting channel info structure...\n",
      "Creating raw.info structure...\n",
      "Reading 0 ... 3689215  =      0.000 ... 14410.996 secs...\n"
     ]
    },
    {
     "name": "stderr",
     "output_type": "stream",
     "text": [
      "/tmp/ipykernel_45915/2331353554.py:27: RuntimeWarning: Channel names are not unique, found duplicates for: {'T8-P8'}. Applying running numbers for duplicates.\n",
      "  raw[2].append(mne.io.read_raw_edf(f\"dataset2/chb-mit-scalp-eeg-database/chb07/chb07_{(s+1):02d}.edf\", preload=True))\n"
     ]
    },
    {
     "name": "stdout",
     "output_type": "stream",
     "text": [
      "Extracting EDF parameters from /home/alexandre.nicolas/dataset2/chb-mit-scalp-eeg-database/chb09/chb09_01.edf...\n",
      "EDF file detected\n",
      "Setting channel info structure...\n",
      "Creating raw.info structure...\n",
      "Reading 0 ... 2053887  =      0.000 ...  8022.996 secs...\n"
     ]
    },
    {
     "name": "stderr",
     "output_type": "stream",
     "text": [
      "/tmp/ipykernel_45915/2331353554.py:35: RuntimeWarning: Channel names are not unique, found duplicates for: {'T8-P8'}. Applying running numbers for duplicates.\n",
      "  raw[3].append(mne.io.read_raw_edf(f\"dataset2/chb-mit-scalp-eeg-database/chb09/chb09_{(s+1):02d}.edf\", preload=True))\n"
     ]
    },
    {
     "name": "stdout",
     "output_type": "stream",
     "text": [
      "Extracting EDF parameters from /home/alexandre.nicolas/dataset2/chb-mit-scalp-eeg-database/chb09/chb09_02.edf...\n",
      "EDF file detected\n",
      "Setting channel info structure...\n",
      "Creating raw.info structure...\n",
      "Reading 0 ... 3686143  =      0.000 ... 14398.996 secs...\n"
     ]
    },
    {
     "name": "stderr",
     "output_type": "stream",
     "text": [
      "/tmp/ipykernel_45915/2331353554.py:35: RuntimeWarning: Channel names are not unique, found duplicates for: {'T8-P8'}. Applying running numbers for duplicates.\n",
      "  raw[3].append(mne.io.read_raw_edf(f\"dataset2/chb-mit-scalp-eeg-database/chb09/chb09_{(s+1):02d}.edf\", preload=True))\n"
     ]
    },
    {
     "name": "stdout",
     "output_type": "stream",
     "text": [
      "Extracting EDF parameters from /home/alexandre.nicolas/dataset2/chb-mit-scalp-eeg-database/chb09/chb09_03.edf...\n",
      "EDF file detected\n",
      "Setting channel info structure...\n",
      "Creating raw.info structure...\n",
      "Reading 0 ... 3686399  =      0.000 ... 14399.996 secs...\n"
     ]
    },
    {
     "name": "stderr",
     "output_type": "stream",
     "text": [
      "/tmp/ipykernel_45915/2331353554.py:35: RuntimeWarning: Channel names are not unique, found duplicates for: {'T8-P8'}. Applying running numbers for duplicates.\n",
      "  raw[3].append(mne.io.read_raw_edf(f\"dataset2/chb-mit-scalp-eeg-database/chb09/chb09_{(s+1):02d}.edf\", preload=True))\n"
     ]
    },
    {
     "name": "stdout",
     "output_type": "stream",
     "text": [
      "Extracting EDF parameters from /home/alexandre.nicolas/dataset2/chb-mit-scalp-eeg-database/chb09/chb09_04.edf...\n",
      "EDF file detected\n",
      "Setting channel info structure...\n",
      "Creating raw.info structure...\n",
      "Reading 0 ... 3690239  =      0.000 ... 14414.996 secs...\n"
     ]
    },
    {
     "name": "stderr",
     "output_type": "stream",
     "text": [
      "/tmp/ipykernel_45915/2331353554.py:35: RuntimeWarning: Channel names are not unique, found duplicates for: {'T8-P8'}. Applying running numbers for duplicates.\n",
      "  raw[3].append(mne.io.read_raw_edf(f\"dataset2/chb-mit-scalp-eeg-database/chb09/chb09_{(s+1):02d}.edf\", preload=True))\n"
     ]
    },
    {
     "name": "stdout",
     "output_type": "stream",
     "text": [
      "Extracting EDF parameters from /home/alexandre.nicolas/dataset2/chb-mit-scalp-eeg-database/chb09/chb09_05.edf...\n",
      "EDF file detected\n",
      "Setting channel info structure...\n",
      "Creating raw.info structure...\n",
      "Reading 0 ... 3686399  =      0.000 ... 14399.996 secs...\n"
     ]
    },
    {
     "name": "stderr",
     "output_type": "stream",
     "text": [
      "/tmp/ipykernel_45915/2331353554.py:35: RuntimeWarning: Channel names are not unique, found duplicates for: {'T8-P8'}. Applying running numbers for duplicates.\n",
      "  raw[3].append(mne.io.read_raw_edf(f\"dataset2/chb-mit-scalp-eeg-database/chb09/chb09_{(s+1):02d}.edf\", preload=True))\n"
     ]
    },
    {
     "name": "stdout",
     "output_type": "stream",
     "text": [
      "Extracting EDF parameters from /home/alexandre.nicolas/dataset2/chb-mit-scalp-eeg-database/chb09/chb09_06.edf...\n",
      "EDF file detected\n",
      "Setting channel info structure...\n",
      "Creating raw.info structure...\n",
      "Reading 0 ... 3686143  =      0.000 ... 14398.996 secs...\n"
     ]
    },
    {
     "name": "stderr",
     "output_type": "stream",
     "text": [
      "/tmp/ipykernel_45915/2331353554.py:35: RuntimeWarning: Channel names are not unique, found duplicates for: {'T8-P8'}. Applying running numbers for duplicates.\n",
      "  raw[3].append(mne.io.read_raw_edf(f\"dataset2/chb-mit-scalp-eeg-database/chb09/chb09_{(s+1):02d}.edf\", preload=True))\n"
     ]
    },
    {
     "name": "stdout",
     "output_type": "stream",
     "text": [
      "Extracting EDF parameters from /home/alexandre.nicolas/dataset2/chb-mit-scalp-eeg-database/chb09/chb09_07.edf...\n",
      "EDF file detected\n",
      "Setting channel info structure...\n",
      "Creating raw.info structure...\n",
      "Reading 0 ... 3686399  =      0.000 ... 14399.996 secs...\n"
     ]
    },
    {
     "name": "stderr",
     "output_type": "stream",
     "text": [
      "/tmp/ipykernel_45915/2331353554.py:35: RuntimeWarning: Channel names are not unique, found duplicates for: {'T8-P8'}. Applying running numbers for duplicates.\n",
      "  raw[3].append(mne.io.read_raw_edf(f\"dataset2/chb-mit-scalp-eeg-database/chb09/chb09_{(s+1):02d}.edf\", preload=True))\n"
     ]
    },
    {
     "name": "stdout",
     "output_type": "stream",
     "text": [
      "Extracting EDF parameters from /home/alexandre.nicolas/dataset2/chb-mit-scalp-eeg-database/chb09/chb09_08.edf...\n",
      "EDF file detected\n",
      "Setting channel info structure...\n",
      "Creating raw.info structure...\n",
      "Reading 0 ... 3686399  =      0.000 ... 14399.996 secs...\n"
     ]
    },
    {
     "name": "stderr",
     "output_type": "stream",
     "text": [
      "/tmp/ipykernel_45915/2331353554.py:35: RuntimeWarning: Channel names are not unique, found duplicates for: {'T8-P8'}. Applying running numbers for duplicates.\n",
      "  raw[3].append(mne.io.read_raw_edf(f\"dataset2/chb-mit-scalp-eeg-database/chb09/chb09_{(s+1):02d}.edf\", preload=True))\n"
     ]
    },
    {
     "name": "stdout",
     "output_type": "stream",
     "text": [
      "Extracting EDF parameters from /home/alexandre.nicolas/dataset2/chb-mit-scalp-eeg-database/chb09/chb09_09.edf...\n",
      "EDF file detected\n",
      "Setting channel info structure...\n",
      "Creating raw.info structure...\n",
      "Reading 0 ... 3686399  =      0.000 ... 14399.996 secs...\n"
     ]
    },
    {
     "name": "stderr",
     "output_type": "stream",
     "text": [
      "/tmp/ipykernel_45915/2331353554.py:35: RuntimeWarning: Channel names are not unique, found duplicates for: {'T8-P8'}. Applying running numbers for duplicates.\n",
      "  raw[3].append(mne.io.read_raw_edf(f\"dataset2/chb-mit-scalp-eeg-database/chb09/chb09_{(s+1):02d}.edf\", preload=True))\n"
     ]
    },
    {
     "name": "stdout",
     "output_type": "stream",
     "text": [
      "Extracting EDF parameters from /home/alexandre.nicolas/dataset2/chb-mit-scalp-eeg-database/chb09/chb09_10.edf...\n",
      "EDF file detected\n",
      "Setting channel info structure...\n",
      "Creating raw.info structure...\n",
      "Reading 0 ... 3686399  =      0.000 ... 14399.996 secs...\n"
     ]
    },
    {
     "name": "stderr",
     "output_type": "stream",
     "text": [
      "/tmp/ipykernel_45915/2331353554.py:35: RuntimeWarning: Channel names are not unique, found duplicates for: {'T8-P8'}. Applying running numbers for duplicates.\n",
      "  raw[3].append(mne.io.read_raw_edf(f\"dataset2/chb-mit-scalp-eeg-database/chb09/chb09_{(s+1):02d}.edf\", preload=True))\n"
     ]
    },
    {
     "name": "stdout",
     "output_type": "stream",
     "text": [
      "Extracting EDF parameters from /home/alexandre.nicolas/dataset2/chb-mit-scalp-eeg-database/chb09/chb09_11.edf...\n",
      "EDF file detected\n",
      "Setting channel info structure...\n",
      "Creating raw.info structure...\n",
      "Reading 0 ... 3686399  =      0.000 ... 14399.996 secs...\n"
     ]
    },
    {
     "name": "stderr",
     "output_type": "stream",
     "text": [
      "/tmp/ipykernel_45915/2331353554.py:35: RuntimeWarning: Channel names are not unique, found duplicates for: {'T8-P8'}. Applying running numbers for duplicates.\n",
      "  raw[3].append(mne.io.read_raw_edf(f\"dataset2/chb-mit-scalp-eeg-database/chb09/chb09_{(s+1):02d}.edf\", preload=True))\n"
     ]
    },
    {
     "name": "stdout",
     "output_type": "stream",
     "text": [
      "Extracting EDF parameters from /home/alexandre.nicolas/dataset2/chb-mit-scalp-eeg-database/chb09/chb09_12.edf...\n",
      "EDF file detected\n",
      "Setting channel info structure...\n",
      "Creating raw.info structure...\n",
      "Reading 0 ... 3686399  =      0.000 ... 14399.996 secs...\n"
     ]
    },
    {
     "name": "stderr",
     "output_type": "stream",
     "text": [
      "/tmp/ipykernel_45915/2331353554.py:35: RuntimeWarning: Channel names are not unique, found duplicates for: {'T8-P8'}. Applying running numbers for duplicates.\n",
      "  raw[3].append(mne.io.read_raw_edf(f\"dataset2/chb-mit-scalp-eeg-database/chb09/chb09_{(s+1):02d}.edf\", preload=True))\n"
     ]
    },
    {
     "name": "stdout",
     "output_type": "stream",
     "text": [
      "Extracting EDF parameters from /home/alexandre.nicolas/dataset2/chb-mit-scalp-eeg-database/chb09/chb09_13.edf...\n",
      "EDF file detected\n",
      "Setting channel info structure...\n",
      "Creating raw.info structure...\n",
      "Reading 0 ... 3687679  =      0.000 ... 14404.996 secs...\n"
     ]
    },
    {
     "name": "stderr",
     "output_type": "stream",
     "text": [
      "/tmp/ipykernel_45915/2331353554.py:35: RuntimeWarning: Channel names are not unique, found duplicates for: {'T8-P8'}. Applying running numbers for duplicates.\n",
      "  raw[3].append(mne.io.read_raw_edf(f\"dataset2/chb-mit-scalp-eeg-database/chb09/chb09_{(s+1):02d}.edf\", preload=True))\n"
     ]
    },
    {
     "name": "stdout",
     "output_type": "stream",
     "text": [
      "Extracting EDF parameters from /home/alexandre.nicolas/dataset2/chb-mit-scalp-eeg-database/chb09/chb09_14.edf...\n",
      "EDF file detected\n",
      "Setting channel info structure...\n",
      "Creating raw.info structure...\n",
      "Reading 0 ... 3689215  =      0.000 ... 14410.996 secs...\n"
     ]
    },
    {
     "name": "stderr",
     "output_type": "stream",
     "text": [
      "/tmp/ipykernel_45915/2331353554.py:35: RuntimeWarning: Channel names are not unique, found duplicates for: {'T8-P8'}. Applying running numbers for duplicates.\n",
      "  raw[3].append(mne.io.read_raw_edf(f\"dataset2/chb-mit-scalp-eeg-database/chb09/chb09_{(s+1):02d}.edf\", preload=True))\n"
     ]
    },
    {
     "name": "stdout",
     "output_type": "stream",
     "text": [
      "Extracting EDF parameters from /home/alexandre.nicolas/dataset2/chb-mit-scalp-eeg-database/chb09/chb09_15.edf...\n",
      "EDF file detected\n",
      "Setting channel info structure...\n",
      "Creating raw.info structure...\n",
      "Reading 0 ... 3691775  =      0.000 ... 14420.996 secs...\n"
     ]
    },
    {
     "name": "stderr",
     "output_type": "stream",
     "text": [
      "/tmp/ipykernel_45915/2331353554.py:35: RuntimeWarning: Channel names are not unique, found duplicates for: {'T8-P8'}. Applying running numbers for duplicates.\n",
      "  raw[3].append(mne.io.read_raw_edf(f\"dataset2/chb-mit-scalp-eeg-database/chb09/chb09_{(s+1):02d}.edf\", preload=True))\n"
     ]
    },
    {
     "name": "stdout",
     "output_type": "stream",
     "text": [
      "Extracting EDF parameters from /home/alexandre.nicolas/dataset2/chb-mit-scalp-eeg-database/chb09/chb09_16.edf...\n",
      "EDF file detected\n",
      "Setting channel info structure...\n",
      "Creating raw.info structure...\n",
      "Reading 0 ... 3479295  =      0.000 ... 13590.996 secs...\n"
     ]
    },
    {
     "name": "stderr",
     "output_type": "stream",
     "text": [
      "/tmp/ipykernel_45915/2331353554.py:35: RuntimeWarning: Channel names are not unique, found duplicates for: {'T8-P8'}. Applying running numbers for duplicates.\n",
      "  raw[3].append(mne.io.read_raw_edf(f\"dataset2/chb-mit-scalp-eeg-database/chb09/chb09_{(s+1):02d}.edf\", preload=True))\n"
     ]
    },
    {
     "name": "stdout",
     "output_type": "stream",
     "text": [
      "Extracting EDF parameters from /home/alexandre.nicolas/dataset2/chb-mit-scalp-eeg-database/chb09/chb09_17.edf...\n",
      "EDF file detected\n",
      "Setting channel info structure...\n",
      "Creating raw.info structure...\n",
      "Reading 0 ... 249343  =      0.000 ...   973.996 secs...\n",
      "Extracting EDF parameters from /home/alexandre.nicolas/dataset2/chb-mit-scalp-eeg-database/chb09/chb09_18.edf...\n",
      "EDF file detected\n",
      "Setting channel info structure...\n",
      "Creating raw.info structure...\n",
      "Reading 0 ... 3686399  =      0.000 ... 14399.996 secs...\n"
     ]
    },
    {
     "name": "stderr",
     "output_type": "stream",
     "text": [
      "/tmp/ipykernel_45915/2331353554.py:35: RuntimeWarning: Channel names are not unique, found duplicates for: {'T8-P8'}. Applying running numbers for duplicates.\n",
      "  raw[3].append(mne.io.read_raw_edf(f\"dataset2/chb-mit-scalp-eeg-database/chb09/chb09_{(s+1):02d}.edf\", preload=True))\n",
      "/tmp/ipykernel_45915/2331353554.py:35: RuntimeWarning: Channel names are not unique, found duplicates for: {'T8-P8'}. Applying running numbers for duplicates.\n",
      "  raw[3].append(mne.io.read_raw_edf(f\"dataset2/chb-mit-scalp-eeg-database/chb09/chb09_{(s+1):02d}.edf\", preload=True))\n"
     ]
    },
    {
     "name": "stdout",
     "output_type": "stream",
     "text": [
      "Extracting EDF parameters from /home/alexandre.nicolas/dataset2/chb-mit-scalp-eeg-database/chb09/chb09_19.edf...\n",
      "EDF file detected\n",
      "Setting channel info structure...\n",
      "Creating raw.info structure...\n",
      "Reading 0 ... 1459199  =      0.000 ...  5699.996 secs...\n"
     ]
    },
    {
     "name": "stderr",
     "output_type": "stream",
     "text": [
      "/tmp/ipykernel_45915/2331353554.py:35: RuntimeWarning: Channel names are not unique, found duplicates for: {'T8-P8'}. Applying running numbers for duplicates.\n",
      "  raw[3].append(mne.io.read_raw_edf(f\"dataset2/chb-mit-scalp-eeg-database/chb09/chb09_{(s+1):02d}.edf\", preload=True))\n"
     ]
    }
   ],
   "source": [
    "# Import data\n",
    "# Subject 1 - sub0\n",
    "# 1h\n",
    "n_runs = {}\n",
    "n_runs[0] = 32\n",
    "raw = {}\n",
    "raw[0] = []\n",
    "\n",
    "for s in np.arange(33):\n",
    "    if (s == 27): continue\n",
    "    raw[0].append(mne.io.read_raw_edf(f\"dataset2/chb-mit-scalp-eeg-database/chb01/chb01_{(s+1):02d}.edf\", preload=True))\n",
    "\n",
    "# Subject 3 - sub1\n",
    "# 1h\n",
    "n_runs[1] = 38\n",
    "raw[1] = []\n",
    "\n",
    "for s in np.arange(n_runs[1]):\n",
    "    raw[1].append(mne.io.read_raw_edf(f\"dataset2/chb-mit-scalp-eeg-database/chb03/chb03_{(s+1):02d}.edf\", preload=True))\n",
    "\n",
    "# Subject 7 - sub2\n",
    "# 4h\n",
    "n_runs[2] = 19\n",
    "raw[2] = []\n",
    "\n",
    "for s in np.arange(n_runs[2]):\n",
    "    raw[2].append(mne.io.read_raw_edf(f\"dataset2/chb-mit-scalp-eeg-database/chb07/chb07_{(s+1):02d}.edf\", preload=True))\n",
    "    \n",
    "# Subject 9 - sub3\n",
    "# 4h\n",
    "n_runs[3] = 19\n",
    "raw[3] = []\n",
    "\n",
    "for s in np.arange(n_runs[3]):\n",
    "    raw[3].append(mne.io.read_raw_edf(f\"dataset2/chb-mit-scalp-eeg-database/chb09/chb09_{(s+1):02d}.edf\", preload=True))\n",
    "\n",
    "for s in np.arange(4):\n",
    "    for k in np.arange(n_runs[s]):\n",
    "        raw[s][k]._data = raw[s][k]._data.astype('float32')"
   ]
  },
  {
   "cell_type": "code",
   "execution_count": 3,
   "id": "abed7200-567a-46b1-9384-b16b17a0987f",
   "metadata": {},
   "outputs": [
    {
     "name": "stdout",
     "output_type": "stream",
     "text": [
      "Extracting EDF parameters from /home/alexandre.nicolas/dataset2/chb-mit-scalp-eeg-database/chb10/chb10_01.edf...\n",
      "EDF file detected\n",
      "Setting channel info structure...\n",
      "Creating raw.info structure...\n",
      "Reading 0 ... 1848319  =      0.000 ...  7219.996 secs...\n"
     ]
    },
    {
     "name": "stderr",
     "output_type": "stream",
     "text": [
      "/tmp/ipykernel_45915/185451917.py:8: RuntimeWarning: Channel names are not unique, found duplicates for: {'T8-P8'}. Applying running numbers for duplicates.\n",
      "  raw[4].append(mne.io.read_raw_edf(f\"dataset2/chb-mit-scalp-eeg-database/chb10/chb10_{(s+1):02d}.edf\", preload=True))\n"
     ]
    },
    {
     "name": "stdout",
     "output_type": "stream",
     "text": [
      "Extracting EDF parameters from /home/alexandre.nicolas/dataset2/chb-mit-scalp-eeg-database/chb10/chb10_02.edf...\n",
      "EDF file detected\n",
      "Setting channel info structure...\n",
      "Creating raw.info structure...\n",
      "Reading 0 ... 1843199  =      0.000 ...  7199.996 secs...\n"
     ]
    },
    {
     "name": "stderr",
     "output_type": "stream",
     "text": [
      "/tmp/ipykernel_45915/185451917.py:8: RuntimeWarning: Channel names are not unique, found duplicates for: {'T8-P8'}. Applying running numbers for duplicates.\n",
      "  raw[4].append(mne.io.read_raw_edf(f\"dataset2/chb-mit-scalp-eeg-database/chb10/chb10_{(s+1):02d}.edf\", preload=True))\n"
     ]
    },
    {
     "name": "stdout",
     "output_type": "stream",
     "text": [
      "Extracting EDF parameters from /home/alexandre.nicolas/dataset2/chb-mit-scalp-eeg-database/chb10/chb10_03.edf...\n",
      "EDF file detected\n",
      "Setting channel info structure...\n",
      "Creating raw.info structure...\n",
      "Reading 0 ... 1843199  =      0.000 ...  7199.996 secs...\n"
     ]
    },
    {
     "name": "stderr",
     "output_type": "stream",
     "text": [
      "/tmp/ipykernel_45915/185451917.py:8: RuntimeWarning: Channel names are not unique, found duplicates for: {'T8-P8'}. Applying running numbers for duplicates.\n",
      "  raw[4].append(mne.io.read_raw_edf(f\"dataset2/chb-mit-scalp-eeg-database/chb10/chb10_{(s+1):02d}.edf\", preload=True))\n"
     ]
    },
    {
     "name": "stdout",
     "output_type": "stream",
     "text": [
      "Extracting EDF parameters from /home/alexandre.nicolas/dataset2/chb-mit-scalp-eeg-database/chb10/chb10_04.edf...\n",
      "EDF file detected\n",
      "Setting channel info structure...\n",
      "Creating raw.info structure...\n",
      "Reading 0 ... 1843199  =      0.000 ...  7199.996 secs...\n"
     ]
    },
    {
     "name": "stderr",
     "output_type": "stream",
     "text": [
      "/tmp/ipykernel_45915/185451917.py:8: RuntimeWarning: Channel names are not unique, found duplicates for: {'T8-P8'}. Applying running numbers for duplicates.\n",
      "  raw[4].append(mne.io.read_raw_edf(f\"dataset2/chb-mit-scalp-eeg-database/chb10/chb10_{(s+1):02d}.edf\", preload=True))\n"
     ]
    },
    {
     "name": "stdout",
     "output_type": "stream",
     "text": [
      "Extracting EDF parameters from /home/alexandre.nicolas/dataset2/chb-mit-scalp-eeg-database/chb10/chb10_05.edf...\n",
      "EDF file detected\n",
      "Setting channel info structure...\n",
      "Creating raw.info structure...\n",
      "Reading 0 ... 1843199  =      0.000 ...  7199.996 secs...\n"
     ]
    },
    {
     "name": "stderr",
     "output_type": "stream",
     "text": [
      "/tmp/ipykernel_45915/185451917.py:8: RuntimeWarning: Channel names are not unique, found duplicates for: {'T8-P8'}. Applying running numbers for duplicates.\n",
      "  raw[4].append(mne.io.read_raw_edf(f\"dataset2/chb-mit-scalp-eeg-database/chb10/chb10_{(s+1):02d}.edf\", preload=True))\n"
     ]
    },
    {
     "name": "stdout",
     "output_type": "stream",
     "text": [
      "Extracting EDF parameters from /home/alexandre.nicolas/dataset2/chb-mit-scalp-eeg-database/chb10/chb10_06.edf...\n",
      "EDF file detected\n",
      "Setting channel info structure...\n",
      "Creating raw.info structure...\n",
      "Reading 0 ... 1843199  =      0.000 ...  7199.996 secs...\n"
     ]
    },
    {
     "name": "stderr",
     "output_type": "stream",
     "text": [
      "/tmp/ipykernel_45915/185451917.py:8: RuntimeWarning: Channel names are not unique, found duplicates for: {'T8-P8'}. Applying running numbers for duplicates.\n",
      "  raw[4].append(mne.io.read_raw_edf(f\"dataset2/chb-mit-scalp-eeg-database/chb10/chb10_{(s+1):02d}.edf\", preload=True))\n"
     ]
    },
    {
     "name": "stdout",
     "output_type": "stream",
     "text": [
      "Extracting EDF parameters from /home/alexandre.nicolas/dataset2/chb-mit-scalp-eeg-database/chb10/chb10_07.edf...\n",
      "EDF file detected\n",
      "Setting channel info structure...\n",
      "Creating raw.info structure...\n",
      "Reading 0 ... 1843199  =      0.000 ...  7199.996 secs...\n"
     ]
    },
    {
     "name": "stderr",
     "output_type": "stream",
     "text": [
      "/tmp/ipykernel_45915/185451917.py:8: RuntimeWarning: Channel names are not unique, found duplicates for: {'T8-P8'}. Applying running numbers for duplicates.\n",
      "  raw[4].append(mne.io.read_raw_edf(f\"dataset2/chb-mit-scalp-eeg-database/chb10/chb10_{(s+1):02d}.edf\", preload=True))\n"
     ]
    },
    {
     "name": "stdout",
     "output_type": "stream",
     "text": [
      "Extracting EDF parameters from /home/alexandre.nicolas/dataset2/chb-mit-scalp-eeg-database/chb10/chb10_08.edf...\n",
      "EDF file detected\n",
      "Setting channel info structure...\n",
      "Creating raw.info structure...\n",
      "Reading 0 ... 1843199  =      0.000 ...  7199.996 secs...\n"
     ]
    },
    {
     "name": "stderr",
     "output_type": "stream",
     "text": [
      "/tmp/ipykernel_45915/185451917.py:8: RuntimeWarning: Channel names are not unique, found duplicates for: {'T8-P8'}. Applying running numbers for duplicates.\n",
      "  raw[4].append(mne.io.read_raw_edf(f\"dataset2/chb-mit-scalp-eeg-database/chb10/chb10_{(s+1):02d}.edf\", preload=True))\n"
     ]
    },
    {
     "name": "stdout",
     "output_type": "stream",
     "text": [
      "Extracting EDF parameters from /home/alexandre.nicolas/dataset2/chb-mit-scalp-eeg-database/chb10/chb10_12.edf...\n",
      "EDF file detected\n",
      "Setting channel info structure...\n",
      "Creating raw.info structure...\n",
      "Reading 0 ... 1843199  =      0.000 ...  7199.996 secs...\n"
     ]
    },
    {
     "name": "stderr",
     "output_type": "stream",
     "text": [
      "/tmp/ipykernel_45915/185451917.py:8: RuntimeWarning: Channel names are not unique, found duplicates for: {'T8-P8'}. Applying running numbers for duplicates.\n",
      "  raw[4].append(mne.io.read_raw_edf(f\"dataset2/chb-mit-scalp-eeg-database/chb10/chb10_{(s+1):02d}.edf\", preload=True))\n"
     ]
    },
    {
     "name": "stdout",
     "output_type": "stream",
     "text": [
      "Extracting EDF parameters from /home/alexandre.nicolas/dataset2/chb-mit-scalp-eeg-database/chb10/chb10_13.edf...\n",
      "EDF file detected\n",
      "Setting channel info structure...\n",
      "Creating raw.info structure...\n",
      "Reading 0 ... 1843199  =      0.000 ...  7199.996 secs...\n"
     ]
    },
    {
     "name": "stderr",
     "output_type": "stream",
     "text": [
      "/tmp/ipykernel_45915/185451917.py:8: RuntimeWarning: Channel names are not unique, found duplicates for: {'T8-P8'}. Applying running numbers for duplicates.\n",
      "  raw[4].append(mne.io.read_raw_edf(f\"dataset2/chb-mit-scalp-eeg-database/chb10/chb10_{(s+1):02d}.edf\", preload=True))\n"
     ]
    },
    {
     "name": "stdout",
     "output_type": "stream",
     "text": [
      "Extracting EDF parameters from /home/alexandre.nicolas/dataset2/chb-mit-scalp-eeg-database/chb10/chb10_14.edf...\n",
      "EDF file detected\n",
      "Setting channel info structure...\n",
      "Creating raw.info structure...\n",
      "Reading 0 ... 1843199  =      0.000 ...  7199.996 secs...\n"
     ]
    },
    {
     "name": "stderr",
     "output_type": "stream",
     "text": [
      "/tmp/ipykernel_45915/185451917.py:8: RuntimeWarning: Channel names are not unique, found duplicates for: {'T8-P8'}. Applying running numbers for duplicates.\n",
      "  raw[4].append(mne.io.read_raw_edf(f\"dataset2/chb-mit-scalp-eeg-database/chb10/chb10_{(s+1):02d}.edf\", preload=True))\n"
     ]
    },
    {
     "name": "stdout",
     "output_type": "stream",
     "text": [
      "Extracting EDF parameters from /home/alexandre.nicolas/dataset2/chb-mit-scalp-eeg-database/chb10/chb10_15.edf...\n",
      "EDF file detected\n",
      "Setting channel info structure...\n",
      "Creating raw.info structure...\n",
      "Reading 0 ... 1843199  =      0.000 ...  7199.996 secs...\n"
     ]
    },
    {
     "name": "stderr",
     "output_type": "stream",
     "text": [
      "/tmp/ipykernel_45915/185451917.py:8: RuntimeWarning: Channel names are not unique, found duplicates for: {'T8-P8'}. Applying running numbers for duplicates.\n",
      "  raw[4].append(mne.io.read_raw_edf(f\"dataset2/chb-mit-scalp-eeg-database/chb10/chb10_{(s+1):02d}.edf\", preload=True))\n"
     ]
    },
    {
     "name": "stdout",
     "output_type": "stream",
     "text": [
      "Extracting EDF parameters from /home/alexandre.nicolas/dataset2/chb-mit-scalp-eeg-database/chb10/chb10_16.edf...\n",
      "EDF file detected\n",
      "Setting channel info structure...\n",
      "Creating raw.info structure...\n",
      "Reading 0 ... 1843199  =      0.000 ...  7199.996 secs...\n"
     ]
    },
    {
     "name": "stderr",
     "output_type": "stream",
     "text": [
      "/tmp/ipykernel_45915/185451917.py:8: RuntimeWarning: Channel names are not unique, found duplicates for: {'T8-P8'}. Applying running numbers for duplicates.\n",
      "  raw[4].append(mne.io.read_raw_edf(f\"dataset2/chb-mit-scalp-eeg-database/chb10/chb10_{(s+1):02d}.edf\", preload=True))\n"
     ]
    },
    {
     "name": "stdout",
     "output_type": "stream",
     "text": [
      "Extracting EDF parameters from /home/alexandre.nicolas/dataset2/chb-mit-scalp-eeg-database/chb10/chb10_17.edf...\n",
      "EDF file detected\n",
      "Setting channel info structure...\n",
      "Creating raw.info structure...\n",
      "Reading 0 ... 1843199  =      0.000 ...  7199.996 secs...\n"
     ]
    },
    {
     "name": "stderr",
     "output_type": "stream",
     "text": [
      "/tmp/ipykernel_45915/185451917.py:8: RuntimeWarning: Channel names are not unique, found duplicates for: {'T8-P8'}. Applying running numbers for duplicates.\n",
      "  raw[4].append(mne.io.read_raw_edf(f\"dataset2/chb-mit-scalp-eeg-database/chb10/chb10_{(s+1):02d}.edf\", preload=True))\n"
     ]
    },
    {
     "name": "stdout",
     "output_type": "stream",
     "text": [
      "Extracting EDF parameters from /home/alexandre.nicolas/dataset2/chb-mit-scalp-eeg-database/chb10/chb10_18.edf...\n",
      "EDF file detected\n",
      "Setting channel info structure...\n",
      "Creating raw.info structure...\n",
      "Reading 0 ... 1843199  =      0.000 ...  7199.996 secs...\n"
     ]
    },
    {
     "name": "stderr",
     "output_type": "stream",
     "text": [
      "/tmp/ipykernel_45915/185451917.py:8: RuntimeWarning: Channel names are not unique, found duplicates for: {'T8-P8'}. Applying running numbers for duplicates.\n",
      "  raw[4].append(mne.io.read_raw_edf(f\"dataset2/chb-mit-scalp-eeg-database/chb10/chb10_{(s+1):02d}.edf\", preload=True))\n"
     ]
    },
    {
     "name": "stdout",
     "output_type": "stream",
     "text": [
      "Extracting EDF parameters from /home/alexandre.nicolas/dataset2/chb-mit-scalp-eeg-database/chb10/chb10_19.edf...\n",
      "EDF file detected\n",
      "Setting channel info structure...\n",
      "Creating raw.info structure...\n",
      "Reading 0 ... 1843199  =      0.000 ...  7199.996 secs...\n"
     ]
    },
    {
     "name": "stderr",
     "output_type": "stream",
     "text": [
      "/tmp/ipykernel_45915/185451917.py:8: RuntimeWarning: Channel names are not unique, found duplicates for: {'T8-P8'}. Applying running numbers for duplicates.\n",
      "  raw[4].append(mne.io.read_raw_edf(f\"dataset2/chb-mit-scalp-eeg-database/chb10/chb10_{(s+1):02d}.edf\", preload=True))\n"
     ]
    },
    {
     "name": "stdout",
     "output_type": "stream",
     "text": [
      "Extracting EDF parameters from /home/alexandre.nicolas/dataset2/chb-mit-scalp-eeg-database/chb10/chb10_20.edf...\n",
      "EDF file detected\n",
      "Setting channel info structure...\n",
      "Creating raw.info structure...\n",
      "Reading 0 ... 1846271  =      0.000 ...  7211.996 secs...\n"
     ]
    },
    {
     "name": "stderr",
     "output_type": "stream",
     "text": [
      "/tmp/ipykernel_45915/185451917.py:8: RuntimeWarning: Channel names are not unique, found duplicates for: {'T8-P8'}. Applying running numbers for duplicates.\n",
      "  raw[4].append(mne.io.read_raw_edf(f\"dataset2/chb-mit-scalp-eeg-database/chb10/chb10_{(s+1):02d}.edf\", preload=True))\n"
     ]
    },
    {
     "name": "stdout",
     "output_type": "stream",
     "text": [
      "Extracting EDF parameters from /home/alexandre.nicolas/dataset2/chb-mit-scalp-eeg-database/chb10/chb10_21.edf...\n",
      "EDF file detected\n",
      "Setting channel info structure...\n",
      "Creating raw.info structure...\n",
      "Reading 0 ... 1843199  =      0.000 ...  7199.996 secs...\n"
     ]
    },
    {
     "name": "stderr",
     "output_type": "stream",
     "text": [
      "/tmp/ipykernel_45915/185451917.py:8: RuntimeWarning: Channel names are not unique, found duplicates for: {'T8-P8'}. Applying running numbers for duplicates.\n",
      "  raw[4].append(mne.io.read_raw_edf(f\"dataset2/chb-mit-scalp-eeg-database/chb10/chb10_{(s+1):02d}.edf\", preload=True))\n"
     ]
    },
    {
     "name": "stdout",
     "output_type": "stream",
     "text": [
      "Extracting EDF parameters from /home/alexandre.nicolas/dataset2/chb-mit-scalp-eeg-database/chb10/chb10_22.edf...\n",
      "EDF file detected\n",
      "Setting channel info structure...\n",
      "Creating raw.info structure...\n",
      "Reading 0 ... 1843199  =      0.000 ...  7199.996 secs...\n"
     ]
    },
    {
     "name": "stderr",
     "output_type": "stream",
     "text": [
      "/tmp/ipykernel_45915/185451917.py:8: RuntimeWarning: Channel names are not unique, found duplicates for: {'T8-P8'}. Applying running numbers for duplicates.\n",
      "  raw[4].append(mne.io.read_raw_edf(f\"dataset2/chb-mit-scalp-eeg-database/chb10/chb10_{(s+1):02d}.edf\", preload=True))\n"
     ]
    },
    {
     "name": "stdout",
     "output_type": "stream",
     "text": [
      "Extracting EDF parameters from /home/alexandre.nicolas/dataset2/chb-mit-scalp-eeg-database/chb10/chb10_27.edf...\n",
      "EDF file detected\n",
      "Setting channel info structure...\n",
      "Creating raw.info structure...\n",
      "Reading 0 ... 1847807  =      0.000 ...  7217.996 secs...\n"
     ]
    },
    {
     "name": "stderr",
     "output_type": "stream",
     "text": [
      "/tmp/ipykernel_45915/185451917.py:8: RuntimeWarning: Channel names are not unique, found duplicates for: {'T8-P8'}. Applying running numbers for duplicates.\n",
      "  raw[4].append(mne.io.read_raw_edf(f\"dataset2/chb-mit-scalp-eeg-database/chb10/chb10_{(s+1):02d}.edf\", preload=True))\n"
     ]
    },
    {
     "name": "stdout",
     "output_type": "stream",
     "text": [
      "Extracting EDF parameters from /home/alexandre.nicolas/dataset2/chb-mit-scalp-eeg-database/chb10/chb10_28.edf...\n",
      "EDF file detected\n",
      "Setting channel info structure...\n",
      "Creating raw.info structure...\n",
      "Reading 0 ... 1843199  =      0.000 ...  7199.996 secs...\n"
     ]
    },
    {
     "name": "stderr",
     "output_type": "stream",
     "text": [
      "/tmp/ipykernel_45915/185451917.py:8: RuntimeWarning: Channel names are not unique, found duplicates for: {'T8-P8'}. Applying running numbers for duplicates.\n",
      "  raw[4].append(mne.io.read_raw_edf(f\"dataset2/chb-mit-scalp-eeg-database/chb10/chb10_{(s+1):02d}.edf\", preload=True))\n"
     ]
    },
    {
     "name": "stdout",
     "output_type": "stream",
     "text": [
      "Extracting EDF parameters from /home/alexandre.nicolas/dataset2/chb-mit-scalp-eeg-database/chb10/chb10_30.edf...\n",
      "EDF file detected\n",
      "Setting channel info structure...\n",
      "Creating raw.info structure...\n",
      "Reading 0 ... 1846527  =      0.000 ...  7212.996 secs...\n"
     ]
    },
    {
     "name": "stderr",
     "output_type": "stream",
     "text": [
      "/tmp/ipykernel_45915/185451917.py:10: RuntimeWarning: Channel names are not unique, found duplicates for: {'T8-P8'}. Applying running numbers for duplicates.\n",
      "  raw[4].append(mne.io.read_raw_edf(\"dataset2/chb-mit-scalp-eeg-database/chb10/chb10_30.edf\", preload=True))\n"
     ]
    },
    {
     "name": "stdout",
     "output_type": "stream",
     "text": [
      "Extracting EDF parameters from /home/alexandre.nicolas/dataset2/chb-mit-scalp-eeg-database/chb10/chb10_31.edf...\n",
      "EDF file detected\n",
      "Setting channel info structure...\n",
      "Creating raw.info structure...\n",
      "Reading 0 ... 1848575  =      0.000 ...  7220.996 secs...\n"
     ]
    },
    {
     "name": "stderr",
     "output_type": "stream",
     "text": [
      "/tmp/ipykernel_45915/185451917.py:12: RuntimeWarning: Channel names are not unique, found duplicates for: {'T8-P8'}. Applying running numbers for duplicates.\n",
      "  raw[4].append(mne.io.read_raw_edf(\"dataset2/chb-mit-scalp-eeg-database/chb10/chb10_31.edf\", preload=True))\n"
     ]
    },
    {
     "name": "stdout",
     "output_type": "stream",
     "text": [
      "Extracting EDF parameters from /home/alexandre.nicolas/dataset2/chb-mit-scalp-eeg-database/chb10/chb10_38.edf...\n",
      "EDF file detected\n",
      "Setting channel info structure...\n",
      "Creating raw.info structure...\n",
      "Reading 0 ... 1843199  =      0.000 ...  7199.996 secs...\n"
     ]
    },
    {
     "name": "stderr",
     "output_type": "stream",
     "text": [
      "/tmp/ipykernel_45915/185451917.py:14: RuntimeWarning: Channel names are not unique, found duplicates for: {'T8-P8'}. Applying running numbers for duplicates.\n",
      "  raw[4].append(mne.io.read_raw_edf(\"dataset2/chb-mit-scalp-eeg-database/chb10/chb10_38.edf\", preload=True))\n"
     ]
    },
    {
     "name": "stdout",
     "output_type": "stream",
     "text": [
      "Extracting EDF parameters from /home/alexandre.nicolas/dataset2/chb-mit-scalp-eeg-database/chb10/chb10_89.edf...\n",
      "EDF file detected\n",
      "Setting channel info structure...\n",
      "Creating raw.info structure...\n",
      "Reading 0 ... 1843199  =      0.000 ...  7199.996 secs...\n"
     ]
    },
    {
     "name": "stderr",
     "output_type": "stream",
     "text": [
      "/tmp/ipykernel_45915/185451917.py:16: RuntimeWarning: Channel names are not unique, found duplicates for: {'T8-P8'}. Applying running numbers for duplicates.\n",
      "  raw[4].append(mne.io.read_raw_edf(\"dataset2/chb-mit-scalp-eeg-database/chb10/chb10_89.edf\", preload=True))\n"
     ]
    },
    {
     "name": "stdout",
     "output_type": "stream",
     "text": [
      "Extracting EDF parameters from /home/alexandre.nicolas/dataset2/chb-mit-scalp-eeg-database/chb20/chb20_01.edf...\n",
      "EDF file detected\n",
      "Setting channel info structure...\n",
      "Creating raw.info structure...\n",
      "Reading 0 ... 923135  =      0.000 ...  3605.996 secs...\n"
     ]
    },
    {
     "name": "stderr",
     "output_type": "stream",
     "text": [
      "/tmp/ipykernel_45915/185451917.py:25: RuntimeWarning: Channel names are not unique, found duplicates for: {'T8-P8', '.'}. Applying running numbers for duplicates.\n",
      "  raw[5].append(mne.io.read_raw_edf(f\"dataset2/chb-mit-scalp-eeg-database/chb20/chb20_{(s+1):02d}.edf\", preload=True))\n"
     ]
    },
    {
     "name": "stdout",
     "output_type": "stream",
     "text": [
      "Extracting EDF parameters from /home/alexandre.nicolas/dataset2/chb-mit-scalp-eeg-database/chb20/chb20_02.edf...\n",
      "EDF file detected\n",
      "Setting channel info structure...\n",
      "Creating raw.info structure...\n",
      "Reading 0 ... 921599  =      0.000 ...  3599.996 secs...\n"
     ]
    },
    {
     "name": "stderr",
     "output_type": "stream",
     "text": [
      "/tmp/ipykernel_45915/185451917.py:25: RuntimeWarning: Channel names are not unique, found duplicates for: {'T8-P8', '.'}. Applying running numbers for duplicates.\n",
      "  raw[5].append(mne.io.read_raw_edf(f\"dataset2/chb-mit-scalp-eeg-database/chb20/chb20_{(s+1):02d}.edf\", preload=True))\n"
     ]
    },
    {
     "name": "stdout",
     "output_type": "stream",
     "text": [
      "Extracting EDF parameters from /home/alexandre.nicolas/dataset2/chb-mit-scalp-eeg-database/chb20/chb20_03.edf...\n",
      "EDF file detected\n",
      "Setting channel info structure...\n",
      "Creating raw.info structure...\n",
      "Reading 0 ... 921599  =      0.000 ...  3599.996 secs...\n"
     ]
    },
    {
     "name": "stderr",
     "output_type": "stream",
     "text": [
      "/tmp/ipykernel_45915/185451917.py:25: RuntimeWarning: Channel names are not unique, found duplicates for: {'T8-P8', '.'}. Applying running numbers for duplicates.\n",
      "  raw[5].append(mne.io.read_raw_edf(f\"dataset2/chb-mit-scalp-eeg-database/chb20/chb20_{(s+1):02d}.edf\", preload=True))\n"
     ]
    },
    {
     "name": "stdout",
     "output_type": "stream",
     "text": [
      "Extracting EDF parameters from /home/alexandre.nicolas/dataset2/chb-mit-scalp-eeg-database/chb20/chb20_04.edf...\n",
      "EDF file detected\n",
      "Setting channel info structure...\n",
      "Creating raw.info structure...\n",
      "Reading 0 ... 921599  =      0.000 ...  3599.996 secs...\n"
     ]
    },
    {
     "name": "stderr",
     "output_type": "stream",
     "text": [
      "/tmp/ipykernel_45915/185451917.py:25: RuntimeWarning: Channel names are not unique, found duplicates for: {'T8-P8', '.'}. Applying running numbers for duplicates.\n",
      "  raw[5].append(mne.io.read_raw_edf(f\"dataset2/chb-mit-scalp-eeg-database/chb20/chb20_{(s+1):02d}.edf\", preload=True))\n"
     ]
    },
    {
     "name": "stdout",
     "output_type": "stream",
     "text": [
      "Extracting EDF parameters from /home/alexandre.nicolas/dataset2/chb-mit-scalp-eeg-database/chb20/chb20_05.edf...\n",
      "EDF file detected\n",
      "Setting channel info structure...\n",
      "Creating raw.info structure...\n",
      "Reading 0 ... 921599  =      0.000 ...  3599.996 secs...\n"
     ]
    },
    {
     "name": "stderr",
     "output_type": "stream",
     "text": [
      "/tmp/ipykernel_45915/185451917.py:25: RuntimeWarning: Channel names are not unique, found duplicates for: {'T8-P8', '.'}. Applying running numbers for duplicates.\n",
      "  raw[5].append(mne.io.read_raw_edf(f\"dataset2/chb-mit-scalp-eeg-database/chb20/chb20_{(s+1):02d}.edf\", preload=True))\n"
     ]
    },
    {
     "name": "stdout",
     "output_type": "stream",
     "text": [
      "Extracting EDF parameters from /home/alexandre.nicolas/dataset2/chb-mit-scalp-eeg-database/chb20/chb20_06.edf...\n",
      "EDF file detected\n",
      "Setting channel info structure...\n",
      "Creating raw.info structure...\n",
      "Reading 0 ... 921599  =      0.000 ...  3599.996 secs...\n"
     ]
    },
    {
     "name": "stderr",
     "output_type": "stream",
     "text": [
      "/tmp/ipykernel_45915/185451917.py:25: RuntimeWarning: Channel names are not unique, found duplicates for: {'T8-P8', '.'}. Applying running numbers for duplicates.\n",
      "  raw[5].append(mne.io.read_raw_edf(f\"dataset2/chb-mit-scalp-eeg-database/chb20/chb20_{(s+1):02d}.edf\", preload=True))\n"
     ]
    },
    {
     "name": "stdout",
     "output_type": "stream",
     "text": [
      "Extracting EDF parameters from /home/alexandre.nicolas/dataset2/chb-mit-scalp-eeg-database/chb20/chb20_07.edf...\n",
      "EDF file detected\n",
      "Setting channel info structure...\n",
      "Creating raw.info structure...\n",
      "Reading 0 ... 921599  =      0.000 ...  3599.996 secs...\n"
     ]
    },
    {
     "name": "stderr",
     "output_type": "stream",
     "text": [
      "/tmp/ipykernel_45915/185451917.py:25: RuntimeWarning: Channel names are not unique, found duplicates for: {'T8-P8', '.'}. Applying running numbers for duplicates.\n",
      "  raw[5].append(mne.io.read_raw_edf(f\"dataset2/chb-mit-scalp-eeg-database/chb20/chb20_{(s+1):02d}.edf\", preload=True))\n"
     ]
    },
    {
     "name": "stdout",
     "output_type": "stream",
     "text": [
      "Extracting EDF parameters from /home/alexandre.nicolas/dataset2/chb-mit-scalp-eeg-database/chb20/chb20_08.edf...\n",
      "EDF file detected\n",
      "Setting channel info structure...\n",
      "Creating raw.info structure...\n",
      "Reading 0 ... 921599  =      0.000 ...  3599.996 secs...\n"
     ]
    },
    {
     "name": "stderr",
     "output_type": "stream",
     "text": [
      "/tmp/ipykernel_45915/185451917.py:25: RuntimeWarning: Channel names are not unique, found duplicates for: {'T8-P8', '.'}. Applying running numbers for duplicates.\n",
      "  raw[5].append(mne.io.read_raw_edf(f\"dataset2/chb-mit-scalp-eeg-database/chb20/chb20_{(s+1):02d}.edf\", preload=True))\n"
     ]
    },
    {
     "name": "stdout",
     "output_type": "stream",
     "text": [
      "Extracting EDF parameters from /home/alexandre.nicolas/dataset2/chb-mit-scalp-eeg-database/chb20/chb20_11.edf...\n",
      "EDF file detected\n",
      "Setting channel info structure...\n",
      "Creating raw.info structure...\n",
      "Reading 0 ... 921599  =      0.000 ...  3599.996 secs...\n"
     ]
    },
    {
     "name": "stderr",
     "output_type": "stream",
     "text": [
      "/tmp/ipykernel_45915/185451917.py:25: RuntimeWarning: Channel names are not unique, found duplicates for: {'T8-P8', '.'}. Applying running numbers for duplicates.\n",
      "  raw[5].append(mne.io.read_raw_edf(f\"dataset2/chb-mit-scalp-eeg-database/chb20/chb20_{(s+1):02d}.edf\", preload=True))\n"
     ]
    },
    {
     "name": "stdout",
     "output_type": "stream",
     "text": [
      "Extracting EDF parameters from /home/alexandre.nicolas/dataset2/chb-mit-scalp-eeg-database/chb20/chb20_12.edf...\n",
      "EDF file detected\n",
      "Setting channel info structure...\n",
      "Creating raw.info structure...\n",
      "Reading 0 ... 921599  =      0.000 ...  3599.996 secs...\n"
     ]
    },
    {
     "name": "stderr",
     "output_type": "stream",
     "text": [
      "/tmp/ipykernel_45915/185451917.py:25: RuntimeWarning: Channel names are not unique, found duplicates for: {'T8-P8', '.'}. Applying running numbers for duplicates.\n",
      "  raw[5].append(mne.io.read_raw_edf(f\"dataset2/chb-mit-scalp-eeg-database/chb20/chb20_{(s+1):02d}.edf\", preload=True))\n"
     ]
    },
    {
     "name": "stdout",
     "output_type": "stream",
     "text": [
      "Extracting EDF parameters from /home/alexandre.nicolas/dataset2/chb-mit-scalp-eeg-database/chb20/chb20_13.edf...\n",
      "EDF file detected\n",
      "Setting channel info structure...\n",
      "Creating raw.info structure...\n",
      "Reading 0 ... 921599  =      0.000 ...  3599.996 secs...\n"
     ]
    },
    {
     "name": "stderr",
     "output_type": "stream",
     "text": [
      "/tmp/ipykernel_45915/185451917.py:25: RuntimeWarning: Channel names are not unique, found duplicates for: {'T8-P8', '.'}. Applying running numbers for duplicates.\n",
      "  raw[5].append(mne.io.read_raw_edf(f\"dataset2/chb-mit-scalp-eeg-database/chb20/chb20_{(s+1):02d}.edf\", preload=True))\n"
     ]
    },
    {
     "name": "stdout",
     "output_type": "stream",
     "text": [
      "Extracting EDF parameters from /home/alexandre.nicolas/dataset2/chb-mit-scalp-eeg-database/chb20/chb20_14.edf...\n",
      "EDF file detected\n",
      "Setting channel info structure...\n",
      "Creating raw.info structure...\n",
      "Reading 0 ... 921599  =      0.000 ...  3599.996 secs...\n"
     ]
    },
    {
     "name": "stderr",
     "output_type": "stream",
     "text": [
      "/tmp/ipykernel_45915/185451917.py:25: RuntimeWarning: Channel names are not unique, found duplicates for: {'T8-P8', '.'}. Applying running numbers for duplicates.\n",
      "  raw[5].append(mne.io.read_raw_edf(f\"dataset2/chb-mit-scalp-eeg-database/chb20/chb20_{(s+1):02d}.edf\", preload=True))\n"
     ]
    },
    {
     "name": "stdout",
     "output_type": "stream",
     "text": [
      "Extracting EDF parameters from /home/alexandre.nicolas/dataset2/chb-mit-scalp-eeg-database/chb20/chb20_15.edf...\n",
      "EDF file detected\n",
      "Setting channel info structure...\n",
      "Creating raw.info structure...\n",
      "Reading 0 ... 921599  =      0.000 ...  3599.996 secs...\n"
     ]
    },
    {
     "name": "stderr",
     "output_type": "stream",
     "text": [
      "/tmp/ipykernel_45915/185451917.py:25: RuntimeWarning: Channel names are not unique, found duplicates for: {'T8-P8', '.'}. Applying running numbers for duplicates.\n",
      "  raw[5].append(mne.io.read_raw_edf(f\"dataset2/chb-mit-scalp-eeg-database/chb20/chb20_{(s+1):02d}.edf\", preload=True))\n"
     ]
    },
    {
     "name": "stdout",
     "output_type": "stream",
     "text": [
      "Extracting EDF parameters from /home/alexandre.nicolas/dataset2/chb-mit-scalp-eeg-database/chb20/chb20_16.edf...\n",
      "EDF file detected\n",
      "Setting channel info structure...\n",
      "Creating raw.info structure...\n",
      "Reading 0 ... 888063  =      0.000 ...  3468.996 secs...\n"
     ]
    },
    {
     "name": "stderr",
     "output_type": "stream",
     "text": [
      "/tmp/ipykernel_45915/185451917.py:25: RuntimeWarning: Channel names are not unique, found duplicates for: {'T8-P8', '.'}. Applying running numbers for duplicates.\n",
      "  raw[5].append(mne.io.read_raw_edf(f\"dataset2/chb-mit-scalp-eeg-database/chb20/chb20_{(s+1):02d}.edf\", preload=True))\n"
     ]
    },
    {
     "name": "stdout",
     "output_type": "stream",
     "text": [
      "Extracting EDF parameters from /home/alexandre.nicolas/dataset2/chb-mit-scalp-eeg-database/chb20/chb20_17.edf...\n",
      "EDF file detected\n",
      "Setting channel info structure...\n",
      "Creating raw.info structure...\n",
      "Reading 0 ... 921599  =      0.000 ...  3599.996 secs...\n"
     ]
    },
    {
     "name": "stderr",
     "output_type": "stream",
     "text": [
      "/tmp/ipykernel_45915/185451917.py:25: RuntimeWarning: Channel names are not unique, found duplicates for: {'T8-P8', '.'}. Applying running numbers for duplicates.\n",
      "  raw[5].append(mne.io.read_raw_edf(f\"dataset2/chb-mit-scalp-eeg-database/chb20/chb20_{(s+1):02d}.edf\", preload=True))\n"
     ]
    },
    {
     "name": "stdout",
     "output_type": "stream",
     "text": [
      "Extracting EDF parameters from /home/alexandre.nicolas/dataset2/chb-mit-scalp-eeg-database/chb20/chb20_21.edf...\n",
      "EDF file detected\n",
      "Setting channel info structure...\n",
      "Creating raw.info structure...\n",
      "Reading 0 ... 926207  =      0.000 ...  3617.996 secs...\n"
     ]
    },
    {
     "name": "stderr",
     "output_type": "stream",
     "text": [
      "/tmp/ipykernel_45915/185451917.py:25: RuntimeWarning: Channel names are not unique, found duplicates for: {'T8-P8', '.'}. Applying running numbers for duplicates.\n",
      "  raw[5].append(mne.io.read_raw_edf(f\"dataset2/chb-mit-scalp-eeg-database/chb20/chb20_{(s+1):02d}.edf\", preload=True))\n"
     ]
    },
    {
     "name": "stdout",
     "output_type": "stream",
     "text": [
      "Extracting EDF parameters from /home/alexandre.nicolas/dataset2/chb-mit-scalp-eeg-database/chb20/chb20_22.edf...\n",
      "EDF file detected\n",
      "Setting channel info structure...\n",
      "Creating raw.info structure...\n",
      "Reading 0 ... 189951  =      0.000 ...   741.996 secs...\n",
      "Extracting EDF parameters from /home/alexandre.nicolas/dataset2/chb-mit-scalp-eeg-database/chb20/chb20_23.edf...\n",
      "EDF file detected\n",
      "Setting channel info structure...\n",
      "Creating raw.info structure...\n",
      "Reading 0 ... 758783  =      0.000 ...  2963.996 secs...\n"
     ]
    },
    {
     "name": "stderr",
     "output_type": "stream",
     "text": [
      "/tmp/ipykernel_45915/185451917.py:25: RuntimeWarning: Channel names are not unique, found duplicates for: {'T8-P8', '.'}. Applying running numbers for duplicates.\n",
      "  raw[5].append(mne.io.read_raw_edf(f\"dataset2/chb-mit-scalp-eeg-database/chb20/chb20_{(s+1):02d}.edf\", preload=True))\n",
      "/tmp/ipykernel_45915/185451917.py:25: RuntimeWarning: Channel names are not unique, found duplicates for: {'T8-P8', '.'}. Applying running numbers for duplicates.\n",
      "  raw[5].append(mne.io.read_raw_edf(f\"dataset2/chb-mit-scalp-eeg-database/chb20/chb20_{(s+1):02d}.edf\", preload=True))\n"
     ]
    },
    {
     "name": "stdout",
     "output_type": "stream",
     "text": [
      "Extracting EDF parameters from /home/alexandre.nicolas/dataset2/chb-mit-scalp-eeg-database/chb20/chb20_25.edf...\n",
      "EDF file detected\n",
      "Setting channel info structure...\n",
      "Creating raw.info structure...\n",
      "Reading 0 ... 921599  =      0.000 ...  3599.996 secs...\n"
     ]
    },
    {
     "name": "stderr",
     "output_type": "stream",
     "text": [
      "/tmp/ipykernel_45915/185451917.py:25: RuntimeWarning: Channel names are not unique, found duplicates for: {'T8-P8', '.'}. Applying running numbers for duplicates.\n",
      "  raw[5].append(mne.io.read_raw_edf(f\"dataset2/chb-mit-scalp-eeg-database/chb20/chb20_{(s+1):02d}.edf\", preload=True))\n"
     ]
    },
    {
     "name": "stdout",
     "output_type": "stream",
     "text": [
      "Extracting EDF parameters from /home/alexandre.nicolas/dataset2/chb-mit-scalp-eeg-database/chb20/chb20_26.edf...\n",
      "EDF file detected\n",
      "Setting channel info structure...\n",
      "Creating raw.info structure...\n",
      "Reading 0 ... 921599  =      0.000 ...  3599.996 secs...\n"
     ]
    },
    {
     "name": "stderr",
     "output_type": "stream",
     "text": [
      "/tmp/ipykernel_45915/185451917.py:25: RuntimeWarning: Channel names are not unique, found duplicates for: {'T8-P8', '.'}. Applying running numbers for duplicates.\n",
      "  raw[5].append(mne.io.read_raw_edf(f\"dataset2/chb-mit-scalp-eeg-database/chb20/chb20_{(s+1):02d}.edf\", preload=True))\n"
     ]
    },
    {
     "name": "stdout",
     "output_type": "stream",
     "text": [
      "Extracting EDF parameters from /home/alexandre.nicolas/dataset2/chb-mit-scalp-eeg-database/chb20/chb20_27.edf...\n",
      "EDF file detected\n",
      "Setting channel info structure...\n",
      "Creating raw.info structure...\n",
      "Reading 0 ... 921599  =      0.000 ...  3599.996 secs...\n"
     ]
    },
    {
     "name": "stderr",
     "output_type": "stream",
     "text": [
      "/tmp/ipykernel_45915/185451917.py:25: RuntimeWarning: Channel names are not unique, found duplicates for: {'T8-P8', '.'}. Applying running numbers for duplicates.\n",
      "  raw[5].append(mne.io.read_raw_edf(f\"dataset2/chb-mit-scalp-eeg-database/chb20/chb20_{(s+1):02d}.edf\", preload=True))\n"
     ]
    },
    {
     "name": "stdout",
     "output_type": "stream",
     "text": [
      "Extracting EDF parameters from /home/alexandre.nicolas/dataset2/chb-mit-scalp-eeg-database/chb20/chb20_28.edf...\n",
      "EDF file detected\n",
      "Setting channel info structure...\n",
      "Creating raw.info structure...\n",
      "Reading 0 ... 921599  =      0.000 ...  3599.996 secs...\n"
     ]
    },
    {
     "name": "stderr",
     "output_type": "stream",
     "text": [
      "/tmp/ipykernel_45915/185451917.py:25: RuntimeWarning: Channel names are not unique, found duplicates for: {'T8-P8', '.'}. Applying running numbers for duplicates.\n",
      "  raw[5].append(mne.io.read_raw_edf(f\"dataset2/chb-mit-scalp-eeg-database/chb20/chb20_{(s+1):02d}.edf\", preload=True))\n"
     ]
    },
    {
     "name": "stdout",
     "output_type": "stream",
     "text": [
      "Extracting EDF parameters from /home/alexandre.nicolas/dataset2/chb-mit-scalp-eeg-database/chb20/chb20_29.edf...\n",
      "EDF file detected\n",
      "Setting channel info structure...\n",
      "Creating raw.info structure...\n",
      "Reading 0 ... 921599  =      0.000 ...  3599.996 secs...\n"
     ]
    },
    {
     "name": "stderr",
     "output_type": "stream",
     "text": [
      "/tmp/ipykernel_45915/185451917.py:25: RuntimeWarning: Channel names are not unique, found duplicates for: {'T8-P8', '.'}. Applying running numbers for duplicates.\n",
      "  raw[5].append(mne.io.read_raw_edf(f\"dataset2/chb-mit-scalp-eeg-database/chb20/chb20_{(s+1):02d}.edf\", preload=True))\n"
     ]
    },
    {
     "name": "stdout",
     "output_type": "stream",
     "text": [
      "Extracting EDF parameters from /home/alexandre.nicolas/dataset2/chb-mit-scalp-eeg-database/chb20/chb20_30.edf...\n",
      "EDF file detected\n",
      "Setting channel info structure...\n",
      "Creating raw.info structure...\n",
      "Reading 0 ... 921599  =      0.000 ...  3599.996 secs...\n"
     ]
    },
    {
     "name": "stderr",
     "output_type": "stream",
     "text": [
      "/tmp/ipykernel_45915/185451917.py:25: RuntimeWarning: Channel names are not unique, found duplicates for: {'T8-P8', '.'}. Applying running numbers for duplicates.\n",
      "  raw[5].append(mne.io.read_raw_edf(f\"dataset2/chb-mit-scalp-eeg-database/chb20/chb20_{(s+1):02d}.edf\", preload=True))\n"
     ]
    },
    {
     "name": "stdout",
     "output_type": "stream",
     "text": [
      "Extracting EDF parameters from /home/alexandre.nicolas/dataset2/chb-mit-scalp-eeg-database/chb20/chb20_31.edf...\n",
      "EDF file detected\n",
      "Setting channel info structure...\n",
      "Creating raw.info structure...\n",
      "Reading 0 ... 921599  =      0.000 ...  3599.996 secs...\n"
     ]
    },
    {
     "name": "stderr",
     "output_type": "stream",
     "text": [
      "/tmp/ipykernel_45915/185451917.py:25: RuntimeWarning: Channel names are not unique, found duplicates for: {'T8-P8', '.'}. Applying running numbers for duplicates.\n",
      "  raw[5].append(mne.io.read_raw_edf(f\"dataset2/chb-mit-scalp-eeg-database/chb20/chb20_{(s+1):02d}.edf\", preload=True))\n"
     ]
    },
    {
     "name": "stdout",
     "output_type": "stream",
     "text": [
      "Extracting EDF parameters from /home/alexandre.nicolas/dataset2/chb-mit-scalp-eeg-database/chb20/chb20_34.edf...\n",
      "EDF file detected\n",
      "Setting channel info structure...\n",
      "Creating raw.info structure...\n",
      "Reading 0 ... 921599  =      0.000 ...  3599.996 secs...\n"
     ]
    },
    {
     "name": "stderr",
     "output_type": "stream",
     "text": [
      "/tmp/ipykernel_45915/185451917.py:27: RuntimeWarning: Channel names are not unique, found duplicates for: {'T8-P8', '.'}. Applying running numbers for duplicates.\n",
      "  raw[5].append(mne.io.read_raw_edf(\"dataset2/chb-mit-scalp-eeg-database/chb20/chb20_34.edf\", preload=True))\n"
     ]
    },
    {
     "name": "stdout",
     "output_type": "stream",
     "text": [
      "Extracting EDF parameters from /home/alexandre.nicolas/dataset2/chb-mit-scalp-eeg-database/chb20/chb20_59.edf...\n",
      "EDF file detected\n",
      "Setting channel info structure...\n",
      "Creating raw.info structure...\n",
      "Reading 0 ... 921599  =      0.000 ...  3599.996 secs...\n"
     ]
    },
    {
     "name": "stderr",
     "output_type": "stream",
     "text": [
      "/tmp/ipykernel_45915/185451917.py:29: RuntimeWarning: Channel names are not unique, found duplicates for: {'T8-P8', '.'}. Applying running numbers for duplicates.\n",
      "  raw[5].append(mne.io.read_raw_edf(\"dataset2/chb-mit-scalp-eeg-database/chb20/chb20_59.edf\", preload=True))\n"
     ]
    },
    {
     "name": "stdout",
     "output_type": "stream",
     "text": [
      "Extracting EDF parameters from /home/alexandre.nicolas/dataset2/chb-mit-scalp-eeg-database/chb20/chb20_60.edf...\n",
      "EDF file detected\n",
      "Setting channel info structure...\n",
      "Creating raw.info structure...\n",
      "Reading 0 ... 921599  =      0.000 ...  3599.996 secs...\n"
     ]
    },
    {
     "name": "stderr",
     "output_type": "stream",
     "text": [
      "/tmp/ipykernel_45915/185451917.py:31: RuntimeWarning: Channel names are not unique, found duplicates for: {'T8-P8', '.'}. Applying running numbers for duplicates.\n",
      "  raw[5].append(mne.io.read_raw_edf(\"dataset2/chb-mit-scalp-eeg-database/chb20/chb20_60.edf\", preload=True))\n"
     ]
    },
    {
     "name": "stdout",
     "output_type": "stream",
     "text": [
      "Extracting EDF parameters from /home/alexandre.nicolas/dataset2/chb-mit-scalp-eeg-database/chb20/chb20_68.edf...\n",
      "EDF file detected\n",
      "Setting channel info structure...\n",
      "Creating raw.info structure...\n",
      "Reading 0 ... 554751  =      0.000 ...  2166.996 secs...\n",
      "Extracting EDF parameters from /home/alexandre.nicolas/dataset2/chb-mit-scalp-eeg-database/chb21/chb21_01.edf...\n",
      "EDF file detected\n",
      "Setting channel info structure...\n",
      "Creating raw.info structure...\n",
      "Reading 0 ... 921599  =      0.000 ...  3599.996 secs...\n"
     ]
    },
    {
     "name": "stderr",
     "output_type": "stream",
     "text": [
      "/tmp/ipykernel_45915/185451917.py:33: RuntimeWarning: Channel names are not unique, found duplicates for: {'T8-P8', '.'}. Applying running numbers for duplicates.\n",
      "  raw[5].append(mne.io.read_raw_edf(\"dataset2/chb-mit-scalp-eeg-database/chb20/chb20_68.edf\", preload=True))\n",
      "/tmp/ipykernel_45915/185451917.py:41: RuntimeWarning: Channel names are not unique, found duplicates for: {'T8-P8', '-'}. Applying running numbers for duplicates.\n",
      "  raw[6].append(mne.io.read_raw_edf(f\"dataset2/chb-mit-scalp-eeg-database/chb21/chb21_{(s+1):02d}.edf\", preload=True))\n",
      "/tmp/ipykernel_45915/185451917.py:41: RuntimeWarning: Scaling factor is not defined in following channels:\n",
      "--0, --1, --2, --3, --4\n",
      "  raw[6].append(mne.io.read_raw_edf(f\"dataset2/chb-mit-scalp-eeg-database/chb21/chb21_{(s+1):02d}.edf\", preload=True))\n"
     ]
    },
    {
     "name": "stdout",
     "output_type": "stream",
     "text": [
      "Extracting EDF parameters from /home/alexandre.nicolas/dataset2/chb-mit-scalp-eeg-database/chb21/chb21_02.edf...\n",
      "EDF file detected\n",
      "Setting channel info structure...\n",
      "Creating raw.info structure...\n",
      "Reading 0 ... 921599  =      0.000 ...  3599.996 secs...\n"
     ]
    },
    {
     "name": "stderr",
     "output_type": "stream",
     "text": [
      "/tmp/ipykernel_45915/185451917.py:41: RuntimeWarning: Channel names are not unique, found duplicates for: {'T8-P8', '-'}. Applying running numbers for duplicates.\n",
      "  raw[6].append(mne.io.read_raw_edf(f\"dataset2/chb-mit-scalp-eeg-database/chb21/chb21_{(s+1):02d}.edf\", preload=True))\n",
      "/tmp/ipykernel_45915/185451917.py:41: RuntimeWarning: Scaling factor is not defined in following channels:\n",
      "--0, --1, --2, --3, --4\n",
      "  raw[6].append(mne.io.read_raw_edf(f\"dataset2/chb-mit-scalp-eeg-database/chb21/chb21_{(s+1):02d}.edf\", preload=True))\n"
     ]
    },
    {
     "name": "stdout",
     "output_type": "stream",
     "text": [
      "Extracting EDF parameters from /home/alexandre.nicolas/dataset2/chb-mit-scalp-eeg-database/chb21/chb21_03.edf...\n",
      "EDF file detected\n",
      "Setting channel info structure...\n",
      "Creating raw.info structure...\n",
      "Reading 0 ... 921599  =      0.000 ...  3599.996 secs...\n"
     ]
    },
    {
     "name": "stderr",
     "output_type": "stream",
     "text": [
      "/tmp/ipykernel_45915/185451917.py:41: RuntimeWarning: Channel names are not unique, found duplicates for: {'T8-P8', '-'}. Applying running numbers for duplicates.\n",
      "  raw[6].append(mne.io.read_raw_edf(f\"dataset2/chb-mit-scalp-eeg-database/chb21/chb21_{(s+1):02d}.edf\", preload=True))\n",
      "/tmp/ipykernel_45915/185451917.py:41: RuntimeWarning: Scaling factor is not defined in following channels:\n",
      "--0, --1, --2, --3, --4\n",
      "  raw[6].append(mne.io.read_raw_edf(f\"dataset2/chb-mit-scalp-eeg-database/chb21/chb21_{(s+1):02d}.edf\", preload=True))\n"
     ]
    },
    {
     "name": "stdout",
     "output_type": "stream",
     "text": [
      "Extracting EDF parameters from /home/alexandre.nicolas/dataset2/chb-mit-scalp-eeg-database/chb21/chb21_04.edf...\n",
      "EDF file detected\n",
      "Setting channel info structure...\n",
      "Creating raw.info structure...\n",
      "Reading 0 ... 921599  =      0.000 ...  3599.996 secs...\n"
     ]
    },
    {
     "name": "stderr",
     "output_type": "stream",
     "text": [
      "/tmp/ipykernel_45915/185451917.py:41: RuntimeWarning: Channel names are not unique, found duplicates for: {'T8-P8', '-'}. Applying running numbers for duplicates.\n",
      "  raw[6].append(mne.io.read_raw_edf(f\"dataset2/chb-mit-scalp-eeg-database/chb21/chb21_{(s+1):02d}.edf\", preload=True))\n",
      "/tmp/ipykernel_45915/185451917.py:41: RuntimeWarning: Scaling factor is not defined in following channels:\n",
      "--0, --1, --2, --3, --4\n",
      "  raw[6].append(mne.io.read_raw_edf(f\"dataset2/chb-mit-scalp-eeg-database/chb21/chb21_{(s+1):02d}.edf\", preload=True))\n"
     ]
    },
    {
     "name": "stdout",
     "output_type": "stream",
     "text": [
      "Extracting EDF parameters from /home/alexandre.nicolas/dataset2/chb-mit-scalp-eeg-database/chb21/chb21_05.edf...\n",
      "EDF file detected\n",
      "Setting channel info structure...\n",
      "Creating raw.info structure...\n",
      "Reading 0 ... 921599  =      0.000 ...  3599.996 secs...\n"
     ]
    },
    {
     "name": "stderr",
     "output_type": "stream",
     "text": [
      "/tmp/ipykernel_45915/185451917.py:41: RuntimeWarning: Channel names are not unique, found duplicates for: {'T8-P8', '-'}. Applying running numbers for duplicates.\n",
      "  raw[6].append(mne.io.read_raw_edf(f\"dataset2/chb-mit-scalp-eeg-database/chb21/chb21_{(s+1):02d}.edf\", preload=True))\n",
      "/tmp/ipykernel_45915/185451917.py:41: RuntimeWarning: Scaling factor is not defined in following channels:\n",
      "--0, --1, --2, --3, --4\n",
      "  raw[6].append(mne.io.read_raw_edf(f\"dataset2/chb-mit-scalp-eeg-database/chb21/chb21_{(s+1):02d}.edf\", preload=True))\n"
     ]
    },
    {
     "name": "stdout",
     "output_type": "stream",
     "text": [
      "Extracting EDF parameters from /home/alexandre.nicolas/dataset2/chb-mit-scalp-eeg-database/chb21/chb21_06.edf...\n",
      "EDF file detected\n",
      "Setting channel info structure...\n",
      "Creating raw.info structure...\n",
      "Reading 0 ... 921599  =      0.000 ...  3599.996 secs...\n"
     ]
    },
    {
     "name": "stderr",
     "output_type": "stream",
     "text": [
      "/tmp/ipykernel_45915/185451917.py:41: RuntimeWarning: Channel names are not unique, found duplicates for: {'T8-P8', '-'}. Applying running numbers for duplicates.\n",
      "  raw[6].append(mne.io.read_raw_edf(f\"dataset2/chb-mit-scalp-eeg-database/chb21/chb21_{(s+1):02d}.edf\", preload=True))\n",
      "/tmp/ipykernel_45915/185451917.py:41: RuntimeWarning: Scaling factor is not defined in following channels:\n",
      "--0, --1, --2, --3, --4\n",
      "  raw[6].append(mne.io.read_raw_edf(f\"dataset2/chb-mit-scalp-eeg-database/chb21/chb21_{(s+1):02d}.edf\", preload=True))\n"
     ]
    },
    {
     "name": "stdout",
     "output_type": "stream",
     "text": [
      "Extracting EDF parameters from /home/alexandre.nicolas/dataset2/chb-mit-scalp-eeg-database/chb21/chb21_07.edf...\n",
      "EDF file detected\n",
      "Setting channel info structure...\n",
      "Creating raw.info structure...\n",
      "Reading 0 ... 921599  =      0.000 ...  3599.996 secs...\n"
     ]
    },
    {
     "name": "stderr",
     "output_type": "stream",
     "text": [
      "/tmp/ipykernel_45915/185451917.py:41: RuntimeWarning: Channel names are not unique, found duplicates for: {'T8-P8', '-'}. Applying running numbers for duplicates.\n",
      "  raw[6].append(mne.io.read_raw_edf(f\"dataset2/chb-mit-scalp-eeg-database/chb21/chb21_{(s+1):02d}.edf\", preload=True))\n",
      "/tmp/ipykernel_45915/185451917.py:41: RuntimeWarning: Scaling factor is not defined in following channels:\n",
      "--0, --1, --2, --3, --4\n",
      "  raw[6].append(mne.io.read_raw_edf(f\"dataset2/chb-mit-scalp-eeg-database/chb21/chb21_{(s+1):02d}.edf\", preload=True))\n"
     ]
    },
    {
     "name": "stdout",
     "output_type": "stream",
     "text": [
      "Extracting EDF parameters from /home/alexandre.nicolas/dataset2/chb-mit-scalp-eeg-database/chb21/chb21_08.edf...\n",
      "EDF file detected\n",
      "Setting channel info structure...\n",
      "Creating raw.info structure...\n",
      "Reading 0 ... 921599  =      0.000 ...  3599.996 secs...\n"
     ]
    },
    {
     "name": "stderr",
     "output_type": "stream",
     "text": [
      "/tmp/ipykernel_45915/185451917.py:41: RuntimeWarning: Channel names are not unique, found duplicates for: {'T8-P8', '-'}. Applying running numbers for duplicates.\n",
      "  raw[6].append(mne.io.read_raw_edf(f\"dataset2/chb-mit-scalp-eeg-database/chb21/chb21_{(s+1):02d}.edf\", preload=True))\n",
      "/tmp/ipykernel_45915/185451917.py:41: RuntimeWarning: Scaling factor is not defined in following channels:\n",
      "--0, --1, --2, --3, --4\n",
      "  raw[6].append(mne.io.read_raw_edf(f\"dataset2/chb-mit-scalp-eeg-database/chb21/chb21_{(s+1):02d}.edf\", preload=True))\n"
     ]
    },
    {
     "name": "stdout",
     "output_type": "stream",
     "text": [
      "Extracting EDF parameters from /home/alexandre.nicolas/dataset2/chb-mit-scalp-eeg-database/chb21/chb21_09.edf...\n",
      "EDF file detected\n",
      "Setting channel info structure...\n",
      "Creating raw.info structure...\n",
      "Reading 0 ... 921599  =      0.000 ...  3599.996 secs...\n"
     ]
    },
    {
     "name": "stderr",
     "output_type": "stream",
     "text": [
      "/tmp/ipykernel_45915/185451917.py:41: RuntimeWarning: Channel names are not unique, found duplicates for: {'T8-P8', '-'}. Applying running numbers for duplicates.\n",
      "  raw[6].append(mne.io.read_raw_edf(f\"dataset2/chb-mit-scalp-eeg-database/chb21/chb21_{(s+1):02d}.edf\", preload=True))\n",
      "/tmp/ipykernel_45915/185451917.py:41: RuntimeWarning: Scaling factor is not defined in following channels:\n",
      "--0, --1, --2, --3, --4\n",
      "  raw[6].append(mne.io.read_raw_edf(f\"dataset2/chb-mit-scalp-eeg-database/chb21/chb21_{(s+1):02d}.edf\", preload=True))\n"
     ]
    },
    {
     "name": "stdout",
     "output_type": "stream",
     "text": [
      "Extracting EDF parameters from /home/alexandre.nicolas/dataset2/chb-mit-scalp-eeg-database/chb21/chb21_10.edf...\n",
      "EDF file detected\n",
      "Setting channel info structure...\n",
      "Creating raw.info structure...\n",
      "Reading 0 ... 921599  =      0.000 ...  3599.996 secs...\n"
     ]
    },
    {
     "name": "stderr",
     "output_type": "stream",
     "text": [
      "/tmp/ipykernel_45915/185451917.py:41: RuntimeWarning: Channel names are not unique, found duplicates for: {'T8-P8', '-'}. Applying running numbers for duplicates.\n",
      "  raw[6].append(mne.io.read_raw_edf(f\"dataset2/chb-mit-scalp-eeg-database/chb21/chb21_{(s+1):02d}.edf\", preload=True))\n",
      "/tmp/ipykernel_45915/185451917.py:41: RuntimeWarning: Scaling factor is not defined in following channels:\n",
      "--0, --1, --2, --3, --4\n",
      "  raw[6].append(mne.io.read_raw_edf(f\"dataset2/chb-mit-scalp-eeg-database/chb21/chb21_{(s+1):02d}.edf\", preload=True))\n"
     ]
    },
    {
     "name": "stdout",
     "output_type": "stream",
     "text": [
      "Extracting EDF parameters from /home/alexandre.nicolas/dataset2/chb-mit-scalp-eeg-database/chb21/chb21_11.edf...\n",
      "EDF file detected\n",
      "Setting channel info structure...\n",
      "Creating raw.info structure...\n",
      "Reading 0 ... 921599  =      0.000 ...  3599.996 secs...\n"
     ]
    },
    {
     "name": "stderr",
     "output_type": "stream",
     "text": [
      "/tmp/ipykernel_45915/185451917.py:41: RuntimeWarning: Channel names are not unique, found duplicates for: {'T8-P8', '-'}. Applying running numbers for duplicates.\n",
      "  raw[6].append(mne.io.read_raw_edf(f\"dataset2/chb-mit-scalp-eeg-database/chb21/chb21_{(s+1):02d}.edf\", preload=True))\n",
      "/tmp/ipykernel_45915/185451917.py:41: RuntimeWarning: Scaling factor is not defined in following channels:\n",
      "--0, --1, --2, --3, --4\n",
      "  raw[6].append(mne.io.read_raw_edf(f\"dataset2/chb-mit-scalp-eeg-database/chb21/chb21_{(s+1):02d}.edf\", preload=True))\n"
     ]
    },
    {
     "name": "stdout",
     "output_type": "stream",
     "text": [
      "Extracting EDF parameters from /home/alexandre.nicolas/dataset2/chb-mit-scalp-eeg-database/chb21/chb21_12.edf...\n",
      "EDF file detected\n",
      "Setting channel info structure...\n",
      "Creating raw.info structure...\n",
      "Reading 0 ... 921599  =      0.000 ...  3599.996 secs...\n"
     ]
    },
    {
     "name": "stderr",
     "output_type": "stream",
     "text": [
      "/tmp/ipykernel_45915/185451917.py:41: RuntimeWarning: Channel names are not unique, found duplicates for: {'T8-P8', '-'}. Applying running numbers for duplicates.\n",
      "  raw[6].append(mne.io.read_raw_edf(f\"dataset2/chb-mit-scalp-eeg-database/chb21/chb21_{(s+1):02d}.edf\", preload=True))\n",
      "/tmp/ipykernel_45915/185451917.py:41: RuntimeWarning: Scaling factor is not defined in following channels:\n",
      "--0, --1, --2, --3, --4\n",
      "  raw[6].append(mne.io.read_raw_edf(f\"dataset2/chb-mit-scalp-eeg-database/chb21/chb21_{(s+1):02d}.edf\", preload=True))\n"
     ]
    },
    {
     "name": "stdout",
     "output_type": "stream",
     "text": [
      "Extracting EDF parameters from /home/alexandre.nicolas/dataset2/chb-mit-scalp-eeg-database/chb21/chb21_13.edf...\n",
      "EDF file detected\n",
      "Setting channel info structure...\n",
      "Creating raw.info structure...\n",
      "Reading 0 ... 921599  =      0.000 ...  3599.996 secs...\n"
     ]
    },
    {
     "name": "stderr",
     "output_type": "stream",
     "text": [
      "/tmp/ipykernel_45915/185451917.py:41: RuntimeWarning: Channel names are not unique, found duplicates for: {'T8-P8', '-'}. Applying running numbers for duplicates.\n",
      "  raw[6].append(mne.io.read_raw_edf(f\"dataset2/chb-mit-scalp-eeg-database/chb21/chb21_{(s+1):02d}.edf\", preload=True))\n",
      "/tmp/ipykernel_45915/185451917.py:41: RuntimeWarning: Scaling factor is not defined in following channels:\n",
      "--0, --1, --2, --3, --4\n",
      "  raw[6].append(mne.io.read_raw_edf(f\"dataset2/chb-mit-scalp-eeg-database/chb21/chb21_{(s+1):02d}.edf\", preload=True))\n"
     ]
    },
    {
     "name": "stdout",
     "output_type": "stream",
     "text": [
      "Extracting EDF parameters from /home/alexandre.nicolas/dataset2/chb-mit-scalp-eeg-database/chb21/chb21_14.edf...\n",
      "EDF file detected\n",
      "Setting channel info structure...\n",
      "Creating raw.info structure...\n",
      "Reading 0 ... 921599  =      0.000 ...  3599.996 secs...\n"
     ]
    },
    {
     "name": "stderr",
     "output_type": "stream",
     "text": [
      "/tmp/ipykernel_45915/185451917.py:41: RuntimeWarning: Channel names are not unique, found duplicates for: {'T8-P8', '-'}. Applying running numbers for duplicates.\n",
      "  raw[6].append(mne.io.read_raw_edf(f\"dataset2/chb-mit-scalp-eeg-database/chb21/chb21_{(s+1):02d}.edf\", preload=True))\n",
      "/tmp/ipykernel_45915/185451917.py:41: RuntimeWarning: Scaling factor is not defined in following channels:\n",
      "--0, --1, --2, --3, --4\n",
      "  raw[6].append(mne.io.read_raw_edf(f\"dataset2/chb-mit-scalp-eeg-database/chb21/chb21_{(s+1):02d}.edf\", preload=True))\n"
     ]
    },
    {
     "name": "stdout",
     "output_type": "stream",
     "text": [
      "Extracting EDF parameters from /home/alexandre.nicolas/dataset2/chb-mit-scalp-eeg-database/chb21/chb21_15.edf...\n",
      "EDF file detected\n",
      "Setting channel info structure...\n",
      "Creating raw.info structure...\n",
      "Reading 0 ... 921599  =      0.000 ...  3599.996 secs...\n"
     ]
    },
    {
     "name": "stderr",
     "output_type": "stream",
     "text": [
      "/tmp/ipykernel_45915/185451917.py:41: RuntimeWarning: Channel names are not unique, found duplicates for: {'T8-P8', '-'}. Applying running numbers for duplicates.\n",
      "  raw[6].append(mne.io.read_raw_edf(f\"dataset2/chb-mit-scalp-eeg-database/chb21/chb21_{(s+1):02d}.edf\", preload=True))\n",
      "/tmp/ipykernel_45915/185451917.py:41: RuntimeWarning: Scaling factor is not defined in following channels:\n",
      "--0, --1, --2, --3, --4\n",
      "  raw[6].append(mne.io.read_raw_edf(f\"dataset2/chb-mit-scalp-eeg-database/chb21/chb21_{(s+1):02d}.edf\", preload=True))\n"
     ]
    },
    {
     "name": "stdout",
     "output_type": "stream",
     "text": [
      "Extracting EDF parameters from /home/alexandre.nicolas/dataset2/chb-mit-scalp-eeg-database/chb21/chb21_16.edf...\n",
      "EDF file detected\n",
      "Setting channel info structure...\n",
      "Creating raw.info structure...\n",
      "Reading 0 ... 921343  =      0.000 ...  3598.996 secs...\n"
     ]
    },
    {
     "name": "stderr",
     "output_type": "stream",
     "text": [
      "/tmp/ipykernel_45915/185451917.py:41: RuntimeWarning: Channel names are not unique, found duplicates for: {'T8-P8', '-'}. Applying running numbers for duplicates.\n",
      "  raw[6].append(mne.io.read_raw_edf(f\"dataset2/chb-mit-scalp-eeg-database/chb21/chb21_{(s+1):02d}.edf\", preload=True))\n",
      "/tmp/ipykernel_45915/185451917.py:41: RuntimeWarning: Scaling factor is not defined in following channels:\n",
      "--0, --1, --2, --3, --4\n",
      "  raw[6].append(mne.io.read_raw_edf(f\"dataset2/chb-mit-scalp-eeg-database/chb21/chb21_{(s+1):02d}.edf\", preload=True))\n"
     ]
    },
    {
     "name": "stdout",
     "output_type": "stream",
     "text": [
      "Extracting EDF parameters from /home/alexandre.nicolas/dataset2/chb-mit-scalp-eeg-database/chb21/chb21_17.edf...\n",
      "EDF file detected\n",
      "Setting channel info structure...\n",
      "Creating raw.info structure...\n",
      "Reading 0 ... 921599  =      0.000 ...  3599.996 secs...\n"
     ]
    },
    {
     "name": "stderr",
     "output_type": "stream",
     "text": [
      "/tmp/ipykernel_45915/185451917.py:41: RuntimeWarning: Channel names are not unique, found duplicates for: {'T8-P8', '-'}. Applying running numbers for duplicates.\n",
      "  raw[6].append(mne.io.read_raw_edf(f\"dataset2/chb-mit-scalp-eeg-database/chb21/chb21_{(s+1):02d}.edf\", preload=True))\n",
      "/tmp/ipykernel_45915/185451917.py:41: RuntimeWarning: Scaling factor is not defined in following channels:\n",
      "--0, --1, --2, --3, --4\n",
      "  raw[6].append(mne.io.read_raw_edf(f\"dataset2/chb-mit-scalp-eeg-database/chb21/chb21_{(s+1):02d}.edf\", preload=True))\n"
     ]
    },
    {
     "name": "stdout",
     "output_type": "stream",
     "text": [
      "Extracting EDF parameters from /home/alexandre.nicolas/dataset2/chb-mit-scalp-eeg-database/chb21/chb21_18.edf...\n",
      "EDF file detected\n",
      "Setting channel info structure...\n",
      "Creating raw.info structure...\n",
      "Reading 0 ... 921599  =      0.000 ...  3599.996 secs...\n"
     ]
    },
    {
     "name": "stderr",
     "output_type": "stream",
     "text": [
      "/tmp/ipykernel_45915/185451917.py:41: RuntimeWarning: Channel names are not unique, found duplicates for: {'T8-P8', '-'}. Applying running numbers for duplicates.\n",
      "  raw[6].append(mne.io.read_raw_edf(f\"dataset2/chb-mit-scalp-eeg-database/chb21/chb21_{(s+1):02d}.edf\", preload=True))\n",
      "/tmp/ipykernel_45915/185451917.py:41: RuntimeWarning: Scaling factor is not defined in following channels:\n",
      "--0, --1, --2, --3, --4\n",
      "  raw[6].append(mne.io.read_raw_edf(f\"dataset2/chb-mit-scalp-eeg-database/chb21/chb21_{(s+1):02d}.edf\", preload=True))\n"
     ]
    },
    {
     "name": "stdout",
     "output_type": "stream",
     "text": [
      "Extracting EDF parameters from /home/alexandre.nicolas/dataset2/chb-mit-scalp-eeg-database/chb21/chb21_19.edf...\n",
      "EDF file detected\n",
      "Setting channel info structure...\n",
      "Creating raw.info structure...\n",
      "Reading 0 ... 921599  =      0.000 ...  3599.996 secs...\n"
     ]
    },
    {
     "name": "stderr",
     "output_type": "stream",
     "text": [
      "/tmp/ipykernel_45915/185451917.py:41: RuntimeWarning: Channel names are not unique, found duplicates for: {'T8-P8', '-'}. Applying running numbers for duplicates.\n",
      "  raw[6].append(mne.io.read_raw_edf(f\"dataset2/chb-mit-scalp-eeg-database/chb21/chb21_{(s+1):02d}.edf\", preload=True))\n",
      "/tmp/ipykernel_45915/185451917.py:41: RuntimeWarning: Scaling factor is not defined in following channels:\n",
      "--0, --1, --2, --3, --4\n",
      "  raw[6].append(mne.io.read_raw_edf(f\"dataset2/chb-mit-scalp-eeg-database/chb21/chb21_{(s+1):02d}.edf\", preload=True))\n"
     ]
    },
    {
     "name": "stdout",
     "output_type": "stream",
     "text": [
      "Extracting EDF parameters from /home/alexandre.nicolas/dataset2/chb-mit-scalp-eeg-database/chb21/chb21_20.edf...\n",
      "EDF file detected\n",
      "Setting channel info structure...\n",
      "Creating raw.info structure...\n",
      "Reading 0 ... 765439  =      0.000 ...  2989.996 secs...\n"
     ]
    },
    {
     "name": "stderr",
     "output_type": "stream",
     "text": [
      "/tmp/ipykernel_45915/185451917.py:41: RuntimeWarning: Channel names are not unique, found duplicates for: {'T8-P8', '-'}. Applying running numbers for duplicates.\n",
      "  raw[6].append(mne.io.read_raw_edf(f\"dataset2/chb-mit-scalp-eeg-database/chb21/chb21_{(s+1):02d}.edf\", preload=True))\n",
      "/tmp/ipykernel_45915/185451917.py:41: RuntimeWarning: Scaling factor is not defined in following channels:\n",
      "--0, --1, --2, --3, --4\n",
      "  raw[6].append(mne.io.read_raw_edf(f\"dataset2/chb-mit-scalp-eeg-database/chb21/chb21_{(s+1):02d}.edf\", preload=True))\n"
     ]
    },
    {
     "name": "stdout",
     "output_type": "stream",
     "text": [
      "Extracting EDF parameters from /home/alexandre.nicolas/dataset2/chb-mit-scalp-eeg-database/chb21/chb21_21.edf...\n",
      "EDF file detected\n",
      "Setting channel info structure...\n",
      "Creating raw.info structure...\n",
      "Reading 0 ... 921599  =      0.000 ...  3599.996 secs...\n"
     ]
    },
    {
     "name": "stderr",
     "output_type": "stream",
     "text": [
      "/tmp/ipykernel_45915/185451917.py:41: RuntimeWarning: Channel names are not unique, found duplicates for: {'T8-P8', '-'}. Applying running numbers for duplicates.\n",
      "  raw[6].append(mne.io.read_raw_edf(f\"dataset2/chb-mit-scalp-eeg-database/chb21/chb21_{(s+1):02d}.edf\", preload=True))\n",
      "/tmp/ipykernel_45915/185451917.py:41: RuntimeWarning: Scaling factor is not defined in following channels:\n",
      "--0, --1, --2, --3, --4\n",
      "  raw[6].append(mne.io.read_raw_edf(f\"dataset2/chb-mit-scalp-eeg-database/chb21/chb21_{(s+1):02d}.edf\", preload=True))\n"
     ]
    },
    {
     "name": "stdout",
     "output_type": "stream",
     "text": [
      "Extracting EDF parameters from /home/alexandre.nicolas/dataset2/chb-mit-scalp-eeg-database/chb21/chb21_22.edf...\n",
      "EDF file detected\n",
      "Setting channel info structure...\n",
      "Creating raw.info structure...\n",
      "Reading 0 ... 921599  =      0.000 ...  3599.996 secs...\n"
     ]
    },
    {
     "name": "stderr",
     "output_type": "stream",
     "text": [
      "/tmp/ipykernel_45915/185451917.py:41: RuntimeWarning: Channel names are not unique, found duplicates for: {'T8-P8', '-'}. Applying running numbers for duplicates.\n",
      "  raw[6].append(mne.io.read_raw_edf(f\"dataset2/chb-mit-scalp-eeg-database/chb21/chb21_{(s+1):02d}.edf\", preload=True))\n",
      "/tmp/ipykernel_45915/185451917.py:41: RuntimeWarning: Scaling factor is not defined in following channels:\n",
      "--0, --1, --2, --3, --4\n",
      "  raw[6].append(mne.io.read_raw_edf(f\"dataset2/chb-mit-scalp-eeg-database/chb21/chb21_{(s+1):02d}.edf\", preload=True))\n"
     ]
    },
    {
     "name": "stdout",
     "output_type": "stream",
     "text": [
      "Extracting EDF parameters from /home/alexandre.nicolas/dataset2/chb-mit-scalp-eeg-database/chb21/chb21_23.edf...\n",
      "EDF file detected\n",
      "Setting channel info structure...\n",
      "Creating raw.info structure...\n",
      "Reading 0 ... 921599  =      0.000 ...  3599.996 secs...\n"
     ]
    },
    {
     "name": "stderr",
     "output_type": "stream",
     "text": [
      "/tmp/ipykernel_45915/185451917.py:41: RuntimeWarning: Channel names are not unique, found duplicates for: {'T8-P8', '-'}. Applying running numbers for duplicates.\n",
      "  raw[6].append(mne.io.read_raw_edf(f\"dataset2/chb-mit-scalp-eeg-database/chb21/chb21_{(s+1):02d}.edf\", preload=True))\n",
      "/tmp/ipykernel_45915/185451917.py:41: RuntimeWarning: Scaling factor is not defined in following channels:\n",
      "--0, --1, --2, --3, --4\n",
      "  raw[6].append(mne.io.read_raw_edf(f\"dataset2/chb-mit-scalp-eeg-database/chb21/chb21_{(s+1):02d}.edf\", preload=True))\n"
     ]
    },
    {
     "name": "stdout",
     "output_type": "stream",
     "text": [
      "Extracting EDF parameters from /home/alexandre.nicolas/dataset2/chb-mit-scalp-eeg-database/chb21/chb21_24.edf...\n",
      "EDF file detected\n",
      "Setting channel info structure...\n",
      "Creating raw.info structure...\n",
      "Reading 0 ... 921599  =      0.000 ...  3599.996 secs...\n"
     ]
    },
    {
     "name": "stderr",
     "output_type": "stream",
     "text": [
      "/tmp/ipykernel_45915/185451917.py:41: RuntimeWarning: Channel names are not unique, found duplicates for: {'T8-P8', '-'}. Applying running numbers for duplicates.\n",
      "  raw[6].append(mne.io.read_raw_edf(f\"dataset2/chb-mit-scalp-eeg-database/chb21/chb21_{(s+1):02d}.edf\", preload=True))\n",
      "/tmp/ipykernel_45915/185451917.py:41: RuntimeWarning: Scaling factor is not defined in following channels:\n",
      "--0, --1, --2, --3, --4\n",
      "  raw[6].append(mne.io.read_raw_edf(f\"dataset2/chb-mit-scalp-eeg-database/chb21/chb21_{(s+1):02d}.edf\", preload=True))\n"
     ]
    },
    {
     "name": "stdout",
     "output_type": "stream",
     "text": [
      "Extracting EDF parameters from /home/alexandre.nicolas/dataset2/chb-mit-scalp-eeg-database/chb21/chb21_25.edf...\n",
      "EDF file detected\n",
      "Setting channel info structure...\n",
      "Creating raw.info structure...\n",
      "Reading 0 ... 921599  =      0.000 ...  3599.996 secs...\n"
     ]
    },
    {
     "name": "stderr",
     "output_type": "stream",
     "text": [
      "/tmp/ipykernel_45915/185451917.py:41: RuntimeWarning: Channel names are not unique, found duplicates for: {'T8-P8', '-'}. Applying running numbers for duplicates.\n",
      "  raw[6].append(mne.io.read_raw_edf(f\"dataset2/chb-mit-scalp-eeg-database/chb21/chb21_{(s+1):02d}.edf\", preload=True))\n",
      "/tmp/ipykernel_45915/185451917.py:41: RuntimeWarning: Scaling factor is not defined in following channels:\n",
      "--0, --1, --2, --3, --4\n",
      "  raw[6].append(mne.io.read_raw_edf(f\"dataset2/chb-mit-scalp-eeg-database/chb21/chb21_{(s+1):02d}.edf\", preload=True))\n"
     ]
    },
    {
     "name": "stdout",
     "output_type": "stream",
     "text": [
      "Extracting EDF parameters from /home/alexandre.nicolas/dataset2/chb-mit-scalp-eeg-database/chb21/chb21_26.edf...\n",
      "EDF file detected\n",
      "Setting channel info structure...\n",
      "Creating raw.info structure...\n",
      "Reading 0 ... 921599  =      0.000 ...  3599.996 secs...\n"
     ]
    },
    {
     "name": "stderr",
     "output_type": "stream",
     "text": [
      "/tmp/ipykernel_45915/185451917.py:41: RuntimeWarning: Channel names are not unique, found duplicates for: {'T8-P8', '-'}. Applying running numbers for duplicates.\n",
      "  raw[6].append(mne.io.read_raw_edf(f\"dataset2/chb-mit-scalp-eeg-database/chb21/chb21_{(s+1):02d}.edf\", preload=True))\n",
      "/tmp/ipykernel_45915/185451917.py:41: RuntimeWarning: Scaling factor is not defined in following channels:\n",
      "--0, --1, --2, --3, --4\n",
      "  raw[6].append(mne.io.read_raw_edf(f\"dataset2/chb-mit-scalp-eeg-database/chb21/chb21_{(s+1):02d}.edf\", preload=True))\n"
     ]
    },
    {
     "name": "stdout",
     "output_type": "stream",
     "text": [
      "Extracting EDF parameters from /home/alexandre.nicolas/dataset2/chb-mit-scalp-eeg-database/chb21/chb21_27.edf...\n",
      "EDF file detected\n",
      "Setting channel info structure...\n",
      "Creating raw.info structure...\n",
      "Reading 0 ... 921599  =      0.000 ...  3599.996 secs...\n"
     ]
    },
    {
     "name": "stderr",
     "output_type": "stream",
     "text": [
      "/tmp/ipykernel_45915/185451917.py:41: RuntimeWarning: Channel names are not unique, found duplicates for: {'T8-P8', '-'}. Applying running numbers for duplicates.\n",
      "  raw[6].append(mne.io.read_raw_edf(f\"dataset2/chb-mit-scalp-eeg-database/chb21/chb21_{(s+1):02d}.edf\", preload=True))\n",
      "/tmp/ipykernel_45915/185451917.py:41: RuntimeWarning: Scaling factor is not defined in following channels:\n",
      "--0, --1, --2, --3, --4\n",
      "  raw[6].append(mne.io.read_raw_edf(f\"dataset2/chb-mit-scalp-eeg-database/chb21/chb21_{(s+1):02d}.edf\", preload=True))\n"
     ]
    },
    {
     "name": "stdout",
     "output_type": "stream",
     "text": [
      "Extracting EDF parameters from /home/alexandre.nicolas/dataset2/chb-mit-scalp-eeg-database/chb21/chb21_28.edf...\n",
      "EDF file detected\n",
      "Setting channel info structure...\n",
      "Creating raw.info structure...\n",
      "Reading 0 ... 921599  =      0.000 ...  3599.996 secs...\n"
     ]
    },
    {
     "name": "stderr",
     "output_type": "stream",
     "text": [
      "/tmp/ipykernel_45915/185451917.py:41: RuntimeWarning: Channel names are not unique, found duplicates for: {'T8-P8', '-'}. Applying running numbers for duplicates.\n",
      "  raw[6].append(mne.io.read_raw_edf(f\"dataset2/chb-mit-scalp-eeg-database/chb21/chb21_{(s+1):02d}.edf\", preload=True))\n",
      "/tmp/ipykernel_45915/185451917.py:41: RuntimeWarning: Scaling factor is not defined in following channels:\n",
      "--0, --1, --2, --3, --4\n",
      "  raw[6].append(mne.io.read_raw_edf(f\"dataset2/chb-mit-scalp-eeg-database/chb21/chb21_{(s+1):02d}.edf\", preload=True))\n"
     ]
    },
    {
     "name": "stdout",
     "output_type": "stream",
     "text": [
      "Extracting EDF parameters from /home/alexandre.nicolas/dataset2/chb-mit-scalp-eeg-database/chb21/chb21_29.edf...\n",
      "EDF file detected\n",
      "Setting channel info structure...\n",
      "Creating raw.info structure...\n",
      "Reading 0 ... 921599  =      0.000 ...  3599.996 secs...\n"
     ]
    },
    {
     "name": "stderr",
     "output_type": "stream",
     "text": [
      "/tmp/ipykernel_45915/185451917.py:41: RuntimeWarning: Channel names are not unique, found duplicates for: {'T8-P8', '-'}. Applying running numbers for duplicates.\n",
      "  raw[6].append(mne.io.read_raw_edf(f\"dataset2/chb-mit-scalp-eeg-database/chb21/chb21_{(s+1):02d}.edf\", preload=True))\n",
      "/tmp/ipykernel_45915/185451917.py:41: RuntimeWarning: Scaling factor is not defined in following channels:\n",
      "--0, --1, --2, --3, --4\n",
      "  raw[6].append(mne.io.read_raw_edf(f\"dataset2/chb-mit-scalp-eeg-database/chb21/chb21_{(s+1):02d}.edf\", preload=True))\n"
     ]
    },
    {
     "name": "stdout",
     "output_type": "stream",
     "text": [
      "Extracting EDF parameters from /home/alexandre.nicolas/dataset2/chb-mit-scalp-eeg-database/chb21/chb21_30.edf...\n",
      "EDF file detected\n",
      "Setting channel info structure...\n",
      "Creating raw.info structure...\n",
      "Reading 0 ... 921599  =      0.000 ...  3599.996 secs...\n"
     ]
    },
    {
     "name": "stderr",
     "output_type": "stream",
     "text": [
      "/tmp/ipykernel_45915/185451917.py:41: RuntimeWarning: Channel names are not unique, found duplicates for: {'T8-P8', '-'}. Applying running numbers for duplicates.\n",
      "  raw[6].append(mne.io.read_raw_edf(f\"dataset2/chb-mit-scalp-eeg-database/chb21/chb21_{(s+1):02d}.edf\", preload=True))\n",
      "/tmp/ipykernel_45915/185451917.py:41: RuntimeWarning: Scaling factor is not defined in following channels:\n",
      "--0, --1, --2, --3, --4\n",
      "  raw[6].append(mne.io.read_raw_edf(f\"dataset2/chb-mit-scalp-eeg-database/chb21/chb21_{(s+1):02d}.edf\", preload=True))\n"
     ]
    },
    {
     "name": "stdout",
     "output_type": "stream",
     "text": [
      "Extracting EDF parameters from /home/alexandre.nicolas/dataset2/chb-mit-scalp-eeg-database/chb21/chb21_31.edf...\n",
      "EDF file detected\n",
      "Setting channel info structure...\n",
      "Creating raw.info structure...\n",
      "Reading 0 ... 921599  =      0.000 ...  3599.996 secs...\n"
     ]
    },
    {
     "name": "stderr",
     "output_type": "stream",
     "text": [
      "/tmp/ipykernel_45915/185451917.py:41: RuntimeWarning: Channel names are not unique, found duplicates for: {'T8-P8', '-'}. Applying running numbers for duplicates.\n",
      "  raw[6].append(mne.io.read_raw_edf(f\"dataset2/chb-mit-scalp-eeg-database/chb21/chb21_{(s+1):02d}.edf\", preload=True))\n",
      "/tmp/ipykernel_45915/185451917.py:41: RuntimeWarning: Scaling factor is not defined in following channels:\n",
      "--0, --1, --2, --3, --4\n",
      "  raw[6].append(mne.io.read_raw_edf(f\"dataset2/chb-mit-scalp-eeg-database/chb21/chb21_{(s+1):02d}.edf\", preload=True))\n"
     ]
    },
    {
     "name": "stdout",
     "output_type": "stream",
     "text": [
      "Extracting EDF parameters from /home/alexandre.nicolas/dataset2/chb-mit-scalp-eeg-database/chb21/chb21_32.edf...\n",
      "EDF file detected\n",
      "Setting channel info structure...\n",
      "Creating raw.info structure...\n",
      "Reading 0 ... 921599  =      0.000 ...  3599.996 secs...\n"
     ]
    },
    {
     "name": "stderr",
     "output_type": "stream",
     "text": [
      "/tmp/ipykernel_45915/185451917.py:41: RuntimeWarning: Channel names are not unique, found duplicates for: {'T8-P8', '-'}. Applying running numbers for duplicates.\n",
      "  raw[6].append(mne.io.read_raw_edf(f\"dataset2/chb-mit-scalp-eeg-database/chb21/chb21_{(s+1):02d}.edf\", preload=True))\n",
      "/tmp/ipykernel_45915/185451917.py:41: RuntimeWarning: Scaling factor is not defined in following channels:\n",
      "--0, --1, --2, --3, --4\n",
      "  raw[6].append(mne.io.read_raw_edf(f\"dataset2/chb-mit-scalp-eeg-database/chb21/chb21_{(s+1):02d}.edf\", preload=True))\n"
     ]
    },
    {
     "name": "stdout",
     "output_type": "stream",
     "text": [
      "Extracting EDF parameters from /home/alexandre.nicolas/dataset2/chb-mit-scalp-eeg-database/chb21/chb21_33.edf...\n",
      "EDF file detected\n",
      "Setting channel info structure...\n",
      "Creating raw.info structure...\n",
      "Reading 0 ... 921599  =      0.000 ...  3599.996 secs...\n"
     ]
    },
    {
     "name": "stderr",
     "output_type": "stream",
     "text": [
      "/tmp/ipykernel_45915/185451917.py:41: RuntimeWarning: Channel names are not unique, found duplicates for: {'T8-P8', '-'}. Applying running numbers for duplicates.\n",
      "  raw[6].append(mne.io.read_raw_edf(f\"dataset2/chb-mit-scalp-eeg-database/chb21/chb21_{(s+1):02d}.edf\", preload=True))\n",
      "/tmp/ipykernel_45915/185451917.py:41: RuntimeWarning: Scaling factor is not defined in following channels:\n",
      "--0, --1, --2, --3, --4\n",
      "  raw[6].append(mne.io.read_raw_edf(f\"dataset2/chb-mit-scalp-eeg-database/chb21/chb21_{(s+1):02d}.edf\", preload=True))\n"
     ]
    },
    {
     "name": "stdout",
     "output_type": "stream",
     "text": [
      "Extracting EDF parameters from /home/alexandre.nicolas/dataset2/chb-mit-scalp-eeg-database/chb22/chb22_01.edf...\n",
      "EDF file detected\n",
      "Setting channel info structure...\n",
      "Creating raw.info structure...\n",
      "Reading 0 ... 921599  =      0.000 ...  3599.996 secs...\n"
     ]
    },
    {
     "name": "stderr",
     "output_type": "stream",
     "text": [
      "/tmp/ipykernel_45915/185451917.py:50: RuntimeWarning: Channel names are not unique, found duplicates for: {'T8-P8', '-'}. Applying running numbers for duplicates.\n",
      "  raw[7].append(mne.io.read_raw_edf(f\"dataset2/chb-mit-scalp-eeg-database/chb22/chb22_{(s+1):02d}.edf\", preload=True))\n"
     ]
    },
    {
     "name": "stdout",
     "output_type": "stream",
     "text": [
      "Extracting EDF parameters from /home/alexandre.nicolas/dataset2/chb-mit-scalp-eeg-database/chb22/chb22_02.edf...\n",
      "EDF file detected\n",
      "Setting channel info structure...\n",
      "Creating raw.info structure...\n",
      "Reading 0 ... 921599  =      0.000 ...  3599.996 secs...\n"
     ]
    },
    {
     "name": "stderr",
     "output_type": "stream",
     "text": [
      "/tmp/ipykernel_45915/185451917.py:50: RuntimeWarning: Channel names are not unique, found duplicates for: {'T8-P8', '-'}. Applying running numbers for duplicates.\n",
      "  raw[7].append(mne.io.read_raw_edf(f\"dataset2/chb-mit-scalp-eeg-database/chb22/chb22_{(s+1):02d}.edf\", preload=True))\n"
     ]
    },
    {
     "name": "stdout",
     "output_type": "stream",
     "text": [
      "Extracting EDF parameters from /home/alexandre.nicolas/dataset2/chb-mit-scalp-eeg-database/chb22/chb22_03.edf...\n",
      "EDF file detected\n",
      "Setting channel info structure...\n",
      "Creating raw.info structure...\n",
      "Reading 0 ... 921599  =      0.000 ...  3599.996 secs...\n"
     ]
    },
    {
     "name": "stderr",
     "output_type": "stream",
     "text": [
      "/tmp/ipykernel_45915/185451917.py:50: RuntimeWarning: Channel names are not unique, found duplicates for: {'T8-P8', '-'}. Applying running numbers for duplicates.\n",
      "  raw[7].append(mne.io.read_raw_edf(f\"dataset2/chb-mit-scalp-eeg-database/chb22/chb22_{(s+1):02d}.edf\", preload=True))\n"
     ]
    },
    {
     "name": "stdout",
     "output_type": "stream",
     "text": [
      "Extracting EDF parameters from /home/alexandre.nicolas/dataset2/chb-mit-scalp-eeg-database/chb22/chb22_04.edf...\n",
      "EDF file detected\n",
      "Setting channel info structure...\n",
      "Creating raw.info structure...\n",
      "Reading 0 ... 921599  =      0.000 ...  3599.996 secs...\n"
     ]
    },
    {
     "name": "stderr",
     "output_type": "stream",
     "text": [
      "/tmp/ipykernel_45915/185451917.py:50: RuntimeWarning: Channel names are not unique, found duplicates for: {'T8-P8', '-'}. Applying running numbers for duplicates.\n",
      "  raw[7].append(mne.io.read_raw_edf(f\"dataset2/chb-mit-scalp-eeg-database/chb22/chb22_{(s+1):02d}.edf\", preload=True))\n"
     ]
    },
    {
     "name": "stdout",
     "output_type": "stream",
     "text": [
      "Extracting EDF parameters from /home/alexandre.nicolas/dataset2/chb-mit-scalp-eeg-database/chb22/chb22_05.edf...\n",
      "EDF file detected\n",
      "Setting channel info structure...\n",
      "Creating raw.info structure...\n",
      "Reading 0 ... 921599  =      0.000 ...  3599.996 secs...\n"
     ]
    },
    {
     "name": "stderr",
     "output_type": "stream",
     "text": [
      "/tmp/ipykernel_45915/185451917.py:50: RuntimeWarning: Channel names are not unique, found duplicates for: {'T8-P8', '-'}. Applying running numbers for duplicates.\n",
      "  raw[7].append(mne.io.read_raw_edf(f\"dataset2/chb-mit-scalp-eeg-database/chb22/chb22_{(s+1):02d}.edf\", preload=True))\n"
     ]
    },
    {
     "name": "stdout",
     "output_type": "stream",
     "text": [
      "Extracting EDF parameters from /home/alexandre.nicolas/dataset2/chb-mit-scalp-eeg-database/chb22/chb22_06.edf...\n",
      "EDF file detected\n",
      "Setting channel info structure...\n",
      "Creating raw.info structure...\n",
      "Reading 0 ... 921599  =      0.000 ...  3599.996 secs...\n"
     ]
    },
    {
     "name": "stderr",
     "output_type": "stream",
     "text": [
      "/tmp/ipykernel_45915/185451917.py:50: RuntimeWarning: Channel names are not unique, found duplicates for: {'T8-P8', '-'}. Applying running numbers for duplicates.\n",
      "  raw[7].append(mne.io.read_raw_edf(f\"dataset2/chb-mit-scalp-eeg-database/chb22/chb22_{(s+1):02d}.edf\", preload=True))\n"
     ]
    },
    {
     "name": "stdout",
     "output_type": "stream",
     "text": [
      "Extracting EDF parameters from /home/alexandre.nicolas/dataset2/chb-mit-scalp-eeg-database/chb22/chb22_07.edf...\n",
      "EDF file detected\n",
      "Setting channel info structure...\n",
      "Creating raw.info structure...\n",
      "Reading 0 ... 921599  =      0.000 ...  3599.996 secs...\n"
     ]
    },
    {
     "name": "stderr",
     "output_type": "stream",
     "text": [
      "/tmp/ipykernel_45915/185451917.py:50: RuntimeWarning: Channel names are not unique, found duplicates for: {'T8-P8', '-'}. Applying running numbers for duplicates.\n",
      "  raw[7].append(mne.io.read_raw_edf(f\"dataset2/chb-mit-scalp-eeg-database/chb22/chb22_{(s+1):02d}.edf\", preload=True))\n"
     ]
    },
    {
     "name": "stdout",
     "output_type": "stream",
     "text": [
      "Extracting EDF parameters from /home/alexandre.nicolas/dataset2/chb-mit-scalp-eeg-database/chb22/chb22_08.edf...\n",
      "EDF file detected\n",
      "Setting channel info structure...\n",
      "Creating raw.info structure...\n",
      "Reading 0 ... 921599  =      0.000 ...  3599.996 secs...\n"
     ]
    },
    {
     "name": "stderr",
     "output_type": "stream",
     "text": [
      "/tmp/ipykernel_45915/185451917.py:50: RuntimeWarning: Channel names are not unique, found duplicates for: {'T8-P8', '-'}. Applying running numbers for duplicates.\n",
      "  raw[7].append(mne.io.read_raw_edf(f\"dataset2/chb-mit-scalp-eeg-database/chb22/chb22_{(s+1):02d}.edf\", preload=True))\n"
     ]
    },
    {
     "name": "stdout",
     "output_type": "stream",
     "text": [
      "Extracting EDF parameters from /home/alexandre.nicolas/dataset2/chb-mit-scalp-eeg-database/chb22/chb22_09.edf...\n",
      "EDF file detected\n",
      "Setting channel info structure...\n",
      "Creating raw.info structure...\n",
      "Reading 0 ... 921599  =      0.000 ...  3599.996 secs...\n"
     ]
    },
    {
     "name": "stderr",
     "output_type": "stream",
     "text": [
      "/tmp/ipykernel_45915/185451917.py:50: RuntimeWarning: Channel names are not unique, found duplicates for: {'T8-P8', '-'}. Applying running numbers for duplicates.\n",
      "  raw[7].append(mne.io.read_raw_edf(f\"dataset2/chb-mit-scalp-eeg-database/chb22/chb22_{(s+1):02d}.edf\", preload=True))\n"
     ]
    },
    {
     "name": "stdout",
     "output_type": "stream",
     "text": [
      "Extracting EDF parameters from /home/alexandre.nicolas/dataset2/chb-mit-scalp-eeg-database/chb22/chb22_10.edf...\n",
      "EDF file detected\n",
      "Setting channel info structure...\n",
      "Creating raw.info structure...\n",
      "Reading 0 ... 921599  =      0.000 ...  3599.996 secs...\n"
     ]
    },
    {
     "name": "stderr",
     "output_type": "stream",
     "text": [
      "/tmp/ipykernel_45915/185451917.py:50: RuntimeWarning: Channel names are not unique, found duplicates for: {'T8-P8', '-'}. Applying running numbers for duplicates.\n",
      "  raw[7].append(mne.io.read_raw_edf(f\"dataset2/chb-mit-scalp-eeg-database/chb22/chb22_{(s+1):02d}.edf\", preload=True))\n"
     ]
    },
    {
     "name": "stdout",
     "output_type": "stream",
     "text": [
      "Extracting EDF parameters from /home/alexandre.nicolas/dataset2/chb-mit-scalp-eeg-database/chb22/chb22_11.edf...\n",
      "EDF file detected\n",
      "Setting channel info structure...\n",
      "Creating raw.info structure...\n",
      "Reading 0 ... 924415  =      0.000 ...  3610.996 secs...\n"
     ]
    },
    {
     "name": "stderr",
     "output_type": "stream",
     "text": [
      "/tmp/ipykernel_45915/185451917.py:50: RuntimeWarning: Channel names are not unique, found duplicates for: {'T8-P8', '-'}. Applying running numbers for duplicates.\n",
      "  raw[7].append(mne.io.read_raw_edf(f\"dataset2/chb-mit-scalp-eeg-database/chb22/chb22_{(s+1):02d}.edf\", preload=True))\n"
     ]
    },
    {
     "name": "stdout",
     "output_type": "stream",
     "text": [
      "Extracting EDF parameters from /home/alexandre.nicolas/dataset2/chb-mit-scalp-eeg-database/chb22/chb22_15.edf...\n",
      "EDF file detected\n",
      "Setting channel info structure...\n",
      "Creating raw.info structure...\n",
      "Reading 0 ... 921599  =      0.000 ...  3599.996 secs...\n"
     ]
    },
    {
     "name": "stderr",
     "output_type": "stream",
     "text": [
      "/tmp/ipykernel_45915/185451917.py:50: RuntimeWarning: Channel names are not unique, found duplicates for: {'T8-P8', '-'}. Applying running numbers for duplicates.\n",
      "  raw[7].append(mne.io.read_raw_edf(f\"dataset2/chb-mit-scalp-eeg-database/chb22/chb22_{(s+1):02d}.edf\", preload=True))\n"
     ]
    },
    {
     "name": "stdout",
     "output_type": "stream",
     "text": [
      "Extracting EDF parameters from /home/alexandre.nicolas/dataset2/chb-mit-scalp-eeg-database/chb22/chb22_16.edf...\n",
      "EDF file detected\n",
      "Setting channel info structure...\n",
      "Creating raw.info structure...\n",
      "Reading 0 ... 921599  =      0.000 ...  3599.996 secs...\n"
     ]
    },
    {
     "name": "stderr",
     "output_type": "stream",
     "text": [
      "/tmp/ipykernel_45915/185451917.py:50: RuntimeWarning: Channel names are not unique, found duplicates for: {'T8-P8', '-'}. Applying running numbers for duplicates.\n",
      "  raw[7].append(mne.io.read_raw_edf(f\"dataset2/chb-mit-scalp-eeg-database/chb22/chb22_{(s+1):02d}.edf\", preload=True))\n"
     ]
    },
    {
     "name": "stdout",
     "output_type": "stream",
     "text": [
      "Extracting EDF parameters from /home/alexandre.nicolas/dataset2/chb-mit-scalp-eeg-database/chb22/chb22_17.edf...\n",
      "EDF file detected\n",
      "Setting channel info structure...\n",
      "Creating raw.info structure...\n",
      "Reading 0 ... 921599  =      0.000 ...  3599.996 secs...\n"
     ]
    },
    {
     "name": "stderr",
     "output_type": "stream",
     "text": [
      "/tmp/ipykernel_45915/185451917.py:50: RuntimeWarning: Channel names are not unique, found duplicates for: {'T8-P8', '-'}. Applying running numbers for duplicates.\n",
      "  raw[7].append(mne.io.read_raw_edf(f\"dataset2/chb-mit-scalp-eeg-database/chb22/chb22_{(s+1):02d}.edf\", preload=True))\n"
     ]
    },
    {
     "name": "stdout",
     "output_type": "stream",
     "text": [
      "Extracting EDF parameters from /home/alexandre.nicolas/dataset2/chb-mit-scalp-eeg-database/chb22/chb22_18.edf...\n",
      "EDF file detected\n",
      "Setting channel info structure...\n",
      "Creating raw.info structure...\n",
      "Reading 0 ... 921599  =      0.000 ...  3599.996 secs...\n"
     ]
    },
    {
     "name": "stderr",
     "output_type": "stream",
     "text": [
      "/tmp/ipykernel_45915/185451917.py:50: RuntimeWarning: Channel names are not unique, found duplicates for: {'T8-P8', '-'}. Applying running numbers for duplicates.\n",
      "  raw[7].append(mne.io.read_raw_edf(f\"dataset2/chb-mit-scalp-eeg-database/chb22/chb22_{(s+1):02d}.edf\", preload=True))\n"
     ]
    },
    {
     "name": "stdout",
     "output_type": "stream",
     "text": [
      "Extracting EDF parameters from /home/alexandre.nicolas/dataset2/chb-mit-scalp-eeg-database/chb22/chb22_19.edf...\n",
      "EDF file detected\n",
      "Setting channel info structure...\n",
      "Creating raw.info structure...\n",
      "Reading 0 ... 921599  =      0.000 ...  3599.996 secs...\n"
     ]
    },
    {
     "name": "stderr",
     "output_type": "stream",
     "text": [
      "/tmp/ipykernel_45915/185451917.py:50: RuntimeWarning: Channel names are not unique, found duplicates for: {'T8-P8', '-'}. Applying running numbers for duplicates.\n",
      "  raw[7].append(mne.io.read_raw_edf(f\"dataset2/chb-mit-scalp-eeg-database/chb22/chb22_{(s+1):02d}.edf\", preload=True))\n"
     ]
    },
    {
     "name": "stdout",
     "output_type": "stream",
     "text": [
      "Extracting EDF parameters from /home/alexandre.nicolas/dataset2/chb-mit-scalp-eeg-database/chb22/chb22_20.edf...\n",
      "EDF file detected\n",
      "Setting channel info structure...\n",
      "Creating raw.info structure...\n",
      "Reading 0 ... 921599  =      0.000 ...  3599.996 secs...\n"
     ]
    },
    {
     "name": "stderr",
     "output_type": "stream",
     "text": [
      "/tmp/ipykernel_45915/185451917.py:50: RuntimeWarning: Channel names are not unique, found duplicates for: {'T8-P8', '-'}. Applying running numbers for duplicates.\n",
      "  raw[7].append(mne.io.read_raw_edf(f\"dataset2/chb-mit-scalp-eeg-database/chb22/chb22_{(s+1):02d}.edf\", preload=True))\n"
     ]
    },
    {
     "name": "stdout",
     "output_type": "stream",
     "text": [
      "Extracting EDF parameters from /home/alexandre.nicolas/dataset2/chb-mit-scalp-eeg-database/chb22/chb22_21.edf...\n",
      "EDF file detected\n",
      "Setting channel info structure...\n",
      "Creating raw.info structure...\n",
      "Reading 0 ... 921599  =      0.000 ...  3599.996 secs...\n"
     ]
    },
    {
     "name": "stderr",
     "output_type": "stream",
     "text": [
      "/tmp/ipykernel_45915/185451917.py:50: RuntimeWarning: Channel names are not unique, found duplicates for: {'T8-P8', '-'}. Applying running numbers for duplicates.\n",
      "  raw[7].append(mne.io.read_raw_edf(f\"dataset2/chb-mit-scalp-eeg-database/chb22/chb22_{(s+1):02d}.edf\", preload=True))\n"
     ]
    },
    {
     "name": "stdout",
     "output_type": "stream",
     "text": [
      "Extracting EDF parameters from /home/alexandre.nicolas/dataset2/chb-mit-scalp-eeg-database/chb22/chb22_22.edf...\n",
      "EDF file detected\n",
      "Setting channel info structure...\n",
      "Creating raw.info structure...\n",
      "Reading 0 ... 921599  =      0.000 ...  3599.996 secs...\n"
     ]
    },
    {
     "name": "stderr",
     "output_type": "stream",
     "text": [
      "/tmp/ipykernel_45915/185451917.py:50: RuntimeWarning: Channel names are not unique, found duplicates for: {'T8-P8', '-'}. Applying running numbers for duplicates.\n",
      "  raw[7].append(mne.io.read_raw_edf(f\"dataset2/chb-mit-scalp-eeg-database/chb22/chb22_{(s+1):02d}.edf\", preload=True))\n"
     ]
    },
    {
     "name": "stdout",
     "output_type": "stream",
     "text": [
      "Extracting EDF parameters from /home/alexandre.nicolas/dataset2/chb-mit-scalp-eeg-database/chb22/chb22_23.edf...\n",
      "EDF file detected\n",
      "Setting channel info structure...\n",
      "Creating raw.info structure...\n",
      "Reading 0 ... 921599  =      0.000 ...  3599.996 secs...\n"
     ]
    },
    {
     "name": "stderr",
     "output_type": "stream",
     "text": [
      "/tmp/ipykernel_45915/185451917.py:50: RuntimeWarning: Channel names are not unique, found duplicates for: {'T8-P8', '-'}. Applying running numbers for duplicates.\n",
      "  raw[7].append(mne.io.read_raw_edf(f\"dataset2/chb-mit-scalp-eeg-database/chb22/chb22_{(s+1):02d}.edf\", preload=True))\n"
     ]
    },
    {
     "name": "stdout",
     "output_type": "stream",
     "text": [
      "Extracting EDF parameters from /home/alexandre.nicolas/dataset2/chb-mit-scalp-eeg-database/chb22/chb22_24.edf...\n",
      "EDF file detected\n",
      "Setting channel info structure...\n",
      "Creating raw.info structure...\n",
      "Reading 0 ... 921599  =      0.000 ...  3599.996 secs...\n"
     ]
    },
    {
     "name": "stderr",
     "output_type": "stream",
     "text": [
      "/tmp/ipykernel_45915/185451917.py:50: RuntimeWarning: Channel names are not unique, found duplicates for: {'T8-P8', '-'}. Applying running numbers for duplicates.\n",
      "  raw[7].append(mne.io.read_raw_edf(f\"dataset2/chb-mit-scalp-eeg-database/chb22/chb22_{(s+1):02d}.edf\", preload=True))\n"
     ]
    },
    {
     "name": "stdout",
     "output_type": "stream",
     "text": [
      "Extracting EDF parameters from /home/alexandre.nicolas/dataset2/chb-mit-scalp-eeg-database/chb22/chb22_25.edf...\n",
      "EDF file detected\n",
      "Setting channel info structure...\n",
      "Creating raw.info structure...\n",
      "Reading 0 ... 921599  =      0.000 ...  3599.996 secs...\n"
     ]
    },
    {
     "name": "stderr",
     "output_type": "stream",
     "text": [
      "/tmp/ipykernel_45915/185451917.py:50: RuntimeWarning: Channel names are not unique, found duplicates for: {'T8-P8', '-'}. Applying running numbers for duplicates.\n",
      "  raw[7].append(mne.io.read_raw_edf(f\"dataset2/chb-mit-scalp-eeg-database/chb22/chb22_{(s+1):02d}.edf\", preload=True))\n"
     ]
    },
    {
     "name": "stdout",
     "output_type": "stream",
     "text": [
      "Extracting EDF parameters from /home/alexandre.nicolas/dataset2/chb-mit-scalp-eeg-database/chb22/chb22_26.edf...\n",
      "EDF file detected\n",
      "Setting channel info structure...\n",
      "Creating raw.info structure...\n",
      "Reading 0 ... 921599  =      0.000 ...  3599.996 secs...\n"
     ]
    },
    {
     "name": "stderr",
     "output_type": "stream",
     "text": [
      "/tmp/ipykernel_45915/185451917.py:50: RuntimeWarning: Channel names are not unique, found duplicates for: {'T8-P8', '-'}. Applying running numbers for duplicates.\n",
      "  raw[7].append(mne.io.read_raw_edf(f\"dataset2/chb-mit-scalp-eeg-database/chb22/chb22_{(s+1):02d}.edf\", preload=True))\n"
     ]
    },
    {
     "name": "stdout",
     "output_type": "stream",
     "text": [
      "Extracting EDF parameters from /home/alexandre.nicolas/dataset2/chb-mit-scalp-eeg-database/chb22/chb22_27.edf...\n",
      "EDF file detected\n",
      "Setting channel info structure...\n",
      "Creating raw.info structure...\n",
      "Reading 0 ... 921599  =      0.000 ...  3599.996 secs...\n"
     ]
    },
    {
     "name": "stderr",
     "output_type": "stream",
     "text": [
      "/tmp/ipykernel_45915/185451917.py:50: RuntimeWarning: Channel names are not unique, found duplicates for: {'T8-P8', '-'}. Applying running numbers for duplicates.\n",
      "  raw[7].append(mne.io.read_raw_edf(f\"dataset2/chb-mit-scalp-eeg-database/chb22/chb22_{(s+1):02d}.edf\", preload=True))\n"
     ]
    },
    {
     "name": "stdout",
     "output_type": "stream",
     "text": [
      "Extracting EDF parameters from /home/alexandre.nicolas/dataset2/chb-mit-scalp-eeg-database/chb22/chb22_28.edf...\n",
      "EDF file detected\n",
      "Setting channel info structure...\n",
      "Creating raw.info structure...\n",
      "Reading 0 ... 921599  =      0.000 ...  3599.996 secs...\n"
     ]
    },
    {
     "name": "stderr",
     "output_type": "stream",
     "text": [
      "/tmp/ipykernel_45915/185451917.py:50: RuntimeWarning: Channel names are not unique, found duplicates for: {'T8-P8', '-'}. Applying running numbers for duplicates.\n",
      "  raw[7].append(mne.io.read_raw_edf(f\"dataset2/chb-mit-scalp-eeg-database/chb22/chb22_{(s+1):02d}.edf\", preload=True))\n"
     ]
    },
    {
     "name": "stdout",
     "output_type": "stream",
     "text": [
      "Extracting EDF parameters from /home/alexandre.nicolas/dataset2/chb-mit-scalp-eeg-database/chb22/chb22_29.edf...\n",
      "EDF file detected\n",
      "Setting channel info structure...\n",
      "Creating raw.info structure...\n",
      "Reading 0 ... 921599  =      0.000 ...  3599.996 secs...\n"
     ]
    },
    {
     "name": "stderr",
     "output_type": "stream",
     "text": [
      "/tmp/ipykernel_45915/185451917.py:50: RuntimeWarning: Channel names are not unique, found duplicates for: {'T8-P8', '-'}. Applying running numbers for duplicates.\n",
      "  raw[7].append(mne.io.read_raw_edf(f\"dataset2/chb-mit-scalp-eeg-database/chb22/chb22_{(s+1):02d}.edf\", preload=True))\n"
     ]
    },
    {
     "name": "stdout",
     "output_type": "stream",
     "text": [
      "Extracting EDF parameters from /home/alexandre.nicolas/dataset2/chb-mit-scalp-eeg-database/chb22/chb22_30.edf...\n",
      "EDF file detected\n",
      "Setting channel info structure...\n",
      "Creating raw.info structure...\n",
      "Reading 0 ... 921599  =      0.000 ...  3599.996 secs...\n"
     ]
    },
    {
     "name": "stderr",
     "output_type": "stream",
     "text": [
      "/tmp/ipykernel_45915/185451917.py:50: RuntimeWarning: Channel names are not unique, found duplicates for: {'T8-P8', '-'}. Applying running numbers for duplicates.\n",
      "  raw[7].append(mne.io.read_raw_edf(f\"dataset2/chb-mit-scalp-eeg-database/chb22/chb22_{(s+1):02d}.edf\", preload=True))\n"
     ]
    },
    {
     "name": "stdout",
     "output_type": "stream",
     "text": [
      "Extracting EDF parameters from /home/alexandre.nicolas/dataset2/chb-mit-scalp-eeg-database/chb22/chb22_38.edf...\n",
      "EDF file detected\n",
      "Setting channel info structure...\n",
      "Creating raw.info structure...\n",
      "Reading 0 ... 921599  =      0.000 ...  3599.996 secs...\n"
     ]
    },
    {
     "name": "stderr",
     "output_type": "stream",
     "text": [
      "/tmp/ipykernel_45915/185451917.py:52: RuntimeWarning: Channel names are not unique, found duplicates for: {'T8-P8', '-'}. Applying running numbers for duplicates.\n",
      "  raw[7].append(mne.io.read_raw_edf(\"dataset2/chb-mit-scalp-eeg-database/chb22/chb22_38.edf\", preload=True))\n"
     ]
    },
    {
     "name": "stdout",
     "output_type": "stream",
     "text": [
      "Extracting EDF parameters from /home/alexandre.nicolas/dataset2/chb-mit-scalp-eeg-database/chb22/chb22_51.edf...\n",
      "EDF file detected\n",
      "Setting channel info structure...\n",
      "Creating raw.info structure...\n",
      "Reading 0 ... 921599  =      0.000 ...  3599.996 secs...\n"
     ]
    },
    {
     "name": "stderr",
     "output_type": "stream",
     "text": [
      "/tmp/ipykernel_45915/185451917.py:54: RuntimeWarning: Channel names are not unique, found duplicates for: {'T8-P8', '-'}. Applying running numbers for duplicates.\n",
      "  raw[7].append(mne.io.read_raw_edf(\"dataset2/chb-mit-scalp-eeg-database/chb22/chb22_51.edf\", preload=True))\n"
     ]
    },
    {
     "name": "stdout",
     "output_type": "stream",
     "text": [
      "Extracting EDF parameters from /home/alexandre.nicolas/dataset2/chb-mit-scalp-eeg-database/chb22/chb22_54.edf...\n",
      "EDF file detected\n",
      "Setting channel info structure...\n",
      "Creating raw.info structure...\n",
      "Reading 0 ... 921599  =      0.000 ...  3599.996 secs...\n"
     ]
    },
    {
     "name": "stderr",
     "output_type": "stream",
     "text": [
      "/tmp/ipykernel_45915/185451917.py:56: RuntimeWarning: Channel names are not unique, found duplicates for: {'T8-P8', '-'}. Applying running numbers for duplicates.\n",
      "  raw[7].append(mne.io.read_raw_edf(\"dataset2/chb-mit-scalp-eeg-database/chb22/chb22_54.edf\", preload=True))\n"
     ]
    },
    {
     "name": "stdout",
     "output_type": "stream",
     "text": [
      "Extracting EDF parameters from /home/alexandre.nicolas/dataset2/chb-mit-scalp-eeg-database/chb22/chb22_77.edf...\n",
      "EDF file detected\n",
      "Setting channel info structure...\n",
      "Creating raw.info structure...\n",
      "Reading 0 ... 921599  =      0.000 ...  3599.996 secs...\n"
     ]
    },
    {
     "name": "stderr",
     "output_type": "stream",
     "text": [
      "/tmp/ipykernel_45915/185451917.py:58: RuntimeWarning: Channel names are not unique, found duplicates for: {'T8-P8', '-'}. Applying running numbers for duplicates.\n",
      "  raw[7].append(mne.io.read_raw_edf(\"dataset2/chb-mit-scalp-eeg-database/chb22/chb22_77.edf\", preload=True))\n"
     ]
    }
   ],
   "source": [
    "# Subject 10 - sub4\n",
    "# 2h\n",
    "n_runs[4] = 25\n",
    "raw[4] = []\n",
    "\n",
    "for s in np.arange(28):\n",
    "    if (s in [8,9,10,22,23,24,25]): continue\n",
    "    raw[4].append(mne.io.read_raw_edf(f\"dataset2/chb-mit-scalp-eeg-database/chb10/chb10_{(s+1):02d}.edf\", preload=True))\n",
    "\n",
    "raw[4].append(mne.io.read_raw_edf(\"dataset2/chb-mit-scalp-eeg-database/chb10/chb10_30.edf\", preload=True))\n",
    "\n",
    "raw[4].append(mne.io.read_raw_edf(\"dataset2/chb-mit-scalp-eeg-database/chb10/chb10_31.edf\", preload=True))\n",
    "\n",
    "raw[4].append(mne.io.read_raw_edf(\"dataset2/chb-mit-scalp-eeg-database/chb10/chb10_38.edf\", preload=True))\n",
    "\n",
    "raw[4].append(mne.io.read_raw_edf(\"dataset2/chb-mit-scalp-eeg-database/chb10/chb10_89.edf\", preload=True))\n",
    "\n",
    "# Subject 20 - sub5\n",
    "# 1h\n",
    "n_runs[5] = 29\n",
    "raw[5] = []\n",
    "\n",
    "for s in np.arange(31):\n",
    "    if (s in [8,9,17,18,19,23]): continue\n",
    "    raw[5].append(mne.io.read_raw_edf(f\"dataset2/chb-mit-scalp-eeg-database/chb20/chb20_{(s+1):02d}.edf\", preload=True))\n",
    "\n",
    "raw[5].append(mne.io.read_raw_edf(\"dataset2/chb-mit-scalp-eeg-database/chb20/chb20_34.edf\", preload=True))\n",
    "\n",
    "raw[5].append(mne.io.read_raw_edf(\"dataset2/chb-mit-scalp-eeg-database/chb20/chb20_59.edf\", preload=True))\n",
    "\n",
    "raw[5].append(mne.io.read_raw_edf(\"dataset2/chb-mit-scalp-eeg-database/chb20/chb20_60.edf\", preload=True))\n",
    "\n",
    "raw[5].append(mne.io.read_raw_edf(\"dataset2/chb-mit-scalp-eeg-database/chb20/chb20_68.edf\", preload=True))\n",
    "\n",
    "# Subject 21 - sub6\n",
    "# 1h\n",
    "n_runs[6] = 33\n",
    "raw[6] = []\n",
    "\n",
    "for s in np.arange(33):\n",
    "    raw[6].append(mne.io.read_raw_edf(f\"dataset2/chb-mit-scalp-eeg-database/chb21/chb21_{(s+1):02d}.edf\", preload=True))\n",
    "\n",
    "# Subject 22 - sub7\n",
    "# 1h\n",
    "n_runs[7] = 31\n",
    "raw[7] = []\n",
    "\n",
    "for s in np.arange(30):\n",
    "    if (s in [11,12,13]): continue\n",
    "    raw[7].append(mne.io.read_raw_edf(f\"dataset2/chb-mit-scalp-eeg-database/chb22/chb22_{(s+1):02d}.edf\", preload=True))\n",
    "\n",
    "raw[7].append(mne.io.read_raw_edf(\"dataset2/chb-mit-scalp-eeg-database/chb22/chb22_38.edf\", preload=True))\n",
    "\n",
    "raw[7].append(mne.io.read_raw_edf(\"dataset2/chb-mit-scalp-eeg-database/chb22/chb22_51.edf\", preload=True))\n",
    "\n",
    "raw[7].append(mne.io.read_raw_edf(\"dataset2/chb-mit-scalp-eeg-database/chb22/chb22_54.edf\", preload=True))\n",
    "\n",
    "raw[7].append(mne.io.read_raw_edf(\"dataset2/chb-mit-scalp-eeg-database/chb22/chb22_77.edf\", preload=True))"
   ]
  },
  {
   "cell_type": "code",
   "execution_count": 4,
   "id": "a6b9b7c2-b9ac-4c76-b4dc-5c85900ae49d",
   "metadata": {},
   "outputs": [],
   "source": [
    "# Convert data to float32 to save memory\n",
    "n_subject = 8\n",
    "for s in np.arange(4,8):\n",
    "    for k in np.arange(n_runs[s]):\n",
    "        raw[s][k]._data = raw[s][k]._data.astype('float32')"
   ]
  },
  {
   "cell_type": "code",
   "execution_count": 7,
   "id": "43ec680c-603f-408f-82e2-34cec86fe53c",
   "metadata": {},
   "outputs": [
    {
     "ename": "ValueError",
     "evalue": "Channel(s) VNS not found, nothing dropped.",
     "output_type": "error",
     "traceback": [
      "\u001b[0;31m---------------------------------------------------------------------------\u001b[0m",
      "\u001b[0;31mValueError\u001b[0m                                Traceback (most recent call last)",
      "Input \u001b[0;32mIn [7]\u001b[0m, in \u001b[0;36m<cell line: 2>\u001b[0;34m()\u001b[0m\n\u001b[1;32m      1\u001b[0m \u001b[38;5;66;03m# Channel sub 3\u001b[39;00m\n\u001b[1;32m      2\u001b[0m \u001b[38;5;28;01mfor\u001b[39;00m i \u001b[38;5;129;01min\u001b[39;00m np\u001b[38;5;241m.\u001b[39marange(\u001b[38;5;241m1\u001b[39m, n_runs[\u001b[38;5;241m3\u001b[39m]):\n\u001b[0;32m----> 3\u001b[0m     \u001b[43mraw\u001b[49m\u001b[43m[\u001b[49m\u001b[38;5;241;43m3\u001b[39;49m\u001b[43m]\u001b[49m\u001b[43m[\u001b[49m\u001b[43mi\u001b[49m\u001b[43m]\u001b[49m\u001b[38;5;241;43m.\u001b[39;49m\u001b[43mdrop_channels\u001b[49m\u001b[43m(\u001b[49m\u001b[38;5;124;43m'\u001b[39;49m\u001b[38;5;124;43mVNS\u001b[39;49m\u001b[38;5;124;43m'\u001b[39;49m\u001b[43m)\u001b[49m\n",
      "File \u001b[0;32m/opt/conda/lib/python3.9/site-packages/mne/channels/channels.py:827\u001b[0m, in \u001b[0;36mUpdateChannelsMixin.drop_channels\u001b[0;34m(self, ch_names)\u001b[0m\n\u001b[1;32m    825\u001b[0m \u001b[38;5;28;01mif\u001b[39;00m \u001b[38;5;28mlen\u001b[39m(missing) \u001b[38;5;241m>\u001b[39m \u001b[38;5;241m0\u001b[39m:\n\u001b[1;32m    826\u001b[0m     msg \u001b[38;5;241m=\u001b[39m \u001b[38;5;124m\"\u001b[39m\u001b[38;5;124mChannel(s) \u001b[39m\u001b[38;5;132;01m{0}\u001b[39;00m\u001b[38;5;124m not found, nothing dropped.\u001b[39m\u001b[38;5;124m\"\u001b[39m\n\u001b[0;32m--> 827\u001b[0m     \u001b[38;5;28;01mraise\u001b[39;00m \u001b[38;5;167;01mValueError\u001b[39;00m(msg\u001b[38;5;241m.\u001b[39mformat(\u001b[38;5;124m\"\u001b[39m\u001b[38;5;124m, \u001b[39m\u001b[38;5;124m\"\u001b[39m\u001b[38;5;241m.\u001b[39mjoin(missing)))\n\u001b[1;32m    829\u001b[0m bad_idx \u001b[38;5;241m=\u001b[39m [\u001b[38;5;28mself\u001b[39m\u001b[38;5;241m.\u001b[39mch_names\u001b[38;5;241m.\u001b[39mindex(ch) \u001b[38;5;28;01mfor\u001b[39;00m ch \u001b[38;5;129;01min\u001b[39;00m ch_names\n\u001b[1;32m    830\u001b[0m            \u001b[38;5;28;01mif\u001b[39;00m ch \u001b[38;5;129;01min\u001b[39;00m \u001b[38;5;28mself\u001b[39m\u001b[38;5;241m.\u001b[39mch_names]\n\u001b[1;32m    831\u001b[0m idx \u001b[38;5;241m=\u001b[39m np\u001b[38;5;241m.\u001b[39msetdiff1d(np\u001b[38;5;241m.\u001b[39marange(\u001b[38;5;28mlen\u001b[39m(\u001b[38;5;28mself\u001b[39m\u001b[38;5;241m.\u001b[39mch_names)), bad_idx)\n",
      "\u001b[0;31mValueError\u001b[0m: Channel(s) VNS not found, nothing dropped."
     ]
    }
   ],
   "source": [
    "# Channel sub 3\n",
    "for i in np.arange(1, n_runs[3]):\n",
    "    raw[3][i].drop_channels('VNS')"
   ]
  },
  {
   "cell_type": "code",
   "execution_count": 6,
   "id": "ada4ad0c-bcad-4c0f-a139-a38dde10737e",
   "metadata": {},
   "outputs": [],
   "source": [
    "# Channels sub 5, 6 & 7\n",
    "for s in np.arange(n_runs[5]):\n",
    "    for i in np.arange(5):\n",
    "        raw[5][s].drop_channels(f'.-{i}')\n",
    "\n",
    "for k in [6,7]:\n",
    "    for s in np.arange(n_runs[k]):\n",
    "        for i in np.arange(5):\n",
    "            raw[k][s].drop_channels(f'--{i}')"
   ]
  },
  {
   "cell_type": "code",
   "execution_count": 8,
   "id": "3feb6415-b827-4def-b26a-85bd5e8a8cdd",
   "metadata": {},
   "outputs": [],
   "source": [
    "# Reorder channels\n",
    "for k in [5,6,7]:\n",
    "    for s in np.arange(n_runs[k]):\n",
    "        raw[k][s].reorder_channels(raw[4][0].ch_names)"
   ]
  },
  {
   "cell_type": "code",
   "execution_count": 19,
   "id": "9df76506-5614-4f89-9633-900c42f9e819",
   "metadata": {},
   "outputs": [
    {
     "data": {
      "text/plain": [
       "array(['FP2-F8', 'FP1-F3', 'FP1-F7', 'FP2-F4', 'F3-C3', 'F4-C4', 'FZ-CZ',\n",
       "       'F7-T7', 'F8-T8', 'C3-P3'], dtype='<U8')"
      ]
     },
     "execution_count": 19,
     "metadata": {},
     "output_type": "execute_result"
    }
   ],
   "source": [
    "# Display selected electrods\n",
    "np.array(raw[0][0].ch_names)[np.array([12,  4,  0,  8,  5,  9, 16,  1, 13,  6])]\n",
    "# array(['FP2-F8', 'FP1-F3', 'FP1-F7', 'FP2-F4', 'F3-C3', 'F4-C4', 'FZ-CZ','F7-T7', 'F8-T8', 'C3-P3']"
   ]
  },
  {
   "cell_type": "code",
   "execution_count": 9,
   "id": "a3bdadd6-d98b-4238-9ff1-ce1e70f64bd2",
   "metadata": {},
   "outputs": [
    {
     "name": "stdout",
     "output_type": "stream",
     "text": [
      "<RawEDF | chb01_01.edf, 23 x 28156928 (109988.0 s), ~2.41 GB, data loaded>\n",
      "<RawEDF | chb03_01.edf, 23 x 35022336 (136806.0 s), ~3.00 GB, data loaded>\n",
      "<RawEDF | chb07_01.edf, 23 x 61795328 (241388.0 s), ~5.29 GB, data loaded>\n",
      "<RawEDF | chb09_01.edf, 23 x 62550528 (244338.0 s), ~5.36 GB, data loaded>\n",
      "<RawEDF | chb10_01.edf, 23 x 46101504 (180084.0 s), ~3.95 GB, data loaded>\n",
      "<RawEDF | chb20_01.edf, 23 x 25437696 (99366.0 s), ~2.18 GB, data loaded>\n",
      "<RawEDF | chb21_01.edf, 23 x 30256384 (118189.0 s), ~2.59 GB, data loaded>\n",
      "<RawEDF | chb22_01.edf, 23 x 28572416 (111611.0 s), ~2.45 GB, data loaded>\n"
     ]
    }
   ],
   "source": [
    "# Concatenate raw\n",
    "list_sub = np.arange(n_subject)\n",
    "raw_full = {}\n",
    "for k in list_sub:\n",
    "    list_raw = {}\n",
    "    list_raw[k] = []\n",
    "    for s in np.arange(n_runs[k]):\n",
    "        list_raw[k].append(raw[k][s])\n",
    "    \n",
    "    raw_full[k] = mne.concatenate_raws(list_raw[k])\n",
    "    print(raw_full[k])"
   ]
  },
  {
   "cell_type": "code",
   "execution_count": 10,
   "id": "0688f8b4-3936-4a28-94cf-81bdba7ea468",
   "metadata": {},
   "outputs": [],
   "source": [
    "del list_raw, raw\n",
    "raw = raw_full\n",
    "del raw_full"
   ]
  },
  {
   "cell_type": "code",
   "execution_count": 11,
   "id": "62923aac-ed0b-4505-b4f1-a714bbbdd556",
   "metadata": {},
   "outputs": [],
   "source": [
    "# Classes and startting point for preictal and interictal period\n",
    "classes = {'Interictal': 0, 'Preictal': 1}\n",
    "classes_inv = {0 : 'Interictal', 1: 'Preictal'}\n",
    "\n",
    "x = {}\n",
    "\n",
    "x[0] = [26704, 30314, 33924, 48232, 59020, 67490, 87025, 105426]\n",
    "x[1] = [431, 9062, 27414, 31024, 34634, 38244, 116888, 121098]\n",
    "x[2] = [3600, 7210, 10820, 140211, 152976, 236765]\n",
    "x[3] = [73968, 93487, 118103, 121713, 125323, 240037]\n",
    "x[4] = [3600, 7210, 10820, 14430, 18040, 21650, 25260, 60033, 118208, 135314, 150371, 159181, 166402, 170367]\n",
    "x[5] = [3600, 7210, 10820, 28600, 33546, 45132, 67067, 94692]\n",
    "x[6] = [3600, 7210, 10820, 62187, 67126, 73642]\n",
    "x[7] = [3600, 7210, 10820, 57078, 74850, 94574]\n",
    "\n",
    "list_classes = {}\n",
    "list_classes[0] = [0,0,0,1,1,1,1,0]\n",
    "list_classes[1] = [1,1,0,0,0,0,1,1]\n",
    "list_classes[2] = [0,0,0,1,1,1]\n",
    "list_classes[3] = [1,1,0,0,0,1]\n",
    "list_classes[4] = [0,0,0,0,0,0,0,1,1,1,1,1,1,1]\n",
    "list_classes[5] = [0,0,0,1,1,1,0,1]\n",
    "list_classes[6] = [0,0,0,1,1,1]\n",
    "list_classes[7] = [0,0,0,1,1,1]"
   ]
  },
  {
   "cell_type": "code",
   "execution_count": 12,
   "id": "86420040-65bf-4d3a-826c-7798280b42cb",
   "metadata": {},
   "outputs": [
    {
     "name": "stdout",
     "output_type": "stream",
     "text": [
      "['Interictal', 'Interictal', 'Interictal', 'Preictal', 'Preictal', 'Preictal', 'Preictal', 'Interictal']\n",
      "Used Annotations descriptions: ['Interictal', 'Preictal']\n",
      "['Preictal', 'Preictal', 'Interictal', 'Interictal', 'Interictal', 'Interictal', 'Preictal', 'Preictal']\n",
      "Used Annotations descriptions: ['Interictal', 'Preictal']\n",
      "['Interictal', 'Interictal', 'Interictal', 'Preictal', 'Preictal', 'Preictal']\n",
      "Used Annotations descriptions: ['Interictal', 'Preictal']\n",
      "['Preictal', 'Preictal', 'Interictal', 'Interictal', 'Interictal', 'Preictal']\n",
      "Used Annotations descriptions: ['Interictal', 'Preictal']\n",
      "['Interictal', 'Interictal', 'Interictal', 'Interictal', 'Interictal', 'Interictal', 'Interictal', 'Preictal', 'Preictal', 'Preictal', 'Preictal', 'Preictal', 'Preictal', 'Preictal']\n",
      "Used Annotations descriptions: ['Interictal', 'Preictal']\n",
      "['Interictal', 'Interictal', 'Interictal', 'Preictal', 'Preictal', 'Preictal', 'Interictal', 'Preictal']\n",
      "Used Annotations descriptions: ['Interictal', 'Preictal']\n",
      "['Interictal', 'Interictal', 'Interictal', 'Preictal', 'Preictal', 'Preictal']\n",
      "Used Annotations descriptions: ['Interictal', 'Preictal']\n",
      "['Interictal', 'Interictal', 'Interictal', 'Preictal', 'Preictal', 'Preictal']\n",
      "Used Annotations descriptions: ['Interictal', 'Preictal']\n"
     ]
    }
   ],
   "source": [
    "# Create events\n",
    "list_desc = {}\n",
    "annotations = {}\n",
    "events = {}\n",
    "for k in list_sub:\n",
    "    list_desc[k] = []\n",
    "    for i in list_classes[k]:\n",
    "        list_desc[k].append(classes_inv[i])\n",
    "    print(list_desc[k])\n",
    "\n",
    "    annotations[k] = mne.Annotations(onset=x[k], duration=3600, description=list_desc[k])\n",
    "\n",
    "    raw[k].set_annotations(annotations[k])\n",
    "\n",
    "    events[k] = mne.events_from_annotations(raw[k], event_id=classes)\n",
    "    events[k] = events[k][0]"
   ]
  },
  {
   "cell_type": "code",
   "execution_count": 13,
   "id": "1cb32e2f-30af-47a9-a667-1be7abe62118",
   "metadata": {},
   "outputs": [],
   "source": [
    "# Create labels for hour epochs\n",
    "list_labels_hour = []\n",
    "for k in list_sub:\n",
    "    list_labels_hour.append(list_classes[k])\n",
    "\n",
    "labels_hour = np.concatenate(list_labels_hour, axis=0)"
   ]
  },
  {
   "cell_type": "code",
   "execution_count": null,
   "id": "6d17c005-c8de-4107-aeec-00b6cbf10627",
   "metadata": {},
   "outputs": [],
   "source": [
    "preictal = {}\n",
    "preictal[0] = np.where(labels_hour == 1)[0][0:5]\n",
    "preictal[1] = np.where(labels_hour == 1)[0][5:9]\n",
    "preictal[2] = np.where(labels_hour == 1)[0][9:12]\n",
    "preictal[3] = np.where(labels_hour == 1)[0][12:15]\n",
    "preictal[4] = np.where(labels_hour == 1)[0][15:22]\n",
    "preictal[5] = np.where(labels_hour == 1)[0][22:26]\n",
    "preictal[6] = np.where(labels_hour == 1)[0][26:29]\n",
    "preictal[7] = np.where(labels_hour == 1)[0][29:32]\n",
    "\n",
    "interictal = {}\n",
    "interictal[0] = np.where(labels_hour == 0)[0][0:5]\n",
    "interictal[1] = np.where(labels_hour == 0)[0][5:9]\n",
    "interictal[2] = np.where(labels_hour == 0)[0][9:12]\n",
    "interictal[3] = np.where(labels_hour == 0)[0][12:15]\n",
    "interictal[4] = np.where(labels_hour == 0)[0][15:22]\n",
    "interictal[5] = np.where(labels_hour == 0)[0][22:26]\n",
    "interictal[6] = np.where(labels_hour == 0)[0][26:29]\n",
    "interictal[7] = np.where(labels_hour == 0)[0][29:32]"
   ]
  },
  {
   "cell_type": "code",
   "execution_count": 14,
   "id": "d2c01191-8215-4eae-9e98-3fcd8a44aa4f",
   "metadata": {},
   "outputs": [],
   "source": [
    "# Resampling epochs\n",
    "timestep = {}\n",
    "labels = {}\n",
    "list_time = {}\n",
    "n_epochs = {}\n",
    "\n",
    "for k in list_sub:\n",
    "    timestep[k] = events[k][:,0]\n",
    "    labels[k] = events[k][:,-1]\n",
    "    list_time[k] = []\n",
    "    for i in np.arange(len(timestep[k])):\n",
    "        for j in np.arange(721):\n",
    "            list_time[k].append(timestep[k][i]+5*256*j)\n",
    "\n",
    "    n_epochs[k] = len(list_time[k])"
   ]
  },
  {
   "cell_type": "code",
   "execution_count": 15,
   "id": "0f4cf028-162d-4fdc-9ee6-1677ef3808d8",
   "metadata": {},
   "outputs": [],
   "source": [
    "# Transform label for one hour epoch in 721 labels for 5s epochs\n",
    "list_labels = {}\n",
    "zeros = {}\n",
    "\n",
    "for k in list_sub:\n",
    "    list_labels[k] = []\n",
    "    for i in np.arange(len(timestep[k])):\n",
    "        if (labels[k][i] == 0):\n",
    "            for j in np.arange(721):\n",
    "                 list_labels[k].append(0)\n",
    "        else:\n",
    "            for j in np.arange(721):\n",
    "                 list_labels[k].append(1)\n",
    "                    \n",
    "    zeros[k] = np.zeros(n_epochs[k])\n",
    "    events[k] = np.stack((list_time[k], zeros[k], list_labels[k]), axis=1).astype(int)\n"
   ]
  },
  {
   "cell_type": "code",
   "execution_count": 16,
   "id": "c5c38e11-d6ce-4f19-88dc-55a66faadfaf",
   "metadata": {},
   "outputs": [],
   "source": [
    "# All labels\n",
    "list_all_labels = []\n",
    "for k in list_sub:\n",
    "    list_all_labels = list_all_labels + list_labels[k]\n",
    "n_inputs = len(list_all_labels)"
   ]
  },
  {
   "cell_type": "code",
   "execution_count": 18,
   "id": "7c05ffab-e32a-4b74-a537-3d335ef3a258",
   "metadata": {},
   "outputs": [
    {
     "name": "stdout",
     "output_type": "stream",
     "text": [
      "Not setting metadata\n",
      "5768 matching events found\n",
      "No baseline correction applied\n",
      "0 projection items activated\n",
      "Using data from preloaded Raw for 5768 events and 1280 original time points ...\n",
      "0 bad epochs dropped\n",
      "Not setting metadata\n",
      "5768 matching events found\n",
      "No baseline correction applied\n",
      "0 projection items activated\n",
      "Using data from preloaded Raw for 5768 events and 1280 original time points ...\n",
      "0 bad epochs dropped\n",
      "Not setting metadata\n",
      "4326 matching events found\n",
      "No baseline correction applied\n",
      "0 projection items activated\n",
      "Using data from preloaded Raw for 4326 events and 1280 original time points ...\n",
      "0 bad epochs dropped\n",
      "Not setting metadata\n",
      "4326 matching events found\n",
      "No baseline correction applied\n",
      "0 projection items activated\n",
      "Using data from preloaded Raw for 4326 events and 1280 original time points ...\n",
      "0 bad epochs dropped\n",
      "Not setting metadata\n",
      "10094 matching events found\n",
      "No baseline correction applied\n",
      "0 projection items activated\n",
      "Using data from preloaded Raw for 10094 events and 1280 original time points ...\n",
      "0 bad epochs dropped\n",
      "Not setting metadata\n",
      "5768 matching events found\n",
      "No baseline correction applied\n",
      "0 projection items activated\n",
      "Using data from preloaded Raw for 5768 events and 1280 original time points ...\n",
      "0 bad epochs dropped\n",
      "Not setting metadata\n",
      "4326 matching events found\n",
      "No baseline correction applied\n",
      "0 projection items activated\n",
      "Using data from preloaded Raw for 4326 events and 1280 original time points ...\n",
      "0 bad epochs dropped\n",
      "Not setting metadata\n",
      "4326 matching events found\n",
      "No baseline correction applied\n",
      "0 projection items activated\n",
      "Using data from preloaded Raw for 4326 events and 1280 original time points ...\n",
      "0 bad epochs dropped\n"
     ]
    }
   ],
   "source": [
    "# Create epochs\n",
    "epochs = {}\n",
    "for k in list_sub: \n",
    "    epochs[k] = mne.Epochs(raw[k], events[k], classes, preload=True, tmin=0.005, tmax=5, baseline=None)"
   ]
  },
  {
   "cell_type": "code",
   "execution_count": 19,
   "id": "2cd9f57e-e7b5-4a83-8dd3-c2a8e1241e88",
   "metadata": {},
   "outputs": [
    {
     "name": "stdout",
     "output_type": "stream",
     "text": [
      "(5768, 23, 1280)\n",
      "(5768, 23, 1280)\n",
      "(4326, 23, 1280)\n",
      "(4326, 23, 1280)\n",
      "(10094, 23, 1280)\n",
      "(5768, 23, 1280)\n",
      "(4326, 23, 1280)\n",
      "(4326, 23, 1280)\n"
     ]
    }
   ],
   "source": [
    "for k in list_sub:\n",
    "    print(epochs[k].get_data().shape)"
   ]
  },
  {
   "cell_type": "code",
   "execution_count": 20,
   "id": "0f6c52ed-642d-4ab1-a23a-13e34a4fe19c",
   "metadata": {},
   "outputs": [],
   "source": [
    "del raw"
   ]
  },
  {
   "cell_type": "code",
   "execution_count": 21,
   "id": "b5f066be-2b7b-42c0-ad13-f93296954a05",
   "metadata": {},
   "outputs": [
    {
     "data": {
      "text/plain": [
       "(44702, 23, 1280)"
      ]
     },
     "execution_count": 21,
     "metadata": {},
     "output_type": "execute_result"
    }
   ],
   "source": [
    "# Concatenate EEG matrix\n",
    "epochs_data = {}\n",
    "for k in np.arange(n_subject):\n",
    "    epochs_data[k] = epochs[k].get_data()\n",
    "\n",
    "list_epochs = []\n",
    "for k in np.arange(n_subject):\n",
    "    list_epochs.append(epochs_data[k])\n",
    "\n",
    "power = np.concatenate(list_epochs, axis=0)\n",
    "n_inputs = power.shape[0]\n",
    "n_times = power.shape[2]\n",
    "power.shape"
   ]
  },
  {
   "cell_type": "code",
   "execution_count": null,
   "id": "2c92281e-b65c-46e1-9186-8bef289da8ac",
   "metadata": {},
   "outputs": [],
   "source": [
    "# Variance\n",
    "# Sorted by maximum of variance or minimum of difference\n",
    "import statistics as stats\n",
    "\n",
    "n_elec = 23\n",
    "\n",
    "def var_select(budget):\n",
    "\n",
    "    start = time.time()\n",
    "    inputs_preictal = np.where(np.array(list_all_labels) == 1)[0]\n",
    "    power_preictal = np.swapaxes(power[inputs_preictal], 0, 1)\n",
    "    power_preictal = torch.Tensor(power_preictal)\n",
    "    power_preictal = torch.flatten(power_preictal, start_dim=1, end_dim=2)\n",
    "    power_preictal = np.array(power_preictal)\n",
    "    var_preictal = np.var(power_preictal, axis=1)\n",
    "\n",
    "    var_sorted = np.flip(np.argsort(var_preictal))\n",
    "    x = var_sorted[0:budget]\n",
    "    end = time.time()\n",
    "    exe = end - start\n",
    "    print(f\"TIME : {exe}\")\n",
    "\n",
    "    return x"
   ]
  },
  {
   "cell_type": "code",
   "execution_count": null,
   "id": "08b63e3a-8d54-4d9a-8e1a-2e7ade88a1c2",
   "metadata": {},
   "outputs": [],
   "source": [
    "# Calculate distance matrix per epoch\n",
    "import scipy\n",
    "from sklearn.metrics import mutual_info_score\n",
    "\n",
    "def calc_MI(x, y, bins=20):\n",
    "\n",
    "    c_xy = np.histogram2d(x, y, bins)[0]\n",
    "    mi = mutual_info_score(None, None, contingency=c_xy)\n",
    "\n",
    "    return mi\n",
    "\n",
    "def mat_MI(ID_inputs):\n",
    "\n",
    "    epoch = power[ID_inputs]\n",
    "    mat = scipy.spatial.distance.pdist(epoch, calc_MI)\n",
    "    mat = scipy.spatial.distance.squareform(mat)\n",
    "    return mat"
   ]
  },
  {
   "cell_type": "code",
   "execution_count": null,
   "id": "94cb2116-a18f-4f7c-8d9f-47f1f4cef482",
   "metadata": {},
   "outputs": [],
   "source": [
    "# Calculate distance matrix for MI\n",
    "start = time.time()\n",
    "for s in np.arange(n_inputs):\n",
    "    np.save(f\"MI_CHB/mat_MI_CHB_{s}\", mat_MI(s))\n",
    "end = time.time()\n",
    "exe = end - start\n",
    "print(f\"TIME : {exe}\")"
   ]
  },
  {
   "cell_type": "code",
   "execution_count": null,
   "id": "8266a049-12fd-488b-a12c-7915f06b1ecd",
   "metadata": {},
   "outputs": [],
   "source": [
    "# Load distance matrix\n",
    "dist_mat = {}\n",
    "for l in np.arange(n_inputs):\n",
    "    dist_mat[l] = np.load(f\"MI_CHB/mat_MI_CHB_{l}.npy\")"
   ]
  },
  {
   "cell_type": "code",
   "execution_count": null,
   "id": "bab1666d-f920-45a3-bc13-3314d913628c",
   "metadata": {},
   "outputs": [],
   "source": [
    "# Adjacency matrix\n",
    "import networkx as nx\n",
    "def adj_matrix(dist_mat, seuil):\n",
    "\n",
    "    adj_mat = np.empty((n_elec, n_elec))\n",
    "\n",
    "    for i in np.arange(n_elec):\n",
    "        for j in np.arange(n_elec):\n",
    "            if (dist_mat[i][j] > seuil):\n",
    "                adj_mat[i][j] = 1\n",
    "            else:\n",
    "                adj_mat[i][j] = 0\n",
    "    return adj_mat\n",
    "\n",
    "adj_mat = {}\n",
    "G = {}\n",
    "s = 0.3\n",
    "\n",
    "for l in np.arange(n_inputs):\n",
    "    adj_mat[l] = adj_matrix(dist_mat[l], seuil = s)\n",
    "    adj_mat[l] = np.triu(adj_mat[l], k=1)\n",
    "    G[l] = nx.from_numpy_matrix(adj_mat[l])"
   ]
  },
  {
   "cell_type": "code",
   "execution_count": null,
   "id": "3f872dec-4f9d-4925-8af9-7db611c91f3f",
   "metadata": {},
   "outputs": [],
   "source": [
    "# Graph degree\n",
    "def deg_max(G):\n",
    "    vect_deg = np.empty(n_elec)\n",
    "    for i, j in G.degree():\n",
    "        vect_deg[i] = int(j)\n",
    "\n",
    "    deg_max_G = int(vect_deg.max())\n",
    "    return deg_max_G"
   ]
  },
  {
   "cell_type": "code",
   "execution_count": null,
   "id": "28cb8efb-6c79-4823-8d91-1bf6eafe84f2",
   "metadata": {},
   "outputs": [],
   "source": [
    "# Score function\n",
    "def score(ID_inputs, G, V):\n",
    "    \n",
    "    epoch = power[ID_inputs]\n",
    "\n",
    "    deg_max_G = deg_max(G)\n",
    "    vect_mi = np.empty(len(list(G.neighbors(V))))\n",
    "    score = 0\n",
    "\n",
    "    for i in np.arange(len(list(G.neighbors(V)))):\n",
    "        vect_mi[i] = calc_MI(epoch[V], epoch[list(G.neighbors(V))[i]])\n",
    "\n",
    "    w = np.empty(n_elec)\n",
    "    for i in np.arange(n_elec):\n",
    "        w[i] = epoch[i].mean()\n",
    "\n",
    "    w = abs(w)\n",
    "    w = w[list(G.neighbors(V))]\n",
    "\n",
    "    score = G.degree(V)*(vect_mi*w).sum()/deg_max_G\n",
    "\n",
    "    return score"
   ]
  },
  {
   "cell_type": "code",
   "execution_count": null,
   "id": "ae376339-191b-40ff-b7cf-7caad0e4b8d7",
   "metadata": {},
   "outputs": [],
   "source": [
    "# MI method\n",
    "def selection(budget):\n",
    "\n",
    "    start = time.time()\n",
    "    vect_score_G = np.empty((n_inputs, n_elec))\n",
    "\n",
    "    for i in np.arange(n_inputs):\n",
    "        for j in np.arange(n_elec):\n",
    "            vect_score_G[i,j] = score(i, G[i], j)\n",
    "\n",
    "    mean_score = vect_score_G.mean(axis=0)\n",
    "    elec_sorted_G = np.flip(np.argsort(mean_score))\n",
    "    elec_selected_G = elec_sorted_G[0:budget]\n",
    "    end = time.time()\n",
    "    exe = end - start\n",
    "    print(f\"TIME : {exe}\")\n",
    "    \n",
    "    return elec_selected_G"
   ]
  },
  {
   "cell_type": "code",
   "execution_count": null,
   "id": "524d1ba1-098b-435a-bde7-aaa5562f789c",
   "metadata": {},
   "outputs": [],
   "source": [
    "# K-means and MI\n",
    "from sklearn.cluster import KMeans\n",
    "\n",
    "def kmeans_MI(budget, n_clusters):\n",
    "    \n",
    "    start = time.time()\n",
    "    kmeans = {}\n",
    "    classes_kmeans = {}\n",
    "    \n",
    "    for l in np.arange(n_inputs):\n",
    "        list_classes = []\n",
    "        kmeans[l] = KMeans(n_clusters=n_clusters, random_state=0).fit(dist_mat[l])\n",
    "        for k in np.arange(n_clusters):\n",
    "            list_classes.append(np.where(kmeans[l].labels_ == k)[0])\n",
    "        classes_kmeans[l] = list_classes\n",
    "        \n",
    "    dict_score = {}\n",
    "    for l in np.arange(n_inputs):\n",
    "        vect_score = []\n",
    "        for k in np.arange(n_clusters):\n",
    "            list_score = []\n",
    "            for i in np.arange(len(classes_kmeans[l][k])):\n",
    "                list_score.append(score(l, G[l], classes_kmeans[l][k][i]))\n",
    "            vect_score.append(list_score)\n",
    "        dict_score[l] = vect_score\n",
    "        \n",
    "    rep = {}\n",
    "    for l in np.arange(n_inputs):\n",
    "        list_rep = []\n",
    "        for k in np.arange(n_clusters):\n",
    "            list_rep.append(classes_kmeans[l][k][np.where(dict_score[l][k] == np.array(dict_score[l][k]).max())][0])\n",
    "        rep[l] = list_rep\n",
    "        \n",
    "    mat_rep = np.empty((n_inputs, n_clusters))\n",
    "    for l in np.arange(n_inputs):\n",
    "        mat_rep[l] = rep[l]\n",
    "    mat_rep = mat_rep.astype('int')\n",
    "    \n",
    "    elec_sorted = np.flip(np.argsort(np.unique(mat_rep, return_counts=True)[1]))\n",
    "    elec_selected = elec_sorted[0:budget]\n",
    "    end = time.time()\n",
    "    exe = end - start\n",
    "    print(f\"TIME : {exe}\")\n",
    "    \n",
    "    return elec_selected"
   ]
  },
  {
   "cell_type": "code",
   "execution_count": null,
   "id": "2a2fcca8-c25f-4dd1-82fc-dc4bd00c65be",
   "metadata": {},
   "outputs": [],
   "source": [
    "# Select D(E_k)\n",
    "def power_select(selection):\n",
    "    power_sel = np.empty((n_inputs, budget, n_times))\n",
    "    for l in np.arange(n_inputs):\n",
    "        for s in np.arange(budget):\n",
    "            power_sel[l][s] = power[l][selection[s]]\n",
    "    return power_sel"
   ]
  },
  {
   "cell_type": "code",
   "execution_count": null,
   "id": "60f7ea74-fa84-4659-af8d-177331a74885",
   "metadata": {},
   "outputs": [],
   "source": [
    "budget = 10\n",
    "\n",
    "# Variance\n",
    "#var_selection = var_select(budget=budget)\n",
    "# [20,  8,  4,  7, 19, 12,  3,  0, 11, 15, 16,  1,  5, 17, 13,  9, 18, 2,  6, 14, 22, 10]\n",
    "\n",
    "# MI\n",
    "#MI_selection = selection(budget=23)\n",
    "# array([12,  4,  0,  8,  5,  9, 16,  1, 13,  6, 10,  7, 17,  2, 18, 14, 22, 20, 11,  3, 15, 19, 21])\n",
    "\n",
    "#K-means\n",
    "#selection_kmeans = kmeans_MI(budget=23, n_clusters=5)\n",
    "# array([ 2, 14, 18, 22, 12,  0,  6,  5,  1,  4, 10,  9, 13, 20, 16,  8,  7, 11, 17,  3, 19, 21, 15])\n",
    "\n",
    "power_selection = power_select(selection)\n",
    "power_selection.shape"
   ]
  },
  {
   "cell_type": "code",
   "execution_count": null,
   "id": "329f847f-2fe5-4fe8-99a2-cb05aea13e9a",
   "metadata": {},
   "outputs": [],
   "source": [
    "del epochs, epochs_data, list_epochs"
   ]
  },
  {
   "cell_type": "code",
   "execution_count": null,
   "id": "0623768b-0ea7-4f10-82f1-6d041469e44a",
   "metadata": {},
   "outputs": [],
   "source": [
    "# Define y vector for binary cross entropy\n",
    "def labels_input(n_subject):\n",
    "\n",
    "    target = np.array([])\n",
    "    for s in np.arange(n_subject):\n",
    "        target = np.concatenate((target, events[s][:,-1]))\n",
    "\n",
    "    labels = {}\n",
    "    for i in np.arange(n_inputs):\n",
    "        labels[f\"id_input_{i}\"] = target[i]\n",
    "        if (labels[f\"id_input_{i}\"] == 0):\n",
    "            labels[f\"id_input_{i}\"] = torch.tensor([1,0])\n",
    "        else:\n",
    "            labels[f\"id_input_{i}\"] = torch.tensor([0,1])\n",
    "    print(len(target), len(labels))\n",
    "    print(target.sum())\n",
    "    return labels\n",
    "\n",
    "labels_inp = labels_input(n_subject)"
   ]
  },
  {
   "cell_type": "code",
   "execution_count": null,
   "id": "67582ae9-fef4-4787-9bf2-9bf633a70cc4",
   "metadata": {},
   "outputs": [],
   "source": [
    "# Split train, validation and test\n",
    "from sklearn.model_selection import train_test_split\n",
    "ID = np.arange(n_inputs)\n",
    "ID_train, ID_val_test = train_test_split(ID, train_size=0.7, shuffle=True, random_state=37, stratify = np.array(list_all_labels))\n",
    "ID_val, ID_test = train_test_split(ID_val_test, train_size=0.5, shuffle=True, random_state=37, stratify = np.array(list_all_labels)[ID_val_test])"
   ]
  },
  {
   "cell_type": "markdown",
   "id": "851c195c-5fa3-4a05-9777-d506d7f36b95",
   "metadata": {
    "jp-MarkdownHeadingCollapsed": true,
    "tags": []
   },
   "source": [
    "list_ID_train = create_id(ID_train)\n",
    "list_ID_val = create_id(ID_val)\n",
    "list_ID_test = create_id(ID_test)\n",
    "len(list_ID_train)"
   ]
  },
  {
   "cell_type": "code",
   "execution_count": null,
   "id": "cfb51380-002a-4ad9-a8bc-bef388a13481",
   "metadata": {},
   "outputs": [],
   "source": [
    "# Create dataset \n",
    "class Dataset(torch.utils.data.Dataset):\n",
    "      'Characterizes a dataset for PyTorch'\n",
    "      def __init__(self, ID_pic, labels, power):\n",
    "            'Initialization'\n",
    "            self.labels = labels\n",
    "            self.ID_pic = ID_pic\n",
    "            self.power = power\n",
    "\n",
    "      def __len__(self):\n",
    "            'Denotes the total number of samples'\n",
    "            return len(self.ID_pic)\n",
    "\n",
    "      def __getitem__(self, index):\n",
    "            'Generates one sample of data'\n",
    "            ID = self.ID_pic[index]\n",
    "            # Load data and get label\n",
    "            X = self.power[ID]\n",
    "            y = self.labels[f\"id_input_{ID}\"]\n",
    "\n",
    "            return X, y"
   ]
  },
  {
   "cell_type": "code",
   "execution_count": null,
   "id": "271bac32-9da0-4d46-aae8-0d6e4b517e1a",
   "metadata": {},
   "outputs": [],
   "source": [
    "# Dataset and dataloader\n",
    "params = {'batch_size': 128, 'shuffle': True}\n",
    "\n",
    "train_set = Dataset(ID_train, labels_inp, power_selection)\n",
    "train_dataloader = torch.utils.data.DataLoader(train_set, **params)\n",
    "\n",
    "val_set = Dataset(ID_val, labels_inp, power_selection)\n",
    "val_dataloader = torch.utils.data.DataLoader(val_set, **params)\n",
    "\n",
    "test_set = Dataset(ID_test, labels_inp, power_selection)\n",
    "test_dataloader = torch.utils.data.DataLoader(test_set, **params)"
   ]
  },
  {
   "cell_type": "code",
   "execution_count": null,
   "id": "40828746-e6bf-46df-b88c-d3e33edea163",
   "metadata": {},
   "outputs": [],
   "source": [
    "# Use GPUs\n",
    "device = torch.device(\"cuda:0\" if torch.cuda.is_available() else \"cpu\")"
   ]
  },
  {
   "cell_type": "code",
   "execution_count": null,
   "id": "fb9df5da-4ec2-4451-b50a-0511612fe1a2",
   "metadata": {},
   "outputs": [],
   "source": [
    "# CNN\n",
    "class CNN(nn.Module):\n",
    "\n",
    "    def __init__(self, pad1, pad2, pad3, pad4):\n",
    "\n",
    "        super(CNN, self).__init__()\n",
    "        self.conv1 = nn.Conv2d(1, 32, kernel_size=(2,2), padding=pad1)\n",
    "        self.conv2 = nn.Conv2d(32, 32, kernel_size=(2,2), padding=pad2)\n",
    "        self.conv3 = nn.Conv2d(32, 32, kernel_size=(2,2), padding=pad3)\n",
    "        self.conv4 = nn.Conv2d(32, 32, kernel_size=(2,2), padding=pad4)\n",
    "        self.BatchNorm1 = nn.BatchNorm2d(32, eps=1e-05, momentum=0.01, affine=True, track_running_stats=False)\n",
    "        self.BatchNorm2 = nn.BatchNorm2d(32, eps=1e-05, momentum=0.01, affine=True, track_running_stats=False)\n",
    "        self.BatchNorm3 = nn.BatchNorm2d(32, eps=1e-05, momentum=0.01, affine=True, track_running_stats=False)\n",
    "        self.BatchNorm4 = nn.BatchNorm2d(32, eps=1e-05, momentum=0.01, affine=True, track_running_stats=False)\n",
    "        self.fc1 = nn.Linear(32*160, 300)\n",
    "        self.fc2 = nn.Linear(300, 100)\n",
    "        self.fc3 = nn.Linear(100, 50)\n",
    "        self.fc4 = nn.Linear(50, 20)\n",
    "        self.fc5 = nn.Linear(20, 2)\n",
    "        self.softmax = nn.Softmax(dim=1)\n",
    "\n",
    "    def forward(self, x):\n",
    "        x = F.relu(self.conv1(x))\n",
    "        #print(x.shape)\n",
    "        x = self.BatchNorm1(x)\n",
    "        x = F.max_pool2d(x, kernel_size=2)\n",
    "        #print(x.shape)\n",
    "        x = F.relu(self.conv2(x))\n",
    "        #print(x.shape)\n",
    "        x = self.BatchNorm2(x)\n",
    "        x = F.max_pool2d(x, kernel_size=2)\n",
    "        #print(x.shape)\n",
    "        x = F.relu(self.conv3(x))\n",
    "        #print(x.shape)\n",
    "        x = self.BatchNorm3(x)\n",
    "        x = F.max_pool2d(x, kernel_size=2)\n",
    "        #print(x.shape)\n",
    "        x = F.relu(self.conv4(x))\n",
    "        #print(x.shape)\n",
    "        x = self.BatchNorm4(x)\n",
    "        x = torch.flatten(x, start_dim=1, end_dim=3)\n",
    "        x = F.relu(self.fc1(x))\n",
    "        x = F.relu(self.fc2(x))\n",
    "        x = F.relu(self.fc3(x))\n",
    "        x = F.relu(self.fc4(x))\n",
    "        x = self.fc5(x)\n",
    "        x = self.softmax(x)\n",
    "\n",
    "        return x\n",
    "\n",
    "\n",
    "# Zero-padding\n",
    "if (budget in [1,2]):\n",
    "    cnn = CNN((4,1), \"same\", \"same\", \"same\")\n",
    "elif (budget in [3,4]):\n",
    "    cnn = CNN((3,1), \"same\", \"same\", \"same\")\n",
    "elif (budget in [5,6]):\n",
    "    cnn = CNN((2,1), \"same\", \"same\", \"same\")\n",
    "elif (budget in [7,8]):\n",
    "    cnn = CNN((1,1), \"same\", \"same\", \"same\")\n",
    "elif (budget in np.arange(9,17)):\n",
    "    cnn = CNN((0,1), \"same\", \"same\", \"same\")\n",
    "elif (budget in np.arange(17,23)):\n",
    "    cnn = CNN((0,1), (0,1), (0,1), \"same\")\n",
    "elif (budget in np.arange(23,24)):\n",
    "    cnn = CNN((0,0), (0,2), (0,1), (0,0))\n",
    "    \n",
    "cnn = cnn.to(device)"
   ]
  },
  {
   "cell_type": "code",
   "execution_count": null,
   "id": "3b9f500b-965b-4e25-8a41-79d5d44d3160",
   "metadata": {},
   "outputs": [],
   "source": [
    "# Add dimension to EEG matrix to have tensor of size (1, n_E, n_t)\n",
    "def correct_input(inputs):\n",
    "    inputs = np.array(inputs)\n",
    "    inputs = np.expand_dims(inputs, axis = 1)\n",
    "    inputs = torch.from_numpy(inputs)\n",
    "    inputs = inputs.float()\n",
    "    return inputs"
   ]
  },
  {
   "cell_type": "code",
   "execution_count": null,
   "id": "6ed26f5c-c9ef-47b8-8b5d-b9c38357cb51",
   "metadata": {},
   "outputs": [],
   "source": [
    "# Validation function for early stopping\n",
    "def validation(model, val_dataloader, loss_function):\n",
    "    model.eval()\n",
    "    loss_total = 0\n",
    "\n",
    "    # Test validation data\n",
    "    with torch.no_grad():\n",
    "        for i, data in enumerate(val_dataloader):\n",
    "            inputs, labels = data\n",
    "            inputs = correct_input(inputs)\n",
    "            inputs, labels = inputs.to(device), labels.to(device)\n",
    "            inputs = inputs.float()\n",
    "            labels = labels.float()\n",
    "            outputs = model(inputs)\n",
    "            loss = loss_function(outputs, labels)\n",
    "            loss_total += loss.item()\n",
    "\n",
    "    return loss_total / len(val_dataloader)"
   ]
  },
  {
   "cell_type": "code",
   "execution_count": null,
   "id": "60182460-9e50-4771-a484-df2b72ba77c8",
   "metadata": {},
   "outputs": [],
   "source": [
    "# Training function\n",
    "def train(model, epochs, optimizer, loss_function, train_dataloader, val_dataloader):\n",
    "\n",
    "    last_loss = 100\n",
    "    patience = 20\n",
    "    trigger_times = 0\n",
    "    loss_train = []\n",
    "    loss_val = []\n",
    "\n",
    "    for epoch in range(1, epochs+1):  # loop over the dataset multiple times\n",
    "        model.train()\n",
    "        running_loss = 0.0\n",
    "        for i, data in enumerate(train_dataloader):\n",
    "            # get the inputs; data is a list of [inputs, labels]\n",
    "            inputs, labels = data\n",
    "            inputs = correct_input(inputs)\n",
    "            inputs, labels = inputs.to(device), labels.to(device)\n",
    "            inputs = inputs.float()\n",
    "            #labels = torch.Tensor.cpu(labels)\n",
    "            labels = labels.float()\n",
    "            # zero the parameter gradients\n",
    "            optimizer.zero_grad()\n",
    "\n",
    "            # forward + backward + optimize\n",
    "            outputs = model(inputs)\n",
    "            loss = loss_function(outputs, labels)\n",
    "            loss.backward()\n",
    "            optimizer.step()\n",
    "\n",
    "            # Show progress\n",
    "            running_loss += loss.item()\n",
    "            if i % 5 == 0 or i == len(train_dataloader):\n",
    "                print('[{}/{}, {}/{}] loss: {:.8}'.format(epoch, epochs, i, len(train_dataloader), loss.item()))\n",
    "            print(\"running lose :\", running_loss)\n",
    "        print(\"Training loss :\", running_loss / len(train_dataloader))\n",
    "        loss_train.append(running_loss / len(train_dataloader))\n",
    "\n",
    "        # Early stopping\n",
    "        current_loss = validation(model, val_dataloader, loss_function)\n",
    "        print('Validation loss:', current_loss)\n",
    "        loss_val.append(current_loss)\n",
    "\n",
    "        if current_loss > last_loss:\n",
    "            trigger_times += 1\n",
    "            print('Trigger Times:', trigger_times)\n",
    "\n",
    "            if trigger_times >= patience:\n",
    "                print('Early stopping!\\nStart to test process.')\n",
    "                return model\n",
    "\n",
    "        else:\n",
    "            print('trigger times: 0')\n",
    "            trigger_times = 0\n",
    "\n",
    "        last_loss = current_loss\n",
    "        \n",
    "    return model, loss_train, loss_val"
   ]
  },
  {
   "cell_type": "code",
   "execution_count": null,
   "id": "21a6e3ba-df41-4b9c-a59c-e64f8d6245cd",
   "metadata": {},
   "outputs": [],
   "source": [
    "# Evaluation\n",
    "from sklearn.metrics import confusion_matrix\n",
    "import pandas as pd\n",
    "\n",
    "def test(model, test_dataloader):\n",
    "    y_true = np.empty(0)\n",
    "    y_pred = np.empty(0)\n",
    "\n",
    "    # since we're not training, we don't need to calculate the gradients for our outputs\n",
    "    with torch.no_grad():\n",
    "        for data in test_dataloader:\n",
    "            inputs, labels = data\n",
    "            inputs = correct_input(inputs)\n",
    "            inputs, labels = inputs.to(device), labels.to(device)\n",
    "            inputs = inputs.float()\n",
    "            labels = torch.Tensor.cpu(labels)\n",
    "            classes = np.argmax(labels, axis=1)\n",
    "            \n",
    "            y_true = np.concatenate((y_true, classes))\n",
    "            # calculate outputs by running images through the network\n",
    "            outputs = model(inputs)\n",
    "            outputs = torch.Tensor.cpu(outputs)\n",
    "            outputs = outputs.detach().numpy()\n",
    "\n",
    "            # the class with the highest energy is what we choose as prediction\n",
    "            predicted = np.argmax(outputs, axis=1)\n",
    "            \n",
    "            y_pred = np.concatenate((y_pred, predicted))\n",
    "            \n",
    "        tn, fp, fn, tp = confusion_matrix(y_true, y_pred).ravel()\n",
    "\n",
    "        accuracy = (tn + tp) / (tn + fp + fn + tp) * 100\n",
    "        specificity = tn / (tn+fp) * 100\n",
    "        sensitivity = tp / (tp+fn) * 100\n",
    "        d = {'Vrai Preictal': [tp, fn], 'Vrai Interictal': [fp, tn]}\n",
    "        m_conf = pd.DataFrame(data=d, index=['Preictal prédit', 'Interictal prédit'])\n",
    "        \n",
    "    return accuracy, sensitivity, specificity, m_conf"
   ]
  },
  {
   "cell_type": "code",
   "execution_count": null,
   "id": "bc8707ac-8745-4230-aab1-4ad55bcd7958",
   "metadata": {},
   "outputs": [],
   "source": [
    "# Training with several iteration\n",
    "import torch.optim as optim\n",
    "import time\n",
    "\n",
    "# Seed\n",
    "seed = 123\n",
    "torch.manual_seed(seed)\n",
    "#torch.cuda.manual_seed(seed)\n",
    "#torch.cuda.manual_seed_all(seed)\n",
    "np.random.seed(seed)\n",
    "random.seed(seed)\n",
    "torch.backends.cudnn.benchmark = False\n",
    "torch.backends.cudnn.deterministic = True\n",
    "\n",
    "n = 1\n",
    "list_acc = []\n",
    "i = 0\n",
    "\n",
    "start = time.time()\n",
    "while i < n:\n",
    "    \n",
    "    if (budget in [1,2]):\n",
    "        cnn = CNN((4,1), \"same\", \"same\", \"same\")\n",
    "    elif (budget in [3,4]):\n",
    "        cnn = CNN((3,1), \"same\", \"same\", \"same\")\n",
    "    elif (budget in [5,6]):\n",
    "        cnn = CNN((2,1), \"same\", \"same\", \"same\")\n",
    "    elif (budget in [7,8]):\n",
    "        cnn = CNN((1,1), \"same\", \"same\", \"same\")\n",
    "    elif (budget in np.arange(9,17)):\n",
    "        cnn = CNN((0,1), \"same\", \"same\", \"same\")\n",
    "    elif (budget in np.arange(17,23)):\n",
    "        cnn = CNN((0,1), (0,1), (0,1), \"same\")\n",
    "    elif (budget in np.arange(23,24)):\n",
    "        cnn = CNN((0,0), (0,2), (0,1), (0,0))\n",
    "    \n",
    "    cnn = cnn.to(device)\n",
    "    \n",
    "    dataset = \"CHB-MIT\"\n",
    "    criterion = nn.BCELoss()\n",
    "    lr = 0.001\n",
    "    it = 150\n",
    "    optimizer = optim.SGD(cnn.parameters(), lr=lr) \n",
    "    cnn_train, loss_train, loss_val = train(cnn, it, optimizer, criterion, train_dataloader, val_dataloader)\n",
    "    acc, sens, spe, m_conf = test(cnn_train, test_dataloader)\n",
    "    list_acc.append(acc)\n",
    "    i += 1\n",
    "    \n",
    "end = time.time()\n",
    "exe = end - start\n",
    "print(f\"Temps d'execution : {exe}\")"
   ]
  },
  {
   "cell_type": "code",
   "execution_count": null,
   "id": "59553e23-c299-4796-a38b-3808dd8276e0",
   "metadata": {},
   "outputs": [],
   "source": [
    "# Plot loss train and loss validation, accuracy, sensitivity and specificity\n",
    "plt.figure(0)\n",
    "plt.plot(loss_train, label=\"Erreur d'apprentissage\")\n",
    "plt.plot(loss_val, label=\"Erreur de validation\")\n",
    "plt.legend()\n",
    "plt.figtext(0.1, 0, f\"Accuracy : {acc}\")\n",
    "plt.figtext(0.1, -0.05, f\"Sensitivité : {sens}\")\n",
    "plt.figtext(0.1, -0.1, f\"Spécificité : {spe}\")\n",
    "plt.figtext(0.1, -0.25, f\"         {m_conf}\".replace(\"455\", \"455 \").replace(\"Predicted Object \", \"Predicted Object\"))\n",
    "plt.figtext(0.65, 0, f\"Jeu de données : {dataset}\")\n",
    "plt.figtext(0.65, -0.05, f\"Nombre d'entrées : {n_inputs}\")\n",
    "plt.figtext(0.65, -0.1, f\"Nombre d'itérations : {it}\")\n",
    "plt.figtext(0.65, -0.15, f\"Taille du batch : {params['batch_size']}\")\n",
    "plt.figtext(0.65, -0.2, f\"Budget d'électrodes : {budget}\")\n",
    "plt.figtext(0.65, -0.25, f\"Taux d'apprentissage : {lr}\")\n",
    "plt.savefig(f\"graph_{dataset}_lr_{lr}_batch_{params['batch_size']}_budget_{budget}.pdf\", bbox_inches = 'tight')"
   ]
  },
  {
   "cell_type": "code",
   "execution_count": null,
   "id": "645abd4e-0a20-4003-bb06-1a24e19cdf82",
   "metadata": {},
   "outputs": [],
   "source": [
    "# Test method\n",
    "def selection_by_test(budget, power, it, method):\n",
    "    \n",
    "    start = time.time()\n",
    "    mat_acc = np.empty((n_elec, it))\n",
    "\n",
    "    if (method == 'unif'):\n",
    "        for l in np.arange(n_elec):\n",
    "            power_unif = power.copy()\n",
    "            for i in np.arange(it):\n",
    "                np.random.seed(i)\n",
    "                for k in np.arange(n_inputs):\n",
    "                    power_unif[k][l] = np.random.uniform(power.min(), power.max(), n_times)\n",
    "\n",
    "                test_set = Dataset(ID_test, labels_inp, power_unif)\n",
    "                test_dataloader = torch.utils.data.DataLoader(test_set, **params)\n",
    "                acc, sens, spe, m_conf = test(cnn_train, test_dataloader)\n",
    "                mat_acc[l,i] = acc\n",
    "                print(l,i)\n",
    "    \n",
    "    elec_sorted = np.argsort(np.mean(mat_acc, axis=1))\n",
    "    elec_selected = elec_sorted[0:budget]\n",
    "    end = time.time()\n",
    "    exe = end - start\n",
    "    print(f\"TIME : {exe}\")\n",
    "                \n",
    "    return mat_acc, power_unif, elec_selected"
   ]
  },
  {
   "cell_type": "code",
   "execution_count": null,
   "id": "0a05ba56-8635-4278-a6a1-a1f7bb60bccc",
   "metadata": {},
   "outputs": [],
   "source": [
    "#mat_acc, power_unif, elec_selected = selection_by_test(budget=10, power=power_selection, it=1, method='unif')"
   ]
  },
  {
   "cell_type": "code",
   "execution_count": null,
   "id": "5a4e1f16-c947-4556-a5ef-1787d22421ba",
   "metadata": {},
   "outputs": [],
   "source": [
    "# Learning method\n",
    "import torch.optim as optim\n",
    "\n",
    "def selection_by_learning(budget, power, method):\n",
    "    \n",
    "    start = time.time()\n",
    "    vect_acc = np.empty((n_elec))\n",
    "    \n",
    "    for l in np.arange(n_elec):\n",
    "        power_unif = power.copy()\n",
    "        for k in np.arange(n_inputs):\n",
    "            if (method == 'unif'):\n",
    "                power_unif[k][l] = np.random.uniform(power.min(), power.max(), n_times)\n",
    "\n",
    "        cnn = CNN((0,0), (0,2), (0,1), (0,0))\n",
    "        cnn = cnn.to(device)\n",
    "\n",
    "        train_set = Dataset(ID_train, labels_inp, power_unif)\n",
    "        train_dataloader = torch.utils.data.DataLoader(train_set, **params)\n",
    "\n",
    "        val_set = Dataset(ID_val, labels_inp, power_unif)\n",
    "        val_dataloader = torch.utils.data.DataLoader(val_set, **params)\n",
    "\n",
    "        test_set = Dataset(ID_test, labels_inp, power_unif)\n",
    "        test_dataloader = torch.utils.data.DataLoader(test_set, **params)\n",
    "        \n",
    "        criterion = nn.BCELoss()\n",
    "        lr = 0.001\n",
    "        optimizer = optim.SGD(cnn.parameters(), lr=lr) \n",
    "\n",
    "        cnn_train, loss_train, loss_val = train(cnn, 150, optimizer, criterion, train_dataloader, val_dataloader)\n",
    "        acc, sens, spe, m_conf = test(cnn_train, test_dataloader)\n",
    "\n",
    "        vect_acc[l] = acc\n",
    "        \n",
    "        print(f\"END TRAINING {l}\")\n",
    "    \n",
    "    elec_sorted = np.argsort(vect_acc)\n",
    "    elec_selected = elec_sorted[0:budget]\n",
    "    end = time.time()\n",
    "    exe = end - start\n",
    "    print(f\"TIME : {exe}\")\n",
    "    \n",
    "    return vect_acc, elec_selected"
   ]
  },
  {
   "cell_type": "code",
   "execution_count": null,
   "id": "be0bb9ad-712e-4aea-9986-c2f3b72c9641",
   "metadata": {},
   "outputs": [],
   "source": [
    "# vect_acc, elec_selected = selection_by_learning(budget=23, power=power_selection, method='unif')"
   ]
  },
  {
   "cell_type": "code",
   "execution_count": null,
   "id": "3f909e3d-1320-4af7-a87b-42a2a4d31deb",
   "metadata": {},
   "outputs": [],
   "source": [
    "# Hybrid method\n",
    "# Seed\n",
    "seed = 123\n",
    "torch.manual_seed(seed)\n",
    "#torch.cuda.manual_seed(seed)\n",
    "#torch.cuda.manual_seed_all(seed)\n",
    "np.random.seed(seed)\n",
    "random.seed(seed)\n",
    "torch.backends.cudnn.benchmark = False\n",
    "torch.backends.cudnn.deterministic = True\n",
    "\n",
    "def hybrid(budget, power):\n",
    "    \n",
    "    E = np.arange(n_elec)\n",
    "    E_k = []\n",
    "\n",
    "    while len(E_k) < budget:\n",
    "        \n",
    "        start = time.time()\n",
    "        acc_min = 101\n",
    "        e_min = 30\n",
    "\n",
    "        for l in np.delete(E, E_k):\n",
    "\n",
    "            power_unif = power.copy()\n",
    "\n",
    "            for k in np.arange(n_inputs):\n",
    "                for j in E_k:\n",
    "                    power_unif[k][j] = np.random.uniform(power.min(), power.max(), n_times)\n",
    "\n",
    "            for k in np.arange(n_inputs):\n",
    "                power_unif[k][l] = np.random.uniform(power.min(), power.max(), n_times)\n",
    "\n",
    "            test_set = Dataset(ID_test, labels_inp, power_unif)\n",
    "            test_dataloader = torch.utils.data.DataLoader(test_set, **params)\n",
    "            acc, sens, spe, m_conf = test(cnn_train, test_dataloader)\n",
    "\n",
    "            if (acc < acc_min):\n",
    "                acc_min = acc\n",
    "                e_min = l\n",
    "        \n",
    "        E_k.append(e_min)\n",
    "\n",
    "        print(f\"LENGTH E_K : {len(E_k)}\")\n",
    "        print(E_k)\n",
    "        end = time.time()\n",
    "        exe = end - start\n",
    "        print(f\"TIME : {exe}\")\n",
    "                \n",
    "    return E_k"
   ]
  },
  {
   "cell_type": "code",
   "execution_count": null,
   "id": "0550626a-2bd2-43ba-993e-5b1627f58e79",
   "metadata": {},
   "outputs": [],
   "source": [
    "#elec_selected = hybrid(budget=10, power=power_selection)"
   ]
  }
 ],
 "metadata": {
  "kernelspec": {
   "display_name": "Python 3 (ipykernel)",
   "language": "python",
   "name": "python3"
  },
  "language_info": {
   "codemirror_mode": {
    "name": "ipython",
    "version": 3
   },
   "file_extension": ".py",
   "mimetype": "text/x-python",
   "name": "python",
   "nbconvert_exporter": "python",
   "pygments_lexer": "ipython3",
   "version": "3.9.10"
  }
 },
 "nbformat": 4,
 "nbformat_minor": 5
}
